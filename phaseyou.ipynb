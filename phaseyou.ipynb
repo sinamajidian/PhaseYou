{
 "cells": [
  {
   "cell_type": "code",
   "execution_count": 49,
   "metadata": {},
   "outputs": [
    {
     "name": "stdout",
     "output_type": "stream",
     "text": [
      "Num phaseblocks in sample one is  5\n",
      "Num phaseblocks in sample two is  5\n",
      "Num phaseblocks in sample three is  265\n",
      "Num phaseblocks in sample four is  267\n",
      "Num vars in sample five-parental is  1306\n",
      "Num all vars is  3792\n",
      "number of occurance of weird=two variants are in the same block, but far from each other  0\n"
     ]
    }
   ],
   "source": [
    "\n",
    "vcf_file_address =  \"22_5smp_4k.vcf\" #\"a/22_2k.vcf\" #  \"22_all.vcf\"  \"a/22_2k.vcf\" #  \"a/22_2k.vcf\"#   #\"22_allps_200.vcf\"  \n",
    "vcf_file = open(vcf_file_address,'r');\n",
    "\n",
    "\n",
    "blockid_blocks_s1 = []\n",
    "allele_blocks_s1 = []\n",
    "varpos_blocks_s1 = []\n",
    "\n",
    "\n",
    "blockid_blocks_s2 = []\n",
    "allele_blocks_s2 = []\n",
    "varpos_blocks_s2 = []\n",
    "\n",
    "blockid_blocks_s3 = []\n",
    "allele_blocks_s3 = []\n",
    "varpos_blocks_s3 = []\n",
    "\n",
    "blockid_blocks_s4 = []\n",
    "allele_blocks_s4 = []\n",
    "varpos_blocks_s4 = []\n",
    "\n",
    "var_blockids1_blocks_s2 = []   # for each var in s2, shows the s1 blockid\n",
    "var_blockids1_blocks_s3 = []   # for each var in s3, shows the s1 blockid\n",
    "var_blockids1_blocks_s4 = []   # for each var in s4, shows the s1 blockid\n",
    "\n",
    "\n",
    "# for parental that it's only one block per chr so it doesn't have blockid\n",
    "alleles_s5 = []\n",
    "varposs_s5 = []\n",
    "\n",
    "\n",
    "varposs_all = []\n",
    "\n",
    "num_weird_occurs=0\n",
    "\n",
    "header_lines_list = []\n",
    "for line in vcf_file:\n",
    "    line_strip = line.strip()\n",
    "    \n",
    "    if line_strip.startswith('#'):\n",
    "        header_lines_list.append(line_strip)\n",
    "        sample_names = line_strip.split('\\t')[9:]   # last line of header contains sample name\n",
    "        #print(sample_names)\n",
    "        \n",
    "    else:\n",
    "        line_parts = line_strip.split('\\t')\n",
    "        \n",
    "        #gt_flags, s1, sss, ss, s2, s5 = line_parts[8:]\n",
    "        gt_flags, s1, s2,s3,s4, s5 = line_parts[8:]       # hifi-whatshp illumina-whatshp hifi-hapcut illumina-hapcut true\n",
    "\n",
    "        varpos = int(line_parts[1])                 # variant position\n",
    "        \n",
    "        varposs_all.append(varpos)\n",
    "        gt_flags_split = gt_flags.split(\":\")\n",
    "        \n",
    "        if \"PS\" in gt_flags_split:\n",
    "            idx_ps = gt_flags.split(\":\").index(\"PS\")\n",
    "            idx_gt = gt_flags.split(\":\").index(\"GT\")\n",
    "            \n",
    "\n",
    "                                                 ## s5- parental - last sample in the vcf file\n",
    "            split_s5 = s5.split(\":\")\n",
    "            allele_s5 = split_s5[idx_gt]\n",
    "            blockid_s5 = split_s5[idx_ps]\n",
    "            \n",
    "            if allele_s5 != \"./.\":\n",
    "                alleles_s5.append(int(allele_s5[0]))\n",
    "                varposs_s5.append(varpos)\n",
    "\n",
    "            \n",
    "            \n",
    "                                                ###  sample 1 ###\n",
    "            split_s1 = s1.split(\":\")\n",
    "            blockid_s1 = split_s1[idx_ps]\n",
    "            allele_s1 = split_s1[idx_gt]\n",
    "            \n",
    "\n",
    "            if blockid_s1 == \".\":                                 # unphased variants for sample one\n",
    "                pass\n",
    "            \n",
    "            elif blockid_s1 in blockid_blocks_s1:\n",
    "                assert allele_s1[1] == \"|\", \"allele_s1[1] should be | and so phased. A non-phased variant is in the phase block\"\n",
    "                \n",
    "                #if blockid_s1 == previous_blockid_s1: previous_blockid_s1_idx has been defined in previous variant which is the last idx\n",
    "                if blockid_s1 != previous_blockid_s1:  \n",
    "                    # weird situation happens for whatshap in which two variants are in the same block but in between there is/are other phaseblock(s)\n",
    "                    # note that the unphased variants are ignored sooner and are not considered here\n",
    "                    previous_blockid_s1_idx = blockid_blocks_s1.index(blockid_s1)\n",
    "                    #print(\"two variants are in the same block, but far from each other\",varpos)                \n",
    "                    num_weird_occurs+=1\n",
    "\n",
    "                allele_blocks_s1[previous_blockid_s1_idx].append( int(allele_s1[0]) )\n",
    "                varpos_blocks_s1[previous_blockid_s1_idx].append( varpos ) \n",
    "\n",
    "                \n",
    "            else:                                                  # A new block started, it can be the first block\n",
    "                \n",
    "                allele_blocks_s1.append( [int(allele_s1[0])] )     # alleles of a phase block (all vars are hetrozygous) \n",
    "                varpos_blocks_s1.append( [varpos] )                # variant posistion of a block\n",
    "                blockid_blocks_s1.append( blockid_s1 )             # add the blockid of the first var  to the list of blockids\n",
    "                \n",
    "                previous_blockid_s1 = blockid_s1\n",
    "                previous_blockid_s1_idx = len(blockid_blocks_s1)-1  # the index of the last block id\n",
    "                \n",
    "\n",
    "\n",
    "                \n",
    "       \n",
    "    \n",
    "                                                ###  sample 2 ###\n",
    "            split_s2 = s2.split(\":\")\n",
    "            blockid_s2 = split_s2[idx_ps]\n",
    "            allele_s2 = split_s2[idx_gt]\n",
    "            if blockid_s2 == \".\":\n",
    "                pass\n",
    "            elif blockid_s2 in blockid_blocks_s2:\n",
    "                assert allele_s2[1] == \"|\", \"allele_s2[1] should be | and so phased. A non-phased variant is in the phase block\"\n",
    "                \n",
    "                if blockid_s2 != previous_blockid_s2:  \n",
    "                    previous_blockid_s2_idx = blockid_blocks_s2.index(blockid_s2)\n",
    "                    num_weird_occurs+=1\n",
    "                allele_blocks_s2[previous_blockid_s2_idx].append( int(allele_s2[0]) )\n",
    "                varpos_blocks_s2[previous_blockid_s2_idx].append( varpos ) \n",
    "                var_blockids1_blocks_s2[previous_blockid_s2_idx].append( blockid_s1 )\n",
    "                \n",
    "            else:                                                 # A new block started   (it can be the first block)\n",
    "                allele_blocks_s2.append( [int(allele_s2[0])] )     # alleles of a phase block (all vars are hetrozygous) \n",
    "                varpos_blocks_s2.append( [varpos] )                # variant posistion of a block\n",
    "                blockid_blocks_s2.append( blockid_s2 )             # add the blockid of the first var  to the list of blockids\n",
    "                var_blockids1_blocks_s2.append( [blockid_s1] )  \n",
    "                previous_blockid_s2 = blockid_s2\n",
    "                previous_blockid_s2_idx = len(blockid_blocks_s2)-1   # the index of the last block id\n",
    "                \n",
    "\n",
    "                                                ###  sample 3 ###\n",
    "            split_s3 = s3.split(\":\")\n",
    "            blockid_s3 = split_s3[idx_ps]\n",
    "            allele_s3 = split_s3[idx_gt]\n",
    "            if blockid_s3 == \".\":\n",
    "                pass\n",
    "            elif blockid_s3 in blockid_blocks_s3:\n",
    "                assert allele_s3[1] == \"|\", \"allele_s3[1] should be | and so phased. A non-phased variant is in the phase block\"\n",
    "                \n",
    "                if blockid_s3 != previous_blockid_s3:  \n",
    "                    previous_blockid_s3_idx = blockid_blocks_s3.index(blockid_s3)\n",
    "                    num_weird_occurs+=1\n",
    "                allele_blocks_s3[previous_blockid_s3_idx].append( int(allele_s3[0]) )\n",
    "                varpos_blocks_s3[previous_blockid_s3_idx].append( varpos ) \n",
    "                var_blockids1_blocks_s3[previous_blockid_s3_idx].append( blockid_s1 )\n",
    "                \n",
    "            else:                                                 # A new block started   (it can be the first block)\n",
    "                allele_blocks_s3.append( [int(allele_s3[0])] )     # alleles of a phase block (all vars are hetrozygous) \n",
    "                varpos_blocks_s3.append( [varpos] )                # variant posistion of a block\n",
    "                blockid_blocks_s3.append( blockid_s3 )             # add the blockid of the first var  to the list of blockids\n",
    "                var_blockids1_blocks_s3.append( [blockid_s1] )  \n",
    "                previous_blockid_s3 = blockid_s3\n",
    "                previous_blockid_s3_idx = len(blockid_blocks_s3)-1   # the index of the last block id\n",
    "                \n",
    "   \n",
    "    \n",
    "                                                ###  sample 3 ###\n",
    "            split_s4 = s4.split(\":\")\n",
    "            blockid_s4 = split_s4[idx_ps]\n",
    "            allele_s4 = split_s4[idx_gt]\n",
    "            if blockid_s4 == \".\":\n",
    "                pass\n",
    "            elif blockid_s4 in blockid_blocks_s4:\n",
    "                assert allele_s4[1] == \"|\", \"allele_s4[1] should be | and so phased. A non-phased variant is in the phase block\"\n",
    "                \n",
    "                if blockid_s4 != previous_blockid_s4:  \n",
    "                    previous_blockid_s4_idx = blockid_blocks_s4.index(blockid_s4)\n",
    "                    num_weird_occurs+=1\n",
    "                allele_blocks_s4[previous_blockid_s4_idx].append( int(allele_s4[0]) )\n",
    "                varpos_blocks_s4[previous_blockid_s4_idx].append( varpos ) \n",
    "                var_blockids1_blocks_s4[previous_blockid_s4_idx].append( blockid_s1 )\n",
    "                \n",
    "            else:                                                 # A new block started   (it can be the first block)\n",
    "                allele_blocks_s4.append( [int(allele_s4[0])] )     # alleles of a phase block (all vars are hetrozygous) \n",
    "                varpos_blocks_s4.append( [varpos] )                # variant posistion of a block\n",
    "                blockid_blocks_s4.append( blockid_s4 )             # add the blockid of the first var  to the list of blockids\n",
    "                var_blockids1_blocks_s4.append( [blockid_s1] )  \n",
    "                previous_blockid_s4 = blockid_s4\n",
    "                previous_blockid_s4_idx = len(blockid_blocks_s4)-1   # the index of the last block id\n",
    "                \n",
    "\n",
    "\n",
    "\n",
    "\n",
    "print(\"Num phaseblocks in sample one is \",len(allele_blocks_s1))\n",
    "print(\"Num phaseblocks in sample two is \",len(allele_blocks_s2))\n",
    "print(\"Num phaseblocks in sample three is \",len(allele_blocks_s3))\n",
    "print(\"Num phaseblocks in sample four is \",len(allele_blocks_s4))\n",
    "print(\"Num vars in sample five-parental is \",len(varposs_s5))\n",
    "print(\"Num all vars is \",len(varposs_all))\n",
    "\n",
    "\n",
    "print(\"number of occurance of weird=two variants are in the same block, but far from each other \",num_weird_occurs)\n",
    " "
   ]
  },
  {
   "cell_type": "code",
   "execution_count": 23,
   "metadata": {},
   "outputs": [],
   "source": [
    "# for test code\n",
    "# cd /Volumes/work/myjupyter/phaseyou\n",
    "#grep \"46014176\" 22_all.vcf\n",
    "\n",
    "#blockid_blocks_s2.index(\"46014176\")\n",
    "#print(allele_blocks_s2[5568],\"\\n\",varpos_blocks_s2[5568])\n"
   ]
  },
  {
   "cell_type": "code",
   "execution_count": null,
   "metadata": {},
   "outputs": [],
   "source": []
  },
  {
   "cell_type": "code",
   "execution_count": null,
   "metadata": {},
   "outputs": [],
   "source": []
  },
  {
   "cell_type": "code",
   "execution_count": null,
   "metadata": {},
   "outputs": [],
   "source": []
  },
  {
   "cell_type": "code",
   "execution_count": null,
   "metadata": {},
   "outputs": [],
   "source": []
  },
  {
   "cell_type": "code",
   "execution_count": 52,
   "metadata": {},
   "outputs": [
    {
     "name": "stdout",
     "output_type": "stream",
     "text": [
      "2446\n",
      "2581\n"
     ]
    }
   ],
   "source": [
    "#%pwd\n",
    "num_phased_s1=0\n",
    "for varpos_block_s1 in varpos_blocks_s1:\n",
    "    num_phased_s1+=len(varpos_block_s1)\n",
    "    if len(varpos_block_s1)<2:\n",
    "        print(\"small\",varpos_block_s1)\n",
    "print(num_phased_s1)\n",
    "\n",
    "\n",
    "# num_phased_s2=0\n",
    "# for allele_block_s2 in allele_blocks_s2:\n",
    "#     num_phased_s2+=len(allele_block_s2)\n",
    "#     if len(allele_block_s2)<2:\n",
    "#         print(\"small,s2\",len(allele_block_s2))\n",
    "# print(num_phased_s2)\n",
    "\n",
    "num_phased_a=0\n",
    "for a in var_blockids1_blocks_s2:\n",
    "    num_phased_a+=len(a)\n",
    "print(num_phased_a)   \n",
    "#len(var_blockids1_blocks_s2[100])\n",
    "#print(var_blockids1_blocks_s2[0])"
   ]
  },
  {
   "cell_type": "code",
   "execution_count": null,
   "metadata": {},
   "outputs": [],
   "source": []
  },
  {
   "cell_type": "code",
   "execution_count": null,
   "metadata": {},
   "outputs": [],
   "source": []
  },
  {
   "cell_type": "code",
   "execution_count": null,
   "metadata": {},
   "outputs": [],
   "source": []
  },
  {
   "cell_type": "code",
   "execution_count": 53,
   "metadata": {},
   "outputs": [],
   "source": [
    "intersected_blocks_idins1_s2=[] # for each block in s2, the corresponding s1 block id\n",
    "\n",
    "for var_blockids1_blocks_s2_i in var_blockids1_blocks_s2:\n",
    "    var_blockids1_blocks_s2_i_set=set(var_blockids1_blocks_s2_i)\n",
    "    \n",
    "    if '.' in var_blockids1_blocks_s2_i_set:\n",
    "        var_blockids1_blocks_s2_i_set.discard('.')\n",
    "        \n",
    "    if len(var_blockids1_blocks_s2_i_set)==1:\n",
    "        intersected_idins1_s2=list(var_blockids1_blocks_s2_i_set)[0]\n",
    "    if len(var_blockids1_blocks_s2_i_set)==0:\n",
    "        intersected_idins1_s2=0\n",
    "    if len(var_blockids1_blocks_s2_i_set)>1:\n",
    "        # find the most frequent blockid in the phaseblock\n",
    "        intersected_idins1_s2=max(var_blockids1_blocks_s2_i_set, key=var_blockids1_blocks_s2_i.count) \n",
    "    \n",
    "        \n",
    "    intersected_blocks_idins1_s2.append(intersected_idins1_s2)\n"
   ]
  },
  {
   "cell_type": "code",
   "execution_count": 55,
   "metadata": {},
   "outputs": [],
   "source": [
    "intersected_blocks_idins1_s3=[] # for each block in s3, the corresponding s1 block id\n",
    "\n",
    "for var_blockids1_blocks_s3_i in var_blockids1_blocks_s3:\n",
    "    var_blockids1_blocks_s3_i_set=set(var_blockids1_blocks_s3_i)\n",
    "    \n",
    "    if '.' in var_blockids1_blocks_s3_i_set:\n",
    "        var_blockids1_blocks_s3_i_set.discard('.')\n",
    "        \n",
    "    if len(var_blockids1_blocks_s3_i_set)==1:\n",
    "        intersected_idins1_s3=list(var_blockids1_blocks_s3_i_set)[0]\n",
    "    if len(var_blockids1_blocks_s3_i_set)==0:\n",
    "        intersected_idins1_s3=0\n",
    "    if len(var_blockids1_blocks_s3_i_set)>1:\n",
    "        # find the most frequent blockid in the phaseblock\n",
    "        intersected_idins1_s3=max(var_blockids1_blocks_s3_i_set, key=var_blockids1_blocks_s3_i.count) \n",
    "    \n",
    "        \n",
    "    intersected_blocks_idins1_s3.append(intersected_idins1_s3)\n"
   ]
  },
  {
   "cell_type": "code",
   "execution_count": 54,
   "metadata": {},
   "outputs": [],
   "source": [
    "intersected_blocks_idins1_s4=[] # for each block in s4, the corresponding s1 block id\n",
    "\n",
    "for var_blockids1_blocks_s4_i in var_blockids1_blocks_s4:\n",
    "    var_blockids1_blocks_s4_i_set=set(var_blockids1_blocks_s4_i)\n",
    "    \n",
    "    if '.' in var_blockids1_blocks_s4_i_set:\n",
    "        var_blockids1_blocks_s4_i_set.discard('.')\n",
    "        \n",
    "    if len(var_blockids1_blocks_s4_i_set)==1:\n",
    "        intersected_idins1_s4=list(var_blockids1_blocks_s4_i_set)[0]\n",
    "    if len(var_blockids1_blocks_s4_i_set)==0:\n",
    "        intersected_idins1_s4=0\n",
    "    if len(var_blockids1_blocks_s4_i_set)>1:\n",
    "        # find the most frequent blockid in the phaseblock\n",
    "        intersected_idins1_s4=max(var_blockids1_blocks_s4_i_set, key=var_blockids1_blocks_s4_i.count) \n",
    "    \n",
    "        \n",
    "    intersected_blocks_idins1_s4.append(intersected_idins1_s4)\n"
   ]
  },
  {
   "cell_type": "code",
   "execution_count": 28,
   "metadata": {},
   "outputs": [],
   "source": [
    "#print(blockid_blocks_s1)\n",
    "#for i in range(len(allele_blocks_s1)):\n",
    "#    print(len(allele_blocks_s1[i]))\n",
    "    \n",
    "#print(blockid_blocks_s2)\n",
    "#for i in range(len(allele_blocks_s2)):\n",
    "#    print(len(allele_blocks_s2[i]))"
   ]
  },
  {
   "cell_type": "code",
   "execution_count": null,
   "metadata": {},
   "outputs": [],
   "source": []
  },
  {
   "cell_type": "code",
   "execution_count": 29,
   "metadata": {},
   "outputs": [
    {
     "name": "stdout",
     "output_type": "stream",
     "text": [
      "12 7\n",
      "16 23\n",
      "it needs to re-order\n",
      "39 35\n",
      "5 24\n",
      "it needs to re-order\n"
     ]
    }
   ],
   "source": [
    "# re-ordering  the phase block allel based on parent\n",
    "\n",
    "number_phaseblocks_s1= len(allele_blocks_s1)\n",
    "\n",
    "#allele_blocks_s1_new=list(allele_blocks_s1)\n",
    "for block_i in range(number_phaseblocks_s1): # \n",
    "   \n",
    "    allele_block_s1=allele_blocks_s1[block_i]\n",
    "    varpos_block_s1=varpos_blocks_s1[block_i]\n",
    "\n",
    "\n",
    "    similiar_count=0\n",
    "    diss_count=0\n",
    "    for var_i, varpos in enumerate(varpos_block_s1):\n",
    "        allele_s1= allele_block_s1[var_i]\n",
    "        \n",
    "        if varpos in varposs_s5:\n",
    "            allele_s5= alleles_s5[varposs_s5.index(varpos)]\n",
    "            if allele_s1 == allele_s5:\n",
    "                similiar_count+=1\n",
    "            else: \n",
    "                diss_count+=1\n",
    "                \n",
    "    #print(similiar_count, diss_count)          \n",
    "    if similiar_count < diss_count:\n",
    "        allele_block_s1_reordered = [1-i for i in allele_block_s1] # converting 0->1 and 1->0\n",
    "        allele_blocks_s1[block_i]=allele_block_s1_reordered\n",
    "        #print(\"it needs to re-order\")\n",
    "    \n",
    "#         allele_block_s1_new = [1-i for i in allele_block_s1]\n",
    "#         allele_blocks_s1_new[block_i]=allele_block_s1_new\n",
    "        \n"
   ]
  },
  {
   "cell_type": "code",
   "execution_count": null,
   "metadata": {},
   "outputs": [],
   "source": []
  },
  {
   "cell_type": "code",
   "execution_count": null,
   "metadata": {},
   "outputs": [],
   "source": []
  },
  {
   "cell_type": "code",
   "execution_count": 61,
   "metadata": {},
   "outputs": [],
   "source": [
    "number_phaseblocks_s2= len(allele_blocks_s2)\n",
    "\n",
    "for block_i in range(number_phaseblocks_s2): # \n",
    "   \n",
    "    allele_block_s2=allele_blocks_s2[block_i]\n",
    "    varpos_block_s2=varpos_blocks_s2[block_i]\n",
    "\n",
    "    intersected_idins1_s2=intersected_blocks_idins1_s2[block_i]\n",
    "    if intersected_idins1_s2 !=0:\n",
    "        block_indx_s1= blockid_blocks_s1.index(intersected_idins1_s2)\n",
    "    varpos_block_s1=varpos_blocks_s1[block_indx_s1]\n",
    "    allele_block_s1=allele_blocks_s1[block_indx_s1]\n",
    "    \n",
    "    intersect_varpos=set(varpos_block_s1) & set(varpos_block_s2)\n",
    "    similiar_count=0\n",
    "    for varpos in intersect_varpos:\n",
    "        allele_s1= allele_block_s1[varpos_block_s1.index(varpos)]\n",
    "        allele_s2= allele_block_s2[varpos_block_s2.index(varpos)]\n",
    "        if allele_s1==allele_s2: similiar_count+=1\n",
    "    #print(similiar_count/len(intersect_varpos))\n",
    "    if similiar_count < len(intersect_varpos)/2:\n",
    "        #print(\"need\", similiar_count)\n",
    "        allele_block_s2_reordered= [1-i for i in allele_block_s2]\n",
    "        allele_blocks_s2[block_i]=allele_block_s2_reordered\n",
    "        #print(\"it needs to re-order\")\n",
    "\n"
   ]
  },
  {
   "cell_type": "code",
   "execution_count": 63,
   "metadata": {},
   "outputs": [],
   "source": [
    "number_phaseblocks_s3= len(allele_blocks_s3)\n",
    "\n",
    "for block_i in range(number_phaseblocks_s3): # \n",
    "   \n",
    "    allele_block_s3=allele_blocks_s3[block_i]\n",
    "    varpos_block_s3=varpos_blocks_s3[block_i]\n",
    "\n",
    "    intersected_idins1_s3=intersected_blocks_idins1_s3[block_i]\n",
    "    if intersected_idins1_s3 !=0:\n",
    "        block_indx_s1= blockid_blocks_s1.index(intersected_idins1_s3)\n",
    "    varpos_block_s1=varpos_blocks_s1[block_indx_s1]\n",
    "    allele_block_s1=allele_blocks_s1[block_indx_s1]\n",
    "    \n",
    "    intersect_varpos=set(varpos_block_s1) & set(varpos_block_s3)\n",
    "    similiar_count=0\n",
    "    for varpos in intersect_varpos:\n",
    "        allele_s1= allele_block_s1[varpos_block_s1.index(varpos)]\n",
    "        allele_s3= allele_block_s3[varpos_block_s3.index(varpos)]\n",
    "        if allele_s1==allele_s3: similiar_count+=1\n",
    "    #print(similiar_count/len(intersect_varpos))\n",
    "    if similiar_count < len(intersect_varpos)/2:\n",
    "        #print(\"need\", similiar_count)\n",
    "        allele_block_s3_reordered= [1-i for i in allele_block_s3]\n",
    "        allele_blocks_s3[block_i]=allele_block_s3_reordered\n",
    "        #print(\"it needs to re-order\")\n",
    "\n",
    "\n",
    "        \n",
    "number_phaseblocks_s4= len(allele_blocks_s4)\n",
    "\n",
    "for block_i in range(number_phaseblocks_s4): # \n",
    "   \n",
    "    allele_block_s4=allele_blocks_s4[block_i]\n",
    "    varpos_block_s4=varpos_blocks_s4[block_i]\n",
    "\n",
    "    intersected_idins1_s4=intersected_blocks_idins1_s4[block_i]\n",
    "    if intersected_idins1_s4 !=0:\n",
    "        block_indx_s1= blockid_blocks_s1.index(intersected_idins1_s4)\n",
    "    varpos_block_s1=varpos_blocks_s1[block_indx_s1]\n",
    "    allele_block_s1=allele_blocks_s1[block_indx_s1]\n",
    "    \n",
    "    intersect_varpos=set(varpos_block_s1) & set(varpos_block_s4)\n",
    "    similiar_count=0\n",
    "    for varpos in intersect_varpos:\n",
    "        allele_s1= allele_block_s1[varpos_block_s1.index(varpos)]\n",
    "        allele_s4= allele_block_s4[varpos_block_s4.index(varpos)]\n",
    "        if allele_s1==allele_s4: similiar_count+=1\n",
    "    #print(similiar_count/len(intersect_varpos))\n",
    "    if similiar_count < len(intersect_varpos)/2:\n",
    "        #print(\"need\", similiar_count)\n",
    "        allele_block_s4_reordered= [1-i for i in allele_block_s4]\n",
    "        allele_blocks_s4[block_i]=allele_block_s4_reordered\n",
    "        #print(\"it needs to re-order\")\n",
    "\n"
   ]
  },
  {
   "cell_type": "code",
   "execution_count": null,
   "metadata": {},
   "outputs": [],
   "source": []
  },
  {
   "cell_type": "code",
   "execution_count": null,
   "metadata": {},
   "outputs": [],
   "source": []
  },
  {
   "cell_type": "code",
   "execution_count": null,
   "metadata": {},
   "outputs": [],
   "source": []
  },
  {
   "cell_type": "code",
   "execution_count": 11,
   "metadata": {},
   "outputs": [],
   "source": []
  },
  {
   "cell_type": "code",
   "execution_count": null,
   "metadata": {},
   "outputs": [],
   "source": []
  },
  {
   "cell_type": "code",
   "execution_count": 65,
   "metadata": {},
   "outputs": [],
   "source": [
    "matrix_row_lists=[]\n",
    "for varpos in varposs_all:\n",
    "    # for increasing the speed we can use the information that the phase blocks are in order.\n",
    "    # but not for those weird phase block\n",
    "\n",
    "\n",
    "    allele_s1='.'\n",
    "    blockid_s1='.'\n",
    "    for block_i_s1 in range(len(blockid_blocks_s1)):\n",
    "        allele_block_s1 = allele_blocks_s1[block_i_s1]\n",
    "        varpos_block_s1 = varpos_blocks_s1[block_i_s1]\n",
    "\n",
    "        if varpos in varpos_block_s1:\n",
    "            allele_s1 = allele_block_s1[varpos_block_s1.index(varpos)]\n",
    "            blockid_s1 = blockid_blocks_s1[block_i_s1]\n",
    "            break # when var is found, no need to continue for loop\n",
    "\n",
    "            \n",
    "    allele_s2='.'\n",
    "    blockid_s2='.'\n",
    "    for block_i_s2 in range(len(blockid_blocks_s2)):\n",
    "        allele_block_s2 = allele_blocks_s2[block_i_s2]\n",
    "        varpos_block_s2 = varpos_blocks_s2[block_i_s2]\n",
    "\n",
    "        if varpos in varpos_block_s2:\n",
    "            allele_s2 = allele_block_s2[varpos_block_s2.index(varpos)]\n",
    "            blockid_s2 = blockid_blocks_s2[block_i_s2]\n",
    "            break # when var is found, no need to continue for loop\n",
    "\n",
    "    allele_s3='.'\n",
    "    blockid_s3='.'\n",
    "    for block_i_s3 in range(len(blockid_blocks_s3)):\n",
    "        allele_block_s3 = allele_blocks_s3[block_i_s3]\n",
    "        varpos_block_s3 = varpos_blocks_s3[block_i_s3]\n",
    "\n",
    "        if varpos in varpos_block_s3:\n",
    "            allele_s3 = allele_block_s3[varpos_block_s3.index(varpos)]\n",
    "            blockid_s3 = blockid_blocks_s3[block_i_s3]\n",
    "            break # when var is found, no need to continue for loop\n",
    "\n",
    "    allele_s4='.'\n",
    "    blockid_s4='.'\n",
    "    for block_i_s4 in range(len(blockid_blocks_s4)):\n",
    "        allele_block_s4 = allele_blocks_s4[block_i_s4]\n",
    "        varpos_block_s4 = varpos_blocks_s4[block_i_s4]\n",
    "\n",
    "        if varpos in varpos_block_s4:\n",
    "            allele_s4 = allele_block_s4[varpos_block_s4.index(varpos)]\n",
    "            blockid_s4 = blockid_blocks_s4[block_i_s4]\n",
    "            break # when var is found, no need to continue for loop\n",
    "\n",
    "    \n",
    "            \n",
    "    if varpos in varposs_s5:\n",
    "        allele_s5 = alleles_s5[varposs_s5.index(varpos)]\n",
    "    else: allele_s5= '.'\n",
    "\n",
    "    if not (allele_s1=='.' and allele_s2=='.' and allele_s3=='.' and allele_s4=='.' and allele_s5=='.'): \n",
    "        matrix_row_list=[str(varpos),str(allele_s1)+\":\"+str(blockid_s1),\n",
    "                         str(allele_s2)+\":\"+str(blockid_s2),str(allele_s3)+\":\"+str(blockid_s3),\n",
    "                         str(allele_s4)+\":\"+str(blockid_s4), str(allele_s5)] \n",
    "        matrix_row_lists.append(matrix_row_list)\n",
    "\n",
    "        \n",
    "# one option can be for loop over blockid_blocks_s1 instead of varposs_all, then search in  blockid_blocks_s1 also for printing sort them to overcome weird phase block\n",
    "# the issue will be for those variant that are not phased in blockid_blocks_s1 but in blockid_blocks_s2\n"
   ]
  },
  {
   "cell_type": "code",
   "execution_count": 67,
   "metadata": {},
   "outputs": [],
   "source": [
    "matrix_address=vcf_file_address+\"_matrix5.txt\"\n",
    "\n",
    "matrix_file=open(matrix_address,'w');\n",
    "matrix_file.write(\"\\t\\t\".join([\"Pos\",\"HiFiWsp\",\"IllmWsp\",\"HiFiHpct\",\"IllmHpct\",\"parental\"])+\"\\n\") # \"Pos\",\"ONT\",\"CLR\",\"HiFi\",\"Illm\",\"parental\"\n",
    "for matrix_row_list in matrix_row_lists:\n",
    "\n",
    "        matrix_file.write(\"\\t\".join(matrix_row_list)+\"\\n\")\n",
    "\n",
    "matrix_file.close()\n",
    "   "
   ]
  },
  {
   "cell_type": "code",
   "execution_count": null,
   "metadata": {},
   "outputs": [],
   "source": []
  },
  {
   "cell_type": "code",
   "execution_count": null,
   "metadata": {},
   "outputs": [],
   "source": []
  },
  {
   "cell_type": "code",
   "execution_count": null,
   "metadata": {},
   "outputs": [],
   "source": []
  },
  {
   "cell_type": "code",
   "execution_count": null,
   "metadata": {},
   "outputs": [],
   "source": []
  },
  {
   "cell_type": "code",
   "execution_count": null,
   "metadata": {},
   "outputs": [],
   "source": []
  },
  {
   "cell_type": "code",
   "execution_count": null,
   "metadata": {},
   "outputs": [],
   "source": []
  },
  {
   "cell_type": "code",
   "execution_count": null,
   "metadata": {},
   "outputs": [],
   "source": []
  },
  {
   "cell_type": "code",
   "execution_count": null,
   "metadata": {},
   "outputs": [],
   "source": []
  },
  {
   "cell_type": "code",
   "execution_count": null,
   "metadata": {},
   "outputs": [],
   "source": []
  },
  {
   "cell_type": "code",
   "execution_count": null,
   "metadata": {},
   "outputs": [],
   "source": []
  },
  {
   "cell_type": "code",
   "execution_count": null,
   "metadata": {},
   "outputs": [],
   "source": []
  },
  {
   "cell_type": "code",
   "execution_count": null,
   "metadata": {},
   "outputs": [],
   "source": []
  },
  {
   "cell_type": "code",
   "execution_count": null,
   "metadata": {},
   "outputs": [],
   "source": []
  },
  {
   "cell_type": "code",
   "execution_count": null,
   "metadata": {},
   "outputs": [],
   "source": []
  },
  {
   "cell_type": "code",
   "execution_count": 69,
   "metadata": {},
   "outputs": [],
   "source": [
    "\n",
    "diff_list=[]\n",
    "\n",
    "for block_i in range(len(allele_blocks_s1)): # \n",
    "   \n",
    "    allele_block_s1=allele_blocks_s1[block_i]\n",
    "    varpos_block_s1=varpos_blocks_s1[block_i]\n",
    "\n",
    "\n",
    "    for var_i, varpos in enumerate(varpos_block_s1):\n",
    "        allele_s1= allele_block_s1[var_i]\n",
    "        \n",
    "        if varpos in varposs_s5:\n",
    "            allele_s5= alleles_s5[varposs_s5.index(varpos)]\n",
    "        \n",
    "            if allele_s1!=allele_s5:\n",
    "                \n",
    "                for block_i in range(number_phaseblocks_s2): # \n",
    "   \n",
    "                    allele_block_s2=allele_blocks_s2[block_i]\n",
    "                    varpos_block_s2=varpos_blocks_s2[block_i]\n",
    "                    if varpos in varpos_block_s2:\n",
    "                        allele_s2= allele_block_s2[varpos_block_s2.index(varpos)]\n",
    "                        diff_list.append([varpos,allele_s1,allele_s2,allele_s5])\n",
    "                        #print([varpos,allele_s1,allele_s2,allele_s5],\"\\n\")\n",
    "                        break\n",
    "\n",
    "                \n",
    "                \n",
    "                \n",
    "                \n",
    "                \n",
    "\n"
   ]
  },
  {
   "cell_type": "code",
   "execution_count": null,
   "metadata": {},
   "outputs": [],
   "source": []
  },
  {
   "cell_type": "code",
   "execution_count": 70,
   "metadata": {},
   "outputs": [
    {
     "ename": "IndexError",
     "evalue": "list index out of range",
     "output_type": "error",
     "traceback": [
      "\u001b[0;31m---------------------------------------------------------------------------\u001b[0m",
      "\u001b[0;31mIndexError\u001b[0m                                Traceback (most recent call last)",
      "\u001b[0;32m<ipython-input-70-ba2a5007d8cd>\u001b[0m in \u001b[0;36m<module>\u001b[0;34m\u001b[0m\n\u001b[1;32m     20\u001b[0m                     \u001b[0mvarpos_block_s1\u001b[0m\u001b[0;34m=\u001b[0m\u001b[0mvarpos_blocks_s1\u001b[0m\u001b[0;34m[\u001b[0m\u001b[0mblock_i\u001b[0m\u001b[0;34m]\u001b[0m\u001b[0;34m\u001b[0m\u001b[0;34m\u001b[0m\u001b[0m\n\u001b[1;32m     21\u001b[0m                     \u001b[0;32mif\u001b[0m \u001b[0mvarpos\u001b[0m \u001b[0;32min\u001b[0m \u001b[0mvarpos_block_s1\u001b[0m\u001b[0;34m:\u001b[0m\u001b[0;34m\u001b[0m\u001b[0;34m\u001b[0m\u001b[0m\n\u001b[0;32m---> 22\u001b[0;31m                         \u001b[0mallele_s1\u001b[0m\u001b[0;34m=\u001b[0m \u001b[0mallele_block_s1\u001b[0m\u001b[0;34m[\u001b[0m\u001b[0mvarpos_block_s2\u001b[0m\u001b[0;34m.\u001b[0m\u001b[0mindex\u001b[0m\u001b[0;34m(\u001b[0m\u001b[0mvarpos\u001b[0m\u001b[0;34m)\u001b[0m\u001b[0;34m]\u001b[0m\u001b[0;34m\u001b[0m\u001b[0;34m\u001b[0m\u001b[0m\n\u001b[0m\u001b[1;32m     23\u001b[0m                         \u001b[0mdiff_list_s2\u001b[0m\u001b[0;34m.\u001b[0m\u001b[0mappend\u001b[0m\u001b[0;34m(\u001b[0m\u001b[0;34m[\u001b[0m\u001b[0mvarpos\u001b[0m\u001b[0;34m,\u001b[0m\u001b[0mallele_s1\u001b[0m\u001b[0;34m,\u001b[0m\u001b[0mallele_s2\u001b[0m\u001b[0;34m,\u001b[0m\u001b[0mallele_s5\u001b[0m\u001b[0;34m]\u001b[0m\u001b[0;34m)\u001b[0m\u001b[0;34m\u001b[0m\u001b[0;34m\u001b[0m\u001b[0m\n\u001b[1;32m     24\u001b[0m                         \u001b[0;31m#print([varpos,allele_s1,allele_s2,allele_s5],\"\\n\")\u001b[0m\u001b[0;34m\u001b[0m\u001b[0;34m\u001b[0m\u001b[0;34m\u001b[0m\u001b[0m\n",
      "\u001b[0;31mIndexError\u001b[0m: list index out of range"
     ]
    }
   ],
   "source": [
    "\n",
    "diff_list_s2=[]\n",
    "\n",
    "for block_i in range(len(allele_blocks_s2)): # \n",
    "   \n",
    "    allele_block_s2=allele_blocks_s2[block_i]\n",
    "    varpos_block_s2=varpos_blocks_s2[block_i]\n",
    "\n",
    "\n",
    "    for var_i, varpos in enumerate(varpos_block_s2):\n",
    "        allele_s2= allele_block_s2[var_i]\n",
    "        \n",
    "        if varpos in varposs_s5:\n",
    "            allele_s5= alleles_s5[varposs_s5.index(varpos)]\n",
    "        \n",
    "            if allele_s2!=allele_s5:\n",
    "                \n",
    "                for block_i in range(number_phaseblocks_s1): # \n",
    "   \n",
    "                    allele_block_s1=allele_blocks_s1[block_i]\n",
    "                    varpos_block_s1=varpos_blocks_s1[block_i]\n",
    "                    if varpos in varpos_block_s1:\n",
    "                        allele_s1= allele_block_s1[varpos_block_s2.index(varpos)]\n",
    "                        diff_list_s2.append([varpos,allele_s1,allele_s2,allele_s5])\n",
    "                        #print([varpos,allele_s1,allele_s2,allele_s5],\"\\n\")\n",
    "                        break\n",
    "\n",
    "            "
   ]
  },
  {
   "cell_type": "code",
   "execution_count": null,
   "metadata": {},
   "outputs": [],
   "source": []
  },
  {
   "cell_type": "code",
   "execution_count": null,
   "metadata": {},
   "outputs": [],
   "source": []
  },
  {
   "cell_type": "code",
   "execution_count": 39,
   "metadata": {},
   "outputs": [
    {
     "name": "stdout",
     "output_type": "stream",
     "text": [
      "56 23 0 33\n"
     ]
    }
   ],
   "source": [
    "hifiok_illno=[]\n",
    "hifino_illno=[]\n",
    "hifino_illok=[]\n",
    "\n",
    "for [varpos, hifi,illu,parnt] in diff_list_s2:\n",
    "    if illu!=parnt and hifi==parnt:\n",
    "        hifiok_illno.append(varpos)\n",
    "    if illu!=parnt and hifi!=parnt:\n",
    "        #print([varpos, hifi,illu,parnt] )\n",
    "        hifino_illno.append(varpos)       \n",
    "    if illu==parnt and hifi!=parnt:\n",
    "        #print([varpos, hifi,illu,parnt] )\n",
    "        hifino_illok.append(varpos) \n",
    "    \n",
    "print(len(diff_list_s2),len(hifiok_illno),len(hifino_illok),len(hifino_illno))"
   ]
  },
  {
   "cell_type": "code",
   "execution_count": 40,
   "metadata": {},
   "outputs": [
    {
     "name": "stdout",
     "output_type": "stream",
     "text": [
      "56 0 22 33\n"
     ]
    }
   ],
   "source": [
    "hifiok_illno=[]\n",
    "hifino_illno=[]\n",
    "hifino_illok=[]\n",
    "\n",
    "for [varpos, hifi,illu,parnt] in diff_list:\n",
    "    \n",
    "    if illu!=parnt and hifi==parnt:\n",
    "        hifiok_illno.append(varpos)\n",
    "    if illu!=parnt and hifi!=parnt:\n",
    "        #print([varpos, hifi,illu,parnt] )\n",
    "        hifino_illno.append(varpos)       \n",
    "    if illu==parnt and hifi!=parnt:\n",
    "        #print([varpos, hifi,illu,parnt] )\n",
    "        hifino_illok.append(varpos) \n",
    "    \n",
    "print(len(diff_list_s2),len(hifiok_illno),len(hifino_illok),len(hifino_illno))"
   ]
  },
  {
   "cell_type": "code",
   "execution_count": 41,
   "metadata": {},
   "outputs": [
    {
     "data": {
      "text/plain": [
       "[1, 1, 1]"
      ]
     },
     "execution_count": 41,
     "metadata": {},
     "output_type": "execute_result"
    }
   ],
   "source": [
    "allele_s5==allele_s2\n",
    "[allele_s1,allele_s5,allele_s2]"
   ]
  },
  {
   "cell_type": "code",
   "execution_count": null,
   "metadata": {},
   "outputs": [],
   "source": []
  },
  {
   "cell_type": "code",
   "execution_count": null,
   "metadata": {},
   "outputs": [],
   "source": []
  },
  {
   "cell_type": "code",
   "execution_count": null,
   "metadata": {},
   "outputs": [],
   "source": []
  },
  {
   "cell_type": "code",
   "execution_count": 42,
   "metadata": {},
   "outputs": [
    {
     "name": "stdout",
     "output_type": "stream",
     "text": [
      "830 192 45 23 22\n",
      "99 66 33\n"
     ]
    }
   ],
   "source": [
    "similiar_count=0\n",
    "dissimiliar_count=0\n",
    "dissimiliar_count_s1ok=0\n",
    "dissimiliar_count_s2ok=0\n",
    "dissimiliar_count_exist5=0\n",
    "similiar_count_s1s2ok=0\n",
    "similiar_count_s1s2no=0\n",
    "similiar_count_exist5=0\n",
    "\n",
    "for block_i in range(number_phaseblocks_s2): # \n",
    "   \n",
    "    allele_block_s2=allele_blocks_s2[block_i]\n",
    "    varpos_block_s2=varpos_blocks_s2[block_i]\n",
    "\n",
    "    intersected_idins1_s2=intersected_blocks_idins1_s2[block_i]\n",
    "    if intersected_idins1_s2 !=0:\n",
    "        block_indx_s1= blockid_blocks_s1.index(intersected_idins1_s2)\n",
    "    varpos_block_s1=varpos_blocks_s1[block_indx_s1]\n",
    "    allele_block_s1=allele_blocks_s1[block_indx_s1]\n",
    "    \n",
    "    intersect_varpos=set(varpos_block_s1) & set(varpos_block_s2)\n",
    "\n",
    "    for varpos in intersect_varpos:\n",
    "        allele_s1= allele_block_s1[varpos_block_s1.index(varpos)]\n",
    "        allele_s2= allele_block_s2[varpos_block_s2.index(varpos)]\n",
    "        if allele_s1==allele_s2: \n",
    "            similiar_count+=1\n",
    "            if varpos in varposs_s5:\n",
    "                allele_s5= alleles_s5[varposs_s5.index(varpos)]\n",
    "                similiar_count_exist5+=1\n",
    "                if allele_s1==allele_s5 and allele_s2==allele_s5:\n",
    "                    similiar_count_s1s2ok+=1\n",
    "                if allele_s1!=allele_s5 and allele_s2!=allele_s5:\n",
    "                    similiar_count_s1s2no+=1\n",
    "        else:\n",
    "            #print(varpos)\n",
    "            dissimiliar_count+=1\n",
    "            if varpos in varposs_s5:\n",
    "                allele_s5= alleles_s5[varposs_s5.index(varpos)]\n",
    "                dissimiliar_count_exist5+=1\n",
    "                if allele_s1==allele_s5 and allele_s2!=allele_s5:\n",
    "                    dissimiliar_count_s1ok+=1\n",
    "                if allele_s1!=allele_s5 and allele_s2==allele_s5:\n",
    "                    dissimiliar_count_s2ok+=1\n",
    "                    \n",
    "\n",
    "            \n",
    "#     if similiar_count>1 and dissimiliar_count>1:\n",
    "#         print(similiar_count)\n",
    "\n",
    "print(similiar_count,dissimiliar_count,dissimiliar_count_exist5,dissimiliar_count_s1ok,dissimiliar_count_s2ok)\n",
    "print(similiar_count_exist5,similiar_count_s1s2ok,similiar_count_s1s2no)"
   ]
  },
  {
   "cell_type": "code",
   "execution_count": 43,
   "metadata": {},
   "outputs": [
    {
     "data": {
      "text/plain": [
       "11"
      ]
     },
     "execution_count": 43,
     "metadata": {},
     "output_type": "execute_result"
    }
   ],
   "source": [
    "len(allele_block_s2)"
   ]
  },
  {
   "cell_type": "code",
   "execution_count": null,
   "metadata": {},
   "outputs": [],
   "source": []
  },
  {
   "cell_type": "code",
   "execution_count": null,
   "metadata": {},
   "outputs": [],
   "source": []
  },
  {
   "cell_type": "code",
   "execution_count": null,
   "metadata": {},
   "outputs": [],
   "source": []
  },
  {
   "cell_type": "code",
   "execution_count": null,
   "metadata": {},
   "outputs": [],
   "source": []
  },
  {
   "cell_type": "code",
   "execution_count": 44,
   "metadata": {},
   "outputs": [
    {
     "name": "stdout",
     "output_type": "stream",
     "text": [
      "blockid  16099924\n",
      "Pos HiFi Illm parental \n",
      "\n",
      "16101684 1 1 0 \n",
      "\n",
      "16104385 1 1 0 \n",
      "\n",
      "16105717 1 0 0 \n",
      "\n",
      "16113547 0 0 1 \n",
      "\n",
      "16117006 0 1 1 \n",
      "\n",
      "16120074 1 0 0 \n",
      "\n",
      "16123812 1 0 0 \n",
      "\n",
      "16137152 1 0 0 \n",
      "\n",
      "16142002 1 1 0 \n",
      "\n",
      "16143370 1 1 0 \n",
      "\n",
      "16143995 1 1 0 \n",
      "\n",
      "16144768 1 1 0 \n",
      "\n",
      "16144952 1 1 0 \n",
      "\n",
      "23\n"
     ]
    }
   ],
   "source": [
    "\n",
    "diff_list=[]\n",
    "count_simi=0\n",
    "block_i=1\n",
    "print(\"blockid \",blockid_blocks_s1[block_i])\n",
    "\n",
    "allele_block_s1=allele_blocks_s1[block_i]\n",
    "varpos_block_s1=varpos_blocks_s1[block_i]\n",
    "\n",
    "print(\"Pos\",\"HiFi\",\"Illm\",\"parental\",\"\\n\")\n",
    "for var_i, varpos in enumerate(varpos_block_s1):\n",
    "    allele_s1= allele_block_s1[var_i]\n",
    "\n",
    "    if varpos in varposs_s5:\n",
    "        allele_s5= alleles_s5[varposs_s5.index(varpos)]\n",
    "\n",
    "        if allele_s1!=allele_s5:\n",
    "\n",
    "            for block_i in range(number_phaseblocks_s2): # \n",
    "\n",
    "                allele_block_s2=allele_blocks_s2[block_i]\n",
    "                varpos_block_s2=varpos_blocks_s2[block_i]\n",
    "                if varpos in varpos_block_s2:\n",
    "                    allele_s2= allele_block_s2[varpos_block_s2.index(varpos)]\n",
    "                    diff_list.append([varpos,allele_s1,allele_s2,allele_s5])\n",
    "                    print(varpos,allele_s1,allele_s2,allele_s5,\"\\n\")\n",
    "                    break\n",
    "        if allele_s1==allele_s5:\n",
    "            count_simi+=1\n",
    "            \n",
    "\n",
    "\n",
    "                \n",
    "print(count_simi)"
   ]
  },
  {
   "cell_type": "code",
   "execution_count": null,
   "metadata": {},
   "outputs": [],
   "source": []
  },
  {
   "cell_type": "code",
   "execution_count": null,
   "metadata": {},
   "outputs": [],
   "source": []
  },
  {
   "cell_type": "code",
   "execution_count": null,
   "metadata": {},
   "outputs": [],
   "source": []
  },
  {
   "cell_type": "code",
   "execution_count": 45,
   "metadata": {},
   "outputs": [
    {
     "name": "stdout",
     "output_type": "stream",
     "text": [
      "1087\n"
     ]
    }
   ],
   "source": [
    "sum1=0\n",
    "for  a in varpos_blocks_s1:\n",
    "    sum1+=len(a)\n",
    "print(sum1)\n"
   ]
  },
  {
   "cell_type": "code",
   "execution_count": 46,
   "metadata": {},
   "outputs": [],
   "source": [
    "sum2=0\n",
    "for  a in varpos_blocks_s2:\n",
    "    sum2+=len(a)"
   ]
  },
  {
   "cell_type": "code",
   "execution_count": 47,
   "metadata": {},
   "outputs": [
    {
     "data": {
      "text/plain": [
       "1083"
      ]
     },
     "execution_count": 47,
     "metadata": {},
     "output_type": "execute_result"
    }
   ],
   "source": [
    "sum2"
   ]
  },
  {
   "cell_type": "code",
   "execution_count": null,
   "metadata": {},
   "outputs": [],
   "source": []
  },
  {
   "cell_type": "code",
   "execution_count": null,
   "metadata": {},
   "outputs": [],
   "source": []
  },
  {
   "cell_type": "code",
   "execution_count": null,
   "metadata": {},
   "outputs": [],
   "source": []
  },
  {
   "cell_type": "code",
   "execution_count": null,
   "metadata": {},
   "outputs": [],
   "source": []
  }
 ],
 "metadata": {
  "kernelspec": {
   "display_name": "Python 3",
   "language": "python",
   "name": "python3"
  },
  "language_info": {
   "codemirror_mode": {
    "name": "ipython",
    "version": 3
   },
   "file_extension": ".py",
   "mimetype": "text/x-python",
   "name": "python",
   "nbconvert_exporter": "python",
   "pygments_lexer": "ipython3",
   "version": "3.7.8"
  }
 },
 "nbformat": 4,
 "nbformat_minor": 4
}
