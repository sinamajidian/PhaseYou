{
 "cells": [
  {
   "cell_type": "code",
   "execution_count": 1,
   "metadata": {},
   "outputs": [],
   "source": [
    "\n",
    "vcf_file_address= \"22_2k.vcf\"#\"22_allps_200.vcf\"\n",
    "vcf_file = open(vcf_file_address,'r');\n",
    "\n",
    "\n",
    "first_het_variant_s1=True \n",
    "blockid_blocks_s1=[]\n",
    "allele_blocks_s1=[]\n",
    "varpos_blocks_s1=[]\n",
    "\n",
    "first_het_variant_s2=True \n",
    "blockid_blocks_s2=[]\n",
    "allele_blocks_s2=[]\n",
    "varpos_blocks_s2=[]\n",
    "var_blockids1_blocks_s2=[]   # for each var in s2, shows the s1 blockid\n",
    "\n",
    "\n",
    "alleles_s5=[]\n",
    "varposs_s5=[]\n",
    "\n",
    "header_lines_list=[]\n",
    "for line in vcf_file:\n",
    "    line_strip=line.strip()\n",
    "    if line_strip.startswith('#'):\n",
    "        header_lines_list.append(line_strip)\n",
    "        sample_names=line_strip.split('\\t')[9:] # last line of header contains sample name\n",
    "        #print(sample_names)\n",
    "    else:\n",
    "\n",
    "        line_parts=line_strip.split('\\t')\n",
    "        gt_flags, s1, sss, ss, s2, s5 = line_parts[8:]\n",
    "\n",
    "        varpos=int(line_parts[1]) # variant position\n",
    "        gt_flags_split=gt_flags.split(\":\")\n",
    "        \n",
    "        if \"PS\" in gt_flags_split:\n",
    "            idx_ps= gt_flags.split(\":\").index(\"PS\")\n",
    "            idx_gt= gt_flags.split(\":\").index(\"GT\")\n",
    "            \n",
    "            \n",
    "            # parental\n",
    "            split_s5 = s5.split(\":\")\n",
    "            blockid_s5 = split_s5[idx_ps]\n",
    "            allele_s5 = split_s5[idx_gt]\n",
    "            if allele_s5 !=\"./.\":\n",
    "                alleles_s5.append(allele_s5[0]) \n",
    "                varposs_s5.append(varpos)\n",
    "\n",
    "            \n",
    "            split_s1=s1.split(\":\")\n",
    "            blockid_s1 = split_s1[idx_ps]\n",
    "            allele_s1=split_s1[idx_gt]\n",
    "            \n",
    "            if allele_s1==\"0/1\":allele_s1=\"./.\";blockid_s1=\".\"\n",
    "                \n",
    "            if not blockid_s1 == '.':\n",
    "                if first_het_variant_s1:           # for the first het variant\n",
    "                    first_het_variant_s1 = False\n",
    "                    \n",
    "                    allele_block_s1 = [int(allele_s1[0])]     # alleles of a block\n",
    "                    varpos_block_s1 = [varpos]               # var pos of a block\n",
    "                    blockid_blocks_s1.append(int(blockid_s1))   # add the blockid of the first var  to the list of blockids\n",
    "                    \n",
    "                else:                              # for the rest of het variants\n",
    "                    if int(blockid_s1) in blockid_blocks_s1:\n",
    "                        allele_block_s1.append(int(allele_s1[0]))\n",
    "                        varpos_block_s1.append(varpos)\n",
    "                        \n",
    "                    else: \n",
    "                        # add previous block to the list of all blocks\n",
    "                        allele_blocks_s1.append(allele_block_s1)\n",
    "                        varpos_blocks_s1.append(varpos_block_s1)\n",
    "\n",
    "                        # creat new phase block\n",
    "                        allele_block_s1 = [int(allele_s1[0])]\n",
    "                        varpos_block_s1 = [varpos]\n",
    "                        blockid_blocks_s1.append(int(blockid_s1))\n",
    "\n",
    "                        \n",
    "            \n",
    "            split_s2=s2.split(\":\")\n",
    "            blockid_s2 = split_s2[idx_ps]\n",
    "            allele_s2=split_s2[idx_gt]\n",
    "            \n",
    "            if allele_s2==\"0/1\":allele_s2=\"./.\";blockid_s2=\".\"\n",
    "                \n",
    "            if not blockid_s2 == '.':\n",
    "                if first_het_variant_s2:           # for the first het variant\n",
    "                    first_het_variant_s2 = False\n",
    "                    \n",
    "                    allele_block_s2 = [int(allele_s2[0])]     # alleles of a block\n",
    "                    varpos_block_s2 = [varpos]               # var pos of a block\n",
    "                    blockid_blocks_s2.append(int(blockid_s2))   # add the blockid of the first var  to the list of blockids\n",
    "                    var_blockids1_block_s2=[blockid_s1]\n",
    "                    \n",
    "                else:                              # for the rest of het variants\n",
    "                    if int(blockid_s2) in blockid_blocks_s2:\n",
    "                        allele_block_s2.append(int(allele_s2[0]))\n",
    "                        varpos_block_s2.append(varpos)\n",
    "                        var_blockids1_block_s2.append(blockid_s1)\n",
    "                        \n",
    "                    else: \n",
    "                        # add previous block to the list of all blocks\n",
    "                        allele_blocks_s2.append(allele_block_s2)\n",
    "                        varpos_blocks_s2.append(varpos_block_s2)\n",
    "                        var_blockids1_blocks_s2.append(var_blockids1_block_s2)\n",
    "\n",
    "                        # creat new phase block\n",
    "                        allele_block_s2 = [int(allele_s2[0])]\n",
    "                        varpos_block_s2 = [varpos]\n",
    "                        blockid_blocks_s2.append(int(blockid_s2))\n",
    "                        var_blockids1_block_s2=[blockid_s1]\n",
    "                       \n",
    "                        \n",
    "                        \n",
    "# add last block to the list of all blocks\n",
    "allele_blocks_s1.append(allele_block_s1)\n",
    "varpos_blocks_s1.append(varpos_block_s1)\n",
    "\n",
    "allele_blocks_s2.append(allele_block_s2)\n",
    "varpos_blocks_s2.append(varpos_block_s2)\n",
    "var_blockids1_blocks_s2.append(var_blockids1_block_s2)\n",
    "                        \n",
    "    \n",
    "    \n",
    "number_phaseblocks_s2= len(allele_blocks_s2)\n",
    "    \n",
    "    \n",
    "\n",
    "    \n",
    "\n",
    "        "
   ]
  },
  {
   "cell_type": "code",
   "execution_count": null,
   "metadata": {},
   "outputs": [],
   "source": []
  },
  {
   "cell_type": "code",
   "execution_count": null,
   "metadata": {},
   "outputs": [],
   "source": [
    "intersected_blocks_idins1_s2=[] # for each block in s2, the corresponding s1 block id\n",
    "\n",
    "for var_blockids1_blocks_s2_i in var_blockids1_blocks_s2:\n",
    "    var_blockids1_blocks_s2_i_set=set(var_blockids1_blocks_s2_i)\n",
    "    \n",
    "    if '.' in var_blockids1_blocks_s2_i_set:\n",
    "        var_blockids1_blocks_s2_i_set.discard('.')\n",
    "        \n",
    "    if len(var_blockids1_blocks_s2_i_set)==1:\n",
    "        intersected_idins1_s2=int(list(var_blockids1_blocks_s2_i_set)[0])\n",
    "    if len(var_blockids1_blocks_s2_i_set)==0:\n",
    "        intersected_idins1_s2=0\n",
    "    if len(var_blockids1_blocks_s2_i_set)>1:\n",
    "        # find the most frequent blockid in the phaseblock\n",
    "        intersected_idins1_s2=int(max(var_blockids1_blocks_s2_i_set, key=var_blockids1_blocks_s2_i.count) ) \n",
    "        \n",
    "    intersected_blocks_idins1_s2.append(intersected_idins1_s2)\n"
   ]
  },
  {
   "cell_type": "code",
   "execution_count": null,
   "metadata": {},
   "outputs": [],
   "source": []
  },
  {
   "cell_type": "code",
   "execution_count": 2,
   "metadata": {},
   "outputs": [
    {
     "name": "stdout",
     "output_type": "stream",
     "text": [
      "[16065536, 16406342, 16657810, 16960113]\n"
     ]
    }
   ],
   "source": [
    "print(blockid_blocks_s1)\n",
    "#for i in range(len(allele_blocks_s1)):\n",
    "#    print(len(allele_blocks_s1[i]))\n",
    "    \n",
    "#print(blockid_blocks_s2)\n",
    "#for i in range(len(allele_blocks_s2)):\n",
    "#    print(len(allele_blocks_s2[i]))"
   ]
  },
  {
   "cell_type": "code",
   "execution_count": null,
   "metadata": {},
   "outputs": [],
   "source": [
    "alleles_s5=[]\n"
   ]
  },
  {
   "cell_type": "code",
   "execution_count": 10,
   "metadata": {},
   "outputs": [],
   "source": [
    "number_phaseblocks_s1= len(allele_blocks_s1)\n",
    "\n",
    "allele_blocks_s1_new=list(allele_blocks_s1)\n",
    "for block_i in range(number_phaseblocks_s1): # \n",
    "   \n",
    "    allele_block_s1=allele_blocks_s1[block_i]\n",
    "    varpos_block_s1=varpos_blocks_s1[block_i]\n",
    "\n",
    "\n",
    "    similiar_count=0\n",
    "    for var_i, varpos in enumerate(varpos_block_s1):\n",
    "        allele_s1= allele_block_s1[var_i]\n",
    "        \n",
    "        if varpos in varposs_s5:\n",
    "            allele_s5= alleles_s5[varposs_s5.index(varpos)]\n",
    "        \n",
    "            if allele_s1==allele_s2: similiar_count+=1\n",
    "    if similiar_count < len(intersect_varpos)/2:\n",
    "        allele_block_s1_new= [1-i for i in allele_block_s1]\n",
    "        allele_blocks_s1_new[block_i]=allele_block_s1_new\n",
    "        \n"
   ]
  },
  {
   "cell_type": "code",
   "execution_count": null,
   "metadata": {},
   "outputs": [],
   "source": []
  },
  {
   "cell_type": "code",
   "execution_count": 11,
   "metadata": {},
   "outputs": [],
   "source": [
    "\n",
    "allele_blocks_s2_new=list(allele_blocks_s2)\n",
    "for block_i in range(number_phaseblocks_s2): # \n",
    "#for block_i, allele_block_s2 in enumerate(allele_blocks_s2):\n",
    "   \n",
    "    allele_block_s2=allele_blocks_s2[block_i]\n",
    "    varpos_block_s2=varpos_blocks_s2[block_i]\n",
    "\n",
    "    intersected_idins1_s2=intersected_blocks_idins1_s2[block_i]\n",
    "    if intersected_idins1_s2 !=0:\n",
    "        block_indx_s1= blockid_blocks_s1.index(intersected_idins1_s2)\n",
    "    varpos_block_s1=varpos_blocks_s1[block_indx_s1]\n",
    "    allele_block_s1=allele_blocks_s1_new[block_indx_s1]\n",
    "    \n",
    "    intersect_varpos=set(varpos_block_s1) & set(varpos_block_s2)\n",
    "    similiar_count=0\n",
    "    for varpos in intersect_varpos:\n",
    "        allele_s1= allele_block_s1[varpos_block_s1.index(varpos)]\n",
    "        allele_s2= allele_block_s2[varpos_block_s2.index(varpos)]\n",
    "        if allele_s1==allele_s2: similiar_count+=1\n",
    "    #print(similiar_count/len(intersect_varpos))\n",
    "    if similiar_count < len(intersect_varpos)/2:\n",
    "        #print(\"need\", similiar_count)\n",
    "        allele_block_s2_new= [1-i for i in allele_block_s2]\n",
    "        allele_blocks_s2_new[block_i]=allele_block_s2_new\n",
    "        \n"
   ]
  },
  {
   "cell_type": "code",
   "execution_count": null,
   "metadata": {},
   "outputs": [],
   "source": []
  },
  {
   "cell_type": "code",
   "execution_count": null,
   "metadata": {},
   "outputs": [],
   "source": []
  },
  {
   "cell_type": "code",
   "execution_count": null,
   "metadata": {},
   "outputs": [],
   "source": []
  },
  {
   "cell_type": "code",
   "execution_count": 12,
   "metadata": {},
   "outputs": [],
   "source": [
    "matrix_address=\"matrix_up_\"+vcf_file_address\n",
    "\n",
    "matrix_file=open(matrix_address,'w');\n",
    "matrix_file.write(\"\\t\\t\".join([\"Pos\",\"ONT\",\"Illm\",\"parental\"])+\"\\n\") # \"Pos\",\"ONT\",\"CLR\",\"HiFi\",\"Illm\",\"parental\"\n",
    "\n",
    "\n",
    "for block_i_s1 in range(len(blockid_blocks_s1)):\n",
    "    blockid_block_s1=blockid_blocks_s1[block_i_s1]\n",
    "    \n",
    "    allele_block_s1=allele_blocks_s1_new[block_i_s1]\n",
    "    varpos_block_s1=varpos_blocks_s1[block_i_s1]\n",
    "    for var_i_s1 in range(len(varpos_block_s1)):\n",
    "        varpos=varpos_block_s1[var_i_s1]\n",
    "        allele_s1=allele_block_s1[var_i_s1]\n",
    "        \n",
    "        allele_s2='.'\n",
    "        blockid_s2='.'\n",
    "        for block_i_s2 in range(len(blockid_blocks_s2)):\n",
    "            blockid_block_s2 = blockid_blocks_s2[block_i_s2]\n",
    "            allele_block_s2 = allele_blocks_s2_new[block_i_s2]\n",
    "            varpos_block_s2 = varpos_blocks_s2[block_i_s2]\n",
    "            \n",
    "            if varpos in varpos_block_s2:\n",
    "                allele_s2 = allele_block_s2[varpos_block_s2.index(varpos)]\n",
    "                blockid_s2=blockid_block_s2\n",
    "                break # when var is found, no need to continue for loop\n",
    "            \n",
    "        if varpos in varposs_s5:\n",
    "            allele_s5 = alleles_s5[varposs_s5.index(varpos)]\n",
    "        else: allele_s5= '.'\n",
    "\n",
    "                \n",
    "        matrix_row_list=[str(varpos),str(allele_s1)+\":\"+str(blockid_block_s1),\n",
    "                         str(allele_s2)+\":\"+str(blockid_s2),str(allele_s5)] \n",
    "        matrix_file.write(\"\\t\".join(matrix_row_list)+\"\\n\")\n",
    "    \n",
    "matrix_file.close()\n"
   ]
  },
  {
   "cell_type": "code",
   "execution_count": 13,
   "metadata": {},
   "outputs": [
    {
     "data": {
      "text/plain": [
       "4"
      ]
     },
     "execution_count": 13,
     "metadata": {},
     "output_type": "execute_result"
    }
   ],
   "source": [
    "len(blockid_blocks_s1)"
   ]
  },
  {
   "cell_type": "code",
   "execution_count": 6,
   "metadata": {},
   "outputs": [
    {
     "data": {
      "text/plain": [
       "[16051453,\n",
       " 16056353,\n",
       " 16062995,\n",
       " 16065078,\n",
       " 16065536,\n",
       " 16067208,\n",
       " 16068295,\n",
       " 16069374,\n",
       " 16073196,\n",
       " 16077252]"
      ]
     },
     "execution_count": 6,
     "metadata": {},
     "output_type": "execute_result"
    }
   ],
   "source": [
    "varposs_s5[0:10]"
   ]
  },
  {
   "cell_type": "code",
   "execution_count": null,
   "metadata": {},
   "outputs": [],
   "source": []
  },
  {
   "cell_type": "code",
   "execution_count": null,
   "metadata": {},
   "outputs": [],
   "source": []
  },
  {
   "cell_type": "code",
   "execution_count": null,
   "metadata": {},
   "outputs": [],
   "source": []
  }
 ],
 "metadata": {
  "kernelspec": {
   "display_name": "Python 3",
   "language": "python",
   "name": "python3"
  },
  "language_info": {
   "codemirror_mode": {
    "name": "ipython",
    "version": 3
   },
   "file_extension": ".py",
   "mimetype": "text/x-python",
   "name": "python",
   "nbconvert_exporter": "python",
   "pygments_lexer": "ipython3",
   "version": "3.7.8"
  }
 },
 "nbformat": 4,
 "nbformat_minor": 4
}
