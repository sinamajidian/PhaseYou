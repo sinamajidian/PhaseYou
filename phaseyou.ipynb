{
 "cells": [
  {
   "cell_type": "code",
   "execution_count": 114,
   "metadata": {},
   "outputs": [
    {
     "name": "stdout",
     "output_type": "stream",
     "text": [
      "Num phaseblocks in sample one is  252\n",
      "Num phaseblocks in sample two is  251\n",
      "Num phaseblocks in sample three is  6771\n",
      "Num phaseblocks in sample four is  6899\n",
      "Num vars in sample five-parental is  20903\n",
      "Num all vars is  71923\n",
      "number of occurance of weird case (=two variants are in the same block, but far from each other)  535\n"
     ]
    }
   ],
   "source": [
    "\n",
    "vcf_file_address = \"22_5sample.vcf\"  # \"22_4k.vcf\" \n",
    "vcf_file = open(vcf_file_address,'r');\n",
    "\n",
    "\n",
    "blockid_blocks_s1 = []\n",
    "allele_blocks_s1 = []\n",
    "varpos_blocks_s1 = []\n",
    "\n",
    "\n",
    "blockid_blocks_s2 = []\n",
    "allele_blocks_s2 = []\n",
    "varpos_blocks_s2 = []\n",
    "\n",
    "blockid_blocks_s3 = []\n",
    "allele_blocks_s3 = []\n",
    "varpos_blocks_s3 = []\n",
    "\n",
    "blockid_blocks_s4 = []\n",
    "allele_blocks_s4 = []\n",
    "varpos_blocks_s4 = []\n",
    "\n",
    "var_blockids1_blocks_s2 = []   # for each var in s2, shows the s1 blockid\n",
    "var_blockids1_blocks_s3 = []   # for each var in s3, shows the s1 blockid\n",
    "var_blockids1_blocks_s4 = []   # for each var in s4, shows the s1 blockid\n",
    "\n",
    "\n",
    "# for parental that it's only one block per chr so it doesn't have blockid\n",
    "alleles_s5 = []\n",
    "varposs_s5 = []\n",
    "\n",
    "\n",
    "varposs_all = []\n",
    "\n",
    "num_weird_occurs=0\n",
    "\n",
    "var_lines_list = []\n",
    "\n",
    "header_lines_list = []\n",
    "for line in vcf_file:\n",
    "    line_strip = line.strip()\n",
    "    \n",
    "    if line_strip.startswith('#'):\n",
    "        header_lines_list.append(line_strip)\n",
    "        sample_names = line_strip.split('\\t')[9:]   # last line of header contains sample name\n",
    "        #print(sample_names)\n",
    "        \n",
    "    else:\n",
    "        line_parts = line_strip.split('\\t')\n",
    "        var_lines_list.append(line_parts)\n",
    "        #gt_flags, s1, sss, ss, s2, s5 = line_parts[8:]\n",
    "        gt_flags, s1, s2,s3,s4, s5 = line_parts[8:]       # hifi-whatshp illumina-whatshp hifi-hapcut illumina-hapcut true\n",
    "\n",
    "        varpos = int(line_parts[1])                 # variant position\n",
    "        \n",
    "        varposs_all.append(varpos)\n",
    "        gt_flags_split = gt_flags.split(\":\")\n",
    "        \n",
    "        if \"PS\" in gt_flags_split:\n",
    "            idx_ps = gt_flags.split(\":\").index(\"PS\")\n",
    "            idx_gt = gt_flags.split(\":\").index(\"GT\")\n",
    "            \n",
    "\n",
    "                                                 ## s5- parental - last sample in the vcf file\n",
    "            split_s5 = s5.split(\":\")\n",
    "            allele_s5 = split_s5[idx_gt]\n",
    "            blockid_s5 = split_s5[idx_ps]\n",
    "            \n",
    "            if allele_s5 == \"0|1\" or allele_s5 == \"1|0\":\n",
    "                alleles_s5.append(int(allele_s5[0]))\n",
    "                varposs_s5.append(varpos)\n",
    "\n",
    "            \n",
    "            \n",
    "                                                ###  sample 1 ###\n",
    "            split_s1 = s1.split(\":\")\n",
    "            blockid_s1 = split_s1[idx_ps]\n",
    "            allele_s1 = split_s1[idx_gt]\n",
    "            \n",
    "\n",
    "            if blockid_s1 == \".\":                                 # unphased variants for sample one\n",
    "                pass\n",
    "            \n",
    "            elif blockid_s1 in blockid_blocks_s1:\n",
    "                assert allele_s1[1] == \"|\", \"allele_s1[1] should be | and so phased. A non-phased variant is in the phase block\"\n",
    "                \n",
    "                #if blockid_s1 == previous_blockid_s1: previous_blockid_s1_idx has been defined in previous variant which is the last idx\n",
    "                if blockid_s1 != previous_blockid_s1:  \n",
    "                    # weird situation happens for whatshap in which two variants are in the same block but in between there is/are other phaseblock(s)\n",
    "                    # note that the unphased variants are ignored sooner and are not considered here\n",
    "                    previous_blockid_s1_idx = blockid_blocks_s1.index(blockid_s1)\n",
    "                    #print(\"two variants are in the same block, but far from each other\",varpos)                \n",
    "                    num_weird_occurs+=1\n",
    "\n",
    "                allele_blocks_s1[previous_blockid_s1_idx].append( int(allele_s1[0]) )\n",
    "                varpos_blocks_s1[previous_blockid_s1_idx].append( varpos ) \n",
    "\n",
    "                \n",
    "            else:                                                  # A new block started, it can be the first block\n",
    "                \n",
    "                allele_blocks_s1.append( [int(allele_s1[0])] )     # alleles of a phase block (all vars are hetrozygous) \n",
    "                varpos_blocks_s1.append( [varpos] )                # variant posistion of a block\n",
    "                blockid_blocks_s1.append( blockid_s1 )             # add the blockid of the first var  to the list of blockids\n",
    "                \n",
    "                previous_blockid_s1 = blockid_s1\n",
    "                previous_blockid_s1_idx = len(blockid_blocks_s1)-1  # the index of the last block id\n",
    "                \n",
    "\n",
    "\n",
    "                \n",
    "       \n",
    "    \n",
    "                                                ###  sample 2 ###\n",
    "            split_s2 = s2.split(\":\")\n",
    "            blockid_s2 = split_s2[idx_ps]\n",
    "            allele_s2 = split_s2[idx_gt]\n",
    "            if blockid_s2 == \".\":\n",
    "                pass\n",
    "            elif blockid_s2 in blockid_blocks_s2:\n",
    "                assert allele_s2[1] == \"|\", \"allele_s2[1] should be | and so phased. A non-phased variant is in the phase block\"\n",
    "                \n",
    "                if blockid_s2 != previous_blockid_s2:  \n",
    "                    previous_blockid_s2_idx = blockid_blocks_s2.index(blockid_s2)\n",
    "                    num_weird_occurs+=1\n",
    "                allele_blocks_s2[previous_blockid_s2_idx].append( int(allele_s2[0]) )\n",
    "                varpos_blocks_s2[previous_blockid_s2_idx].append( varpos ) \n",
    "                var_blockids1_blocks_s2[previous_blockid_s2_idx].append( blockid_s1 )\n",
    "                \n",
    "            else:                                                 # A new block started   (it can be the first block)\n",
    "                allele_blocks_s2.append( [int(allele_s2[0])] )     # alleles of a phase block (all vars are hetrozygous) \n",
    "                varpos_blocks_s2.append( [varpos] )                # variant posistion of a block\n",
    "                blockid_blocks_s2.append( blockid_s2 )             # add the blockid of the first var  to the list of blockids\n",
    "                var_blockids1_blocks_s2.append( [blockid_s1] )  \n",
    "                previous_blockid_s2 = blockid_s2\n",
    "                previous_blockid_s2_idx = len(blockid_blocks_s2)-1   # the index of the last block id\n",
    "                \n",
    "\n",
    "                                                ###  sample 3 ###\n",
    "            split_s3 = s3.split(\":\")\n",
    "            blockid_s3 = split_s3[idx_ps]\n",
    "            allele_s3 = split_s3[idx_gt]\n",
    "            if blockid_s3 == \".\":\n",
    "                pass\n",
    "            elif blockid_s3 in blockid_blocks_s3:\n",
    "                assert allele_s3[1] == \"|\", \"allele_s3[1] should be | and so phased. A non-phased variant is in the phase block\"\n",
    "                \n",
    "                if blockid_s3 != previous_blockid_s3:  \n",
    "                    previous_blockid_s3_idx = blockid_blocks_s3.index(blockid_s3)\n",
    "                    num_weird_occurs+=1\n",
    "                allele_blocks_s3[previous_blockid_s3_idx].append( int(allele_s3[0]) )\n",
    "                varpos_blocks_s3[previous_blockid_s3_idx].append( varpos ) \n",
    "                var_blockids1_blocks_s3[previous_blockid_s3_idx].append( blockid_s1 )\n",
    "                \n",
    "            else:                                                 # A new block started   (it can be the first block)\n",
    "                allele_blocks_s3.append( [int(allele_s3[0])] )     # alleles of a phase block (all vars are hetrozygous) \n",
    "                varpos_blocks_s3.append( [varpos] )                # variant posistion of a block\n",
    "                blockid_blocks_s3.append( blockid_s3 )             # add the blockid of the first var  to the list of blockids\n",
    "                var_blockids1_blocks_s3.append( [blockid_s1] )  \n",
    "                previous_blockid_s3 = blockid_s3\n",
    "                previous_blockid_s3_idx = len(blockid_blocks_s3)-1   # the index of the last block id\n",
    "                \n",
    "   \n",
    "    \n",
    "                                                ###  sample 3 ###\n",
    "            split_s4 = s4.split(\":\")\n",
    "            blockid_s4 = split_s4[idx_ps]\n",
    "            allele_s4 = split_s4[idx_gt]\n",
    "            if blockid_s4 == \".\":\n",
    "                pass\n",
    "            elif blockid_s4 in blockid_blocks_s4:\n",
    "                assert allele_s4[1] == \"|\", \"allele_s4[1] should be | and so phased. A non-phased variant is in the phase block\"\n",
    "                \n",
    "                if blockid_s4 != previous_blockid_s4:  \n",
    "                    previous_blockid_s4_idx = blockid_blocks_s4.index(blockid_s4)\n",
    "                    num_weird_occurs+=1\n",
    "                allele_blocks_s4[previous_blockid_s4_idx].append( int(allele_s4[0]) )\n",
    "                varpos_blocks_s4[previous_blockid_s4_idx].append( varpos ) \n",
    "                var_blockids1_blocks_s4[previous_blockid_s4_idx].append( blockid_s1 )\n",
    "                \n",
    "            else:                                                 # A new block started   (it can be the first block)\n",
    "                allele_blocks_s4.append( [int(allele_s4[0])] )     # alleles of a phase block (all vars are hetrozygous) \n",
    "                varpos_blocks_s4.append( [varpos] )                # variant posistion of a block\n",
    "                blockid_blocks_s4.append( blockid_s4 )             # add the blockid of the first var  to the list of blockids\n",
    "                var_blockids1_blocks_s4.append( [blockid_s1] )  \n",
    "                previous_blockid_s4 = blockid_s4\n",
    "                previous_blockid_s4_idx = len(blockid_blocks_s4)-1   # the index of the last block id\n",
    "                \n",
    "\n",
    "\n",
    "\n",
    "\n",
    "print(\"Num phaseblocks in sample one is \",len(allele_blocks_s1))\n",
    "print(\"Num phaseblocks in sample two is \",len(allele_blocks_s2))\n",
    "print(\"Num phaseblocks in sample three is \",len(allele_blocks_s3))\n",
    "print(\"Num phaseblocks in sample four is \",len(allele_blocks_s4))\n",
    "print(\"Num vars in sample five-parental is \",len(varposs_s5))\n",
    "print(\"Num all vars is \",len(varposs_all))\n",
    "\n",
    "print(\"number of occurance of weird case (=two variants are in the same block, but far from each other) \", num_weird_occurs)\n",
    " "
   ]
  },
  {
   "cell_type": "code",
   "execution_count": 115,
   "metadata": {},
   "outputs": [],
   "source": [
    "# for test code\n",
    "# cd /Volumes/work/myjupyter/phaseyou\n",
    "#grep \"46014176\" 22_all.vcf\n",
    "\n",
    "#blockid_blocks_s2.index(\"46014176\")\n",
    "#print(allele_blocks_s2[5568],\"\\n\",varpos_blocks_s2[5568])\n"
   ]
  },
  {
   "cell_type": "code",
   "execution_count": null,
   "metadata": {},
   "outputs": [],
   "source": []
  },
  {
   "cell_type": "code",
   "execution_count": null,
   "metadata": {},
   "outputs": [],
   "source": []
  },
  {
   "cell_type": "code",
   "execution_count": null,
   "metadata": {},
   "outputs": [],
   "source": []
  },
  {
   "cell_type": "code",
   "execution_count": 116,
   "metadata": {},
   "outputs": [
    {
     "name": "stdout",
     "output_type": "stream",
     "text": [
      "small [31182721]\n",
      "small [36247796]\n",
      "small [47917314]\n",
      "37559\n",
      "39025\n"
     ]
    }
   ],
   "source": [
    "#%pwd\n",
    "num_phased_s1=0\n",
    "for varpos_block_s1 in varpos_blocks_s1:\n",
    "    num_phased_s1+=len(varpos_block_s1)\n",
    "    if len(varpos_block_s1)<2:\n",
    "        print(\"small\",varpos_block_s1)\n",
    "print(num_phased_s1)\n",
    "\n",
    "\n",
    "# num_phased_s2=0\n",
    "# for allele_block_s2 in allele_blocks_s2:\n",
    "#     num_phased_s2+=len(allele_block_s2)\n",
    "#     if len(allele_block_s2)<2:\n",
    "#         print(\"small,s2\",len(allele_block_s2))\n",
    "# print(num_phased_s2)\n",
    "\n",
    "num_phased_a=0\n",
    "for a in var_blockids1_blocks_s2:\n",
    "    num_phased_a+=len(a)\n",
    "print(num_phased_a)   \n",
    "#len(var_blockids1_blocks_s2[100])\n",
    "#print(var_blockids1_blocks_s2[0])"
   ]
  },
  {
   "cell_type": "code",
   "execution_count": null,
   "metadata": {},
   "outputs": [],
   "source": []
  },
  {
   "cell_type": "code",
   "execution_count": null,
   "metadata": {},
   "outputs": [],
   "source": []
  },
  {
   "cell_type": "code",
   "execution_count": null,
   "metadata": {},
   "outputs": [],
   "source": []
  },
  {
   "cell_type": "code",
   "execution_count": 86,
   "metadata": {},
   "outputs": [],
   "source": [
    "# intersected_blocks_idins1_s2=[] # for each block in s2, the corresponding s1 block id\n",
    "\n",
    "# for var_blockids1_blocks_s2_i in var_blockids1_blocks_s2:\n",
    "#     var_blockids1_blocks_s2_i_set=set(var_blockids1_blocks_s2_i)\n",
    "    \n",
    "#     if '.' in var_blockids1_blocks_s2_i_set:\n",
    "#         var_blockids1_blocks_s2_i_set.discard('.')\n",
    "        \n",
    "#     if len(var_blockids1_blocks_s2_i_set)==1:\n",
    "#         intersected_idins1_s2=list(var_blockids1_blocks_s2_i_set)[0]\n",
    "#     if len(var_blockids1_blocks_s2_i_set)==0:\n",
    "#         intersected_idins1_s2=0\n",
    "#     if len(var_blockids1_blocks_s2_i_set)>1:\n",
    "#         # find the most frequent blockid in the phaseblock\n",
    "#         intersected_idins1_s2=max(var_blockids1_blocks_s2_i_set, key=var_blockids1_blocks_s2_i.count) \n",
    "    \n",
    "        \n",
    "#     intersected_blocks_idins1_s2.append(intersected_idins1_s2)\n"
   ]
  },
  {
   "cell_type": "code",
   "execution_count": 87,
   "metadata": {},
   "outputs": [],
   "source": [
    "# intersected_blocks_idins1_s3=[] # for each block in s3, the corresponding s1 block id\n",
    "\n",
    "# for var_blockids1_blocks_s3_i in var_blockids1_blocks_s3:\n",
    "#     var_blockids1_blocks_s3_i_set=set(var_blockids1_blocks_s3_i)\n",
    "    \n",
    "#     if '.' in var_blockids1_blocks_s3_i_set:\n",
    "#         var_blockids1_blocks_s3_i_set.discard('.')\n",
    "        \n",
    "#     if len(var_blockids1_blocks_s3_i_set)==1:\n",
    "#         intersected_idins1_s3=list(var_blockids1_blocks_s3_i_set)[0]\n",
    "#     if len(var_blockids1_blocks_s3_i_set)==0:\n",
    "#         intersected_idins1_s3=0\n",
    "#     if len(var_blockids1_blocks_s3_i_set)>1:\n",
    "#         # find the most frequent blockid in the phaseblock\n",
    "#         intersected_idins1_s3=max(var_blockids1_blocks_s3_i_set, key=var_blockids1_blocks_s3_i.count) \n",
    "    \n",
    "        \n",
    "#     intersected_blocks_idins1_s3.append(intersected_idins1_s3)\n"
   ]
  },
  {
   "cell_type": "code",
   "execution_count": 88,
   "metadata": {},
   "outputs": [],
   "source": [
    "# intersected_blocks_idins1_s4=[] # for each block in s4, the corresponding s1 block id\n",
    "\n",
    "# for var_blockids1_blocks_s4_i in var_blockids1_blocks_s4:\n",
    "#     var_blockids1_blocks_s4_i_set=set(var_blockids1_blocks_s4_i)\n",
    "    \n",
    "#     if '.' in var_blockids1_blocks_s4_i_set:\n",
    "#         var_blockids1_blocks_s4_i_set.discard('.')\n",
    "        \n",
    "#     if len(var_blockids1_blocks_s4_i_set)==1:\n",
    "#         intersected_idins1_s4=list(var_blockids1_blocks_s4_i_set)[0]\n",
    "#     if len(var_blockids1_blocks_s4_i_set)==0:\n",
    "#         intersected_idins1_s4=0\n",
    "#     if len(var_blockids1_blocks_s4_i_set)>1:\n",
    "#         # find the most frequent blockid in the phaseblock\n",
    "#         intersected_idins1_s4=max(var_blockids1_blocks_s4_i_set, key=var_blockids1_blocks_s4_i.count) \n",
    "    \n",
    "        \n",
    "#     intersected_blocks_idins1_s4.append(intersected_idins1_s4)\n"
   ]
  },
  {
   "cell_type": "code",
   "execution_count": 89,
   "metadata": {},
   "outputs": [],
   "source": [
    "#print(blockid_blocks_s1)\n",
    "#for i in range(len(allele_blocks_s1)):\n",
    "#    print(len(allele_blocks_s1[i]))\n",
    "    \n",
    "#print(blockid_blocks_s2)\n",
    "#for i in range(len(allele_blocks_s2)):\n",
    "#    print(len(allele_blocks_s2[i]))"
   ]
  },
  {
   "cell_type": "code",
   "execution_count": null,
   "metadata": {},
   "outputs": [],
   "source": []
  },
  {
   "cell_type": "code",
   "execution_count": 117,
   "metadata": {},
   "outputs": [],
   "source": [
    "\n",
    "# re-ordering  the phase block allel based on parent\n",
    "\n",
    "## important ## \n",
    "# if we don't have the parental , how we can reorder\n",
    "\n",
    "\n",
    "number_phaseblocks_s1= len(allele_blocks_s1)\n",
    "\n",
    "#allele_blocks_s1_new=list(allele_blocks_s1)\n",
    "for block_i in range(number_phaseblocks_s1): # \n",
    "   \n",
    "    allele_block_s1=allele_blocks_s1[block_i]\n",
    "    varpos_block_s1=varpos_blocks_s1[block_i]\n",
    "\n",
    "\n",
    "    similiar_count=0\n",
    "    diss_count=0\n",
    "    for var_i, varpos in enumerate(varpos_block_s1):\n",
    "        allele_s1= allele_block_s1[var_i]\n",
    "        \n",
    "        if varpos in varposs_s5:\n",
    "            allele_s5= alleles_s5[varposs_s5.index(varpos)]\n",
    "            if allele_s1 == allele_s5:\n",
    "                similiar_count+=1\n",
    "            else: \n",
    "                diss_count+=1\n",
    "                \n",
    "    #print(similiar_count, diss_count)          \n",
    "    if similiar_count < diss_count:\n",
    "        allele_block_s1_reordered = [1-i for i in allele_block_s1] # converting 0->1 and 1->0\n",
    "        allele_blocks_s1[block_i]=allele_block_s1_reordered\n",
    "        #print(\"it needs to re-order\")\n",
    "    \n",
    "#         allele_block_s1_new = [1-i for i in allele_block_s1]\n",
    "#         allele_blocks_s1_new[block_i]=allele_block_s1_new\n",
    "        \n"
   ]
  },
  {
   "cell_type": "code",
   "execution_count": 118,
   "metadata": {},
   "outputs": [],
   "source": [
    "\n",
    "# re-ordering  the phase block allel based on parent\n",
    "\n",
    "## important ?? \n",
    "# if we don't have the parental , how we can reorder\n",
    "\n",
    "\n",
    "number_phaseblocks_s2= len(allele_blocks_s2)\n",
    "#allele_blocks_s1_new=list(allele_blocks_s1)\n",
    "for block_i in range(number_phaseblocks_s2): # \n",
    "   \n",
    "    allele_block_s2=allele_blocks_s2[block_i]\n",
    "    varpos_block_s2=varpos_blocks_s2[block_i]\n",
    "\n",
    "\n",
    "    similiar_count=0\n",
    "    diss_count=0\n",
    "    for var_i, varpos in enumerate(varpos_block_s2):\n",
    "        allele_s2= allele_block_s2[var_i]\n",
    "        \n",
    "        if varpos in varposs_s5:\n",
    "            allele_s5= alleles_s5[varposs_s5.index(varpos)]\n",
    "            if allele_s2 == allele_s5:\n",
    "                similiar_count+=1\n",
    "            else: \n",
    "                diss_count+=1\n",
    "                \n",
    "    #print(similiar_count, diss_count)          \n",
    "    if similiar_count < diss_count:\n",
    "        allele_block_s2_reordered = [1-i for i in allele_block_s2] # converting 0->1 and 1->0\n",
    "        allele_blocks_s2[block_i]=allele_block_s2_reordered\n",
    "\n",
    "\n",
    "        \n",
    "print(\"s2 done\")     \n",
    "number_phaseblocks_s3= len(allele_blocks_s3)\n",
    "for block_i in range(number_phaseblocks_s3): # \n",
    "   \n",
    "    allele_block_s3=allele_blocks_s3[block_i]\n",
    "    varpos_block_s3=varpos_blocks_s3[block_i]\n",
    "\n",
    "\n",
    "    similiar_count=0\n",
    "    diss_count=0\n",
    "    for var_i, varpos in enumerate(varpos_block_s3):\n",
    "        allele_s3= allele_block_s3[var_i]\n",
    "        \n",
    "        if varpos in varposs_s5:\n",
    "            allele_s5= alleles_s5[varposs_s5.index(varpos)]\n",
    "            if allele_s3 == allele_s5:\n",
    "                similiar_count+=1\n",
    "            else: \n",
    "                diss_count+=1\n",
    "    #print(similiar_count, diss_count)          \n",
    "    if similiar_count < diss_count:\n",
    "        allele_block_s3_reordered = [1-i for i in allele_block_s3] # converting 0->1 and 1->0\n",
    "        allele_blocks_s3[block_i]=allele_block_s3_reordered\n",
    "    \n",
    "\n",
    "print(\"s3 done\")     \n",
    "number_phaseblocks_s4= len(allele_blocks_s4)\n",
    "for block_i in range(number_phaseblocks_s4): # \n",
    "   \n",
    "    allele_block_s4=allele_blocks_s4[block_i]\n",
    "    varpos_block_s4=varpos_blocks_s4[block_i]\n",
    "\n",
    "\n",
    "    similiar_count=0\n",
    "    diss_count=0\n",
    "    for var_i, varpos in enumerate(varpos_block_s4):\n",
    "        allele_s4= allele_block_s4[var_i]\n",
    "        \n",
    "        if varpos in varposs_s5:\n",
    "            allele_s5= alleles_s5[varposs_s5.index(varpos)]\n",
    "            if allele_s4 == allele_s5:\n",
    "                similiar_count+=1\n",
    "            else: \n",
    "                diss_count+=1\n",
    "                \n",
    "    #print(similiar_count, diss_count)          \n",
    "    if similiar_count < diss_count:\n",
    "        allele_block_s4_reordered = [1-i for i in allele_block_s4] # converting 0->1 and 1->0\n",
    "        allele_blocks_s4[block_i]=allele_block_s4_reordered\n",
    "    \n"
   ]
  },
  {
   "cell_type": "code",
   "execution_count": null,
   "metadata": {},
   "outputs": [],
   "source": []
  },
  {
   "cell_type": "code",
   "execution_count": null,
   "metadata": {},
   "outputs": [],
   "source": []
  },
  {
   "cell_type": "code",
   "execution_count": null,
   "metadata": {},
   "outputs": [],
   "source": []
  },
  {
   "cell_type": "code",
   "execution_count": null,
   "metadata": {},
   "outputs": [],
   "source": []
  },
  {
   "cell_type": "code",
   "execution_count": 119,
   "metadata": {},
   "outputs": [],
   "source": [
    "# number_phaseblocks_s2= len(allele_blocks_s2)\n",
    "\n",
    "# for block_i in range(number_phaseblocks_s2): # \n",
    "   \n",
    "#     allele_block_s2=allele_blocks_s2[block_i]\n",
    "#     varpos_block_s2=varpos_blocks_s2[block_i]\n",
    "\n",
    "#     intersected_idins1_s2=intersected_blocks_idins1_s2[block_i]\n",
    "#     if intersected_idins1_s2 !=0:\n",
    "#         block_indx_s1= blockid_blocks_s1.index(intersected_idins1_s2)\n",
    "#     varpos_block_s1=varpos_blocks_s1[block_indx_s1]\n",
    "#     allele_block_s1=allele_blocks_s1[block_indx_s1]\n",
    "    \n",
    "#     intersect_varpos=set(varpos_block_s1) & set(varpos_block_s2)\n",
    "#     similiar_count=0\n",
    "#     for varpos in intersect_varpos:\n",
    "#         allele_s1= allele_block_s1[varpos_block_s1.index(varpos)]\n",
    "#         allele_s2= allele_block_s2[varpos_block_s2.index(varpos)]\n",
    "#         if allele_s1==allele_s2: similiar_count+=1\n",
    "#     #print(similiar_count/len(intersect_varpos))\n",
    "#     if similiar_count < len(intersect_varpos)/2:\n",
    "#         #print(\"need\", similiar_count)\n",
    "#         allele_block_s2_reordered= [1-i for i in allele_block_s2]\n",
    "#         allele_blocks_s2[block_i]=allele_block_s2_reordered\n",
    "#         #print(\"it needs to re-order\")\n",
    "\n"
   ]
  },
  {
   "cell_type": "code",
   "execution_count": 120,
   "metadata": {},
   "outputs": [],
   "source": [
    "# number_phaseblocks_s3= len(allele_blocks_s3)\n",
    "\n",
    "# for block_i in range(number_phaseblocks_s3): # \n",
    "   \n",
    "#     allele_block_s3=allele_blocks_s3[block_i]\n",
    "#     varpos_block_s3=varpos_blocks_s3[block_i]\n",
    "\n",
    "#     intersected_idins1_s3=intersected_blocks_idins1_s3[block_i]\n",
    "#     if intersected_idins1_s3 !=0:\n",
    "#         block_indx_s1= blockid_blocks_s1.index(intersected_idins1_s3)\n",
    "#     varpos_block_s1=varpos_blocks_s1[block_indx_s1]\n",
    "#     allele_block_s1=allele_blocks_s1[block_indx_s1]\n",
    "    \n",
    "#     intersect_varpos=set(varpos_block_s1) & set(varpos_block_s3)\n",
    "#     similiar_count=0\n",
    "#     for varpos in intersect_varpos:\n",
    "#         allele_s1= allele_block_s1[varpos_block_s1.index(varpos)]\n",
    "#         allele_s3= allele_block_s3[varpos_block_s3.index(varpos)]\n",
    "#         if allele_s1==allele_s3: similiar_count+=1\n",
    "#     #print(similiar_count/len(intersect_varpos))\n",
    "#     if similiar_count < len(intersect_varpos)/2:\n",
    "#         #print(\"need\", similiar_count)\n",
    "#         allele_block_s3_reordered= [1-i for i in allele_block_s3]\n",
    "#         allele_blocks_s3[block_i]=allele_block_s3_reordered\n",
    "#         #print(\"it needs to re-order\")\n",
    "\n",
    "\n",
    "        \n",
    "# number_phaseblocks_s4= len(allele_blocks_s4)\n",
    "\n",
    "# for block_i in range(number_phaseblocks_s4): # \n",
    "   \n",
    "#     allele_block_s4=allele_blocks_s4[block_i]\n",
    "#     varpos_block_s4=varpos_blocks_s4[block_i]\n",
    "\n",
    "#     intersected_idins1_s4=intersected_blocks_idins1_s4[block_i]\n",
    "#     if intersected_idins1_s4 !=0:\n",
    "#         block_indx_s1= blockid_blocks_s1.index(intersected_idins1_s4)\n",
    "#     varpos_block_s1=varpos_blocks_s1[block_indx_s1]\n",
    "#     allele_block_s1=allele_blocks_s1[block_indx_s1]\n",
    "    \n",
    "#     intersect_varpos=set(varpos_block_s1) & set(varpos_block_s4)\n",
    "#     similiar_count=0\n",
    "#     for varpos in intersect_varpos:\n",
    "#         allele_s1= allele_block_s1[varpos_block_s1.index(varpos)]\n",
    "#         allele_s4= allele_block_s4[varpos_block_s4.index(varpos)]\n",
    "#         if allele_s1==allele_s4: similiar_count+=1\n",
    "#     #print(similiar_count/len(intersect_varpos))\n",
    "#     if similiar_count < len(intersect_varpos)/2:\n",
    "#         #print(\"need\", similiar_count)\n",
    "#         allele_block_s4_reordered= [1-i for i in allele_block_s4]\n",
    "#         allele_blocks_s4[block_i]=allele_block_s4_reordered\n",
    "#         #print(\"it needs to re-order\")\n",
    "\n"
   ]
  },
  {
   "cell_type": "code",
   "execution_count": null,
   "metadata": {},
   "outputs": [],
   "source": []
  },
  {
   "cell_type": "code",
   "execution_count": null,
   "metadata": {},
   "outputs": [],
   "source": []
  },
  {
   "cell_type": "code",
   "execution_count": null,
   "metadata": {},
   "outputs": [],
   "source": []
  },
  {
   "cell_type": "code",
   "execution_count": null,
   "metadata": {},
   "outputs": [],
   "source": []
  },
  {
   "cell_type": "code",
   "execution_count": null,
   "metadata": {},
   "outputs": [],
   "source": []
  },
  {
   "cell_type": "code",
   "execution_count": 121,
   "metadata": {},
   "outputs": [
    {
     "ename": "KeyboardInterrupt",
     "evalue": "",
     "output_type": "error",
     "traceback": [
      "\u001b[0;31m---------------------------------------------------------------------------\u001b[0m",
      "\u001b[0;31mKeyboardInterrupt\u001b[0m                         Traceback (most recent call last)",
      "\u001b[0;32m<ipython-input-121-c7b48d44d097>\u001b[0m in \u001b[0;36m<module>\u001b[0;34m\u001b[0m\n\u001b[1;32m     45\u001b[0m         \u001b[0mvarpos_block_s4\u001b[0m \u001b[0;34m=\u001b[0m \u001b[0mvarpos_blocks_s4\u001b[0m\u001b[0;34m[\u001b[0m\u001b[0mblock_i_s4\u001b[0m\u001b[0;34m]\u001b[0m\u001b[0;34m\u001b[0m\u001b[0;34m\u001b[0m\u001b[0m\n\u001b[1;32m     46\u001b[0m \u001b[0;34m\u001b[0m\u001b[0m\n\u001b[0;32m---> 47\u001b[0;31m         \u001b[0;32mif\u001b[0m \u001b[0mvarpos\u001b[0m \u001b[0;32min\u001b[0m \u001b[0mvarpos_block_s4\u001b[0m\u001b[0;34m:\u001b[0m\u001b[0;34m\u001b[0m\u001b[0;34m\u001b[0m\u001b[0m\n\u001b[0m\u001b[1;32m     48\u001b[0m             \u001b[0mallele_s4\u001b[0m \u001b[0;34m=\u001b[0m \u001b[0mallele_block_s4\u001b[0m\u001b[0;34m[\u001b[0m\u001b[0mvarpos_block_s4\u001b[0m\u001b[0;34m.\u001b[0m\u001b[0mindex\u001b[0m\u001b[0;34m(\u001b[0m\u001b[0mvarpos\u001b[0m\u001b[0;34m)\u001b[0m\u001b[0;34m]\u001b[0m\u001b[0;34m\u001b[0m\u001b[0;34m\u001b[0m\u001b[0m\n\u001b[1;32m     49\u001b[0m             \u001b[0mblockid_s4\u001b[0m \u001b[0;34m=\u001b[0m \u001b[0mblockid_blocks_s4\u001b[0m\u001b[0;34m[\u001b[0m\u001b[0mblock_i_s4\u001b[0m\u001b[0;34m]\u001b[0m\u001b[0;34m\u001b[0m\u001b[0;34m\u001b[0m\u001b[0m\n",
      "\u001b[0;31mKeyboardInterrupt\u001b[0m: "
     ]
    }
   ],
   "source": [
    "matrix_row_lists=[]\n",
    "for varpos in varposs_all:\n",
    "    # for increasing the speed we can use the information that the phase blocks are in order.\n",
    "    # but not for those weird phase block\n",
    "\n",
    "\n",
    "    allele_s1='.'\n",
    "    blockid_s1='.'\n",
    "    for block_i_s1 in range(len(blockid_blocks_s1)):\n",
    "        allele_block_s1 = allele_blocks_s1[block_i_s1]\n",
    "        varpos_block_s1 = varpos_blocks_s1[block_i_s1]\n",
    "\n",
    "        if varpos in varpos_block_s1:\n",
    "            allele_s1 = allele_block_s1[varpos_block_s1.index(varpos)]\n",
    "            blockid_s1 = blockid_blocks_s1[block_i_s1]\n",
    "            break # when var is found, no need to continue for loop\n",
    "\n",
    "            \n",
    "    allele_s2='.'\n",
    "    blockid_s2='.'\n",
    "    for block_i_s2 in range(len(blockid_blocks_s2)):\n",
    "        allele_block_s2 = allele_blocks_s2[block_i_s2]\n",
    "        varpos_block_s2 = varpos_blocks_s2[block_i_s2]\n",
    "\n",
    "        if varpos in varpos_block_s2:\n",
    "            allele_s2 = allele_block_s2[varpos_block_s2.index(varpos)]\n",
    "            blockid_s2 = blockid_blocks_s2[block_i_s2]\n",
    "            break # when var is found, no need to continue for loop\n",
    "\n",
    "    allele_s3='.'\n",
    "    blockid_s3='.'\n",
    "    for block_i_s3 in range(len(blockid_blocks_s3)):\n",
    "        allele_block_s3 = allele_blocks_s3[block_i_s3]\n",
    "        varpos_block_s3 = varpos_blocks_s3[block_i_s3]\n",
    "\n",
    "        if varpos in varpos_block_s3:\n",
    "            allele_s3 = allele_block_s3[varpos_block_s3.index(varpos)]\n",
    "            blockid_s3 = blockid_blocks_s3[block_i_s3]\n",
    "            break # when var is found, no need to continue for loop\n",
    "\n",
    "    allele_s4='.'\n",
    "    blockid_s4='.'\n",
    "    for block_i_s4 in range(len(blockid_blocks_s4)):\n",
    "        allele_block_s4 = allele_blocks_s4[block_i_s4]\n",
    "        varpos_block_s4 = varpos_blocks_s4[block_i_s4]\n",
    "\n",
    "        if varpos in varpos_block_s4:\n",
    "            allele_s4 = allele_block_s4[varpos_block_s4.index(varpos)]\n",
    "            blockid_s4 = blockid_blocks_s4[block_i_s4]\n",
    "            break # when var is found, no need to continue for loop\n",
    "\n",
    "    \n",
    "            \n",
    "    if varpos in varposs_s5:\n",
    "        allele_s5 = alleles_s5[varposs_s5.index(varpos)]\n",
    "    else: allele_s5= '.'\n",
    "\n",
    "    if not (allele_s1=='.' and allele_s2=='.' and allele_s3=='.' and allele_s4=='.' and allele_s5=='.'): \n",
    "        matrix_row_list=[str(varpos),str(allele_s1)+\":\"+str(blockid_s1),\n",
    "                         str(allele_s2)+\":\"+str(blockid_s2),str(allele_s3)+\":\"+str(blockid_s3),\n",
    "                         str(allele_s4)+\":\"+str(blockid_s4), str(allele_s5)] \n",
    "        matrix_row_lists.append(matrix_row_list)\n",
    "\n",
    "        \n",
    "# one option can be for loop over blockid_blocks_s1 instead of varposs_all, then search in  blockid_blocks_s1 also for printing sort them to overcome weird phase block\n",
    "# the issue will be for those variant that are not phased in blockid_blocks_s1 but in blockid_blocks_s2\n"
   ]
  },
  {
   "cell_type": "code",
   "execution_count": null,
   "metadata": {},
   "outputs": [],
   "source": []
  },
  {
   "cell_type": "code",
   "execution_count": 128,
   "metadata": {},
   "outputs": [
    {
     "name": "stdout",
     "output_type": "stream",
     "text": [
      "Majoritvote\t 34033 15870 602 3.79\n",
      "hifi-whatshp \t 32160 15737 1563 9.93\n",
      "hifi-hapcut \t 33387 15781 1426 9.04\n",
      "illum-whatshp  \t 26232 12233 258 2.11\n",
      "illum-hapcut \t 27259 12284 212 1.73\n"
     ]
    }
   ],
   "source": [
    "matrix_row_lists_prd_majvt =[]\n",
    "num_err_maj=0\n",
    "\n",
    "num_shared_majv=0\n",
    "num_shared_s1=0\n",
    "num_shared_s2=0\n",
    "num_shared_s3=0\n",
    "num_shared_s4=0\n",
    "\n",
    "num_err_s1=0\n",
    "num_err_s2=0\n",
    "num_err_s3=0\n",
    "num_err_s4=0\n",
    "num_maj=0\n",
    "num1,num2,num3,num4=[0,0,0,0]\n",
    "\n",
    "for row_i, matrix_row_list in enumerate(matrix_row_lists):\n",
    "    \n",
    "    varpos, s1, s2, s3, s4, allele_s5 = matrix_row_list\n",
    "    \n",
    "    all_alleles_raw=[s1[0], s2[0],s3[0],s4[0]]\n",
    "    all_alleles=[i for i in all_alleles_raw if i != '.']   \n",
    "    if all_alleles:\n",
    "        allele_majvt=max(set(all_alleles), key=all_alleles.count)\n",
    "    else:\n",
    "        allele_majvt=\".\"\n",
    "        \n",
    "    if allele_majvt!='.':\n",
    "        num_maj+=1\n",
    "        if allele_s5 !='.':\n",
    "            num_shared_majv+=1\n",
    "            if allele_s5!=allele_majvt:\n",
    "                num_err_maj+=1\n",
    "    \n",
    "    if s1[0] !='.':\n",
    "        num1+=1\n",
    "        if allele_s5 !='.' :\n",
    "            num_shared_s1 +=1\n",
    "            if allele_s5!=s1[0]:\n",
    "                num_err_s1+=1\n",
    "\n",
    "    \n",
    "    if s2[0] !='.':\n",
    "        num2+=1\n",
    "        if allele_s5 !='.' :\n",
    "            num_shared_s2 +=1\n",
    "            if allele_s5!=s2[0]:\n",
    "                num_err_s2+=1\n",
    "                \n",
    "    \n",
    "    if s3[0] !='.':\n",
    "        num3+=1\n",
    "        if allele_s5 !='.' :\n",
    "            num_shared_s3 +=1\n",
    "            if allele_s5!=s3[0]:\n",
    "                num_err_s3+=1\n",
    "                \n",
    "    \n",
    "    if s4[0] !='.':\n",
    "        num4+=1\n",
    "        if allele_s5 !='.' :\n",
    "            num_shared_s4 +=1\n",
    "            if allele_s5!=s4[0]:\n",
    "                num_err_s4+=1\n",
    "            \n",
    "print(\"Majoritvote\\t\",num_maj , num_shared_majv, num_err_maj, round(100*num_err_maj/num_shared_majv,2))\n",
    "print(\"hifi-whatshp \\t\",num1, num_shared_s1,num_err_s1, round(100*num_err_s1/num_shared_s1,2))\n",
    "print(\"hifi-hapcut \\t\",num2, num_shared_s2,num_err_s2, round(100*num_err_s2/num_shared_s2,2))\n",
    "print(\"illum-whatshp  \\t\", num3, num_shared_s3,num_err_s3, round(100*num_err_s3/num_shared_s3,2))\n",
    "print(\"illum-hapcut \\t\",num4, num_shared_s4,num_err_s4, round(100*num_err_s4/num_shared_s4,2))\n",
    "\n",
    "  "
   ]
  },
  {
   "cell_type": "code",
   "execution_count": 126,
   "metadata": {},
   "outputs": [
    {
     "data": {
      "text/plain": [
       "3.7900000000000005"
      ]
     },
     "execution_count": 126,
     "metadata": {},
     "output_type": "execute_result"
    }
   ],
   "source": [
    "round(num_err_maj/num_shared_majv,4)"
   ]
  },
  {
   "cell_type": "code",
   "execution_count": null,
   "metadata": {},
   "outputs": [],
   "source": []
  },
  {
   "cell_type": "code",
   "execution_count": null,
   "metadata": {},
   "outputs": [],
   "source": []
  },
  {
   "cell_type": "code",
   "execution_count": null,
   "metadata": {},
   "outputs": [],
   "source": []
  },
  {
   "cell_type": "code",
   "execution_count": null,
   "metadata": {},
   "outputs": [],
   "source": []
  },
  {
   "cell_type": "code",
   "execution_count": null,
   "metadata": {},
   "outputs": [],
   "source": []
  },
  {
   "cell_type": "code",
   "execution_count": null,
   "metadata": {},
   "outputs": [],
   "source": []
  },
  {
   "cell_type": "code",
   "execution_count": null,
   "metadata": {},
   "outputs": [],
   "source": []
  },
  {
   "cell_type": "code",
   "execution_count": null,
   "metadata": {},
   "outputs": [],
   "source": []
  },
  {
   "cell_type": "code",
   "execution_count": null,
   "metadata": {},
   "outputs": [],
   "source": []
  },
  {
   "cell_type": "code",
   "execution_count": null,
   "metadata": {},
   "outputs": [],
   "source": []
  },
  {
   "cell_type": "code",
   "execution_count": null,
   "metadata": {},
   "outputs": [],
   "source": []
  },
  {
   "cell_type": "code",
   "execution_count": null,
   "metadata": {},
   "outputs": [],
   "source": []
  },
  {
   "cell_type": "code",
   "execution_count": null,
   "metadata": {},
   "outputs": [],
   "source": []
  },
  {
   "cell_type": "code",
   "execution_count": null,
   "metadata": {},
   "outputs": [],
   "source": []
  },
  {
   "cell_type": "code",
   "execution_count": null,
   "metadata": {},
   "outputs": [],
   "source": []
  },
  {
   "cell_type": "code",
   "execution_count": 106,
   "metadata": {},
   "outputs": [],
   "source": [
    "result_consensus =[]\n",
    "\n",
    "changes_varpos_pre=[]\n",
    "changes_varpos_next=[]\n",
    "\n",
    "matrix_row_lists_prd =[]\n",
    "for row_i, matrix_row_list in enumerate(matrix_row_lists):\n",
    "    varpos, s1, s2, s3, s4, allele_s5 = matrix_row_list\n",
    "    \n",
    "    allele_s1='.';blockid_s1='.'\n",
    "    allele_s2='.';blockid_s2='.'\n",
    "    allele_s3='.';blockid_s3='.'\n",
    "    allele_s4='.';blockid_s4='.'\n",
    "    if s1 != '.:.':\n",
    "        allele_s1 = s1[0]\n",
    "        blockid_s1 = s1[2:]\n",
    "        blockid_s1_last_known = blockid_s1\n",
    "        \n",
    "    if s2 != '.:.':\n",
    "        allele_s2 = s2[0]\n",
    "        blockid_s2 = s2[2:]        \n",
    "    if s3 != '.:.':\n",
    "        allele_s3 = s3[0]\n",
    "        blockid_s3 = s3[2:]\n",
    "    if s4 != '.:.':\n",
    "        allele_s4 = s4[0]\n",
    "        blockid_s4 = s4[2:]\n",
    "    \n",
    "    allele_s_p = allele_s1\n",
    "    blockid_s_p = blockid_s1\n",
    "    \n",
    "    if allele_s1 == '.' and allele_s2 != \".\":\n",
    "\n",
    "        if blockid_s2 == blockid_s1_last_known:\n",
    "            allele_s_p = allele_s2\n",
    "            blockid_s_p = blockid_s2\n",
    "            changes_varpos_pre.append(varpos)\n",
    "        else:             # check next variant, \n",
    "\n",
    "            blockid_s1_next = matrix_row_lists[row_i+1][1][2:]\n",
    "            blockid_s2_next = matrix_row_lists[row_i+1][2][2:]\n",
    "            if blockid_s2_next == blockid_s2:\n",
    "                allele_s_p = allele_s2\n",
    "                blockid_s_p = blockid_s2 \n",
    "                changes_varpos_next.append(varpos)\n",
    "\n",
    "            else:\n",
    "                print(\"blockIds of s1 and s2 don't match: \",varpos,allele_s_p,blockid_s_p,)\n",
    "            \n",
    "    if allele_s1 != '.' :\n",
    "        if allele_s1 != allele_s2 and allele_s2 == allele_s3 and allele_s3 == allele_s4:\n",
    "            result_consensus.append(allele_s1 == allele_s5)\n",
    "            #print(varpos, allele_s1 == allele_s5)\n",
    "            allele_s_p = str(1-int(allele_s_p))\n",
    "\n",
    "   \n",
    "            \n",
    "            \n",
    "        \n",
    "    matrix_row_list_prd = [str(varpos),str(allele_s1)+\":\"+str(blockid_s1),\n",
    "                                  str(allele_s2)+\":\"+str(blockid_s2),str(allele_s3)+\":\"+str(blockid_s3),\n",
    "                                  str(allele_s4)+\":\"+str(blockid_s4), str(allele_s5),\n",
    "                                  str(allele_s_p)+\":\"+str(blockid_s_p)] \n",
    "    \n",
    "    matrix_row_lists_prd.append(matrix_row_list_prd)\n",
    "    \n",
    "    \n",
    "    "
   ]
  },
  {
   "cell_type": "code",
   "execution_count": 107,
   "metadata": {},
   "outputs": [],
   "source": [
    "#sum(result_consensus), len(result_consensus)"
   ]
  },
  {
   "cell_type": "code",
   "execution_count": null,
   "metadata": {},
   "outputs": [],
   "source": []
  },
  {
   "cell_type": "code",
   "execution_count": 108,
   "metadata": {},
   "outputs": [],
   "source": [
    "#print(len(changes_varpos_pre),len(changes_varpos_next))"
   ]
  },
  {
   "cell_type": "code",
   "execution_count": 109,
   "metadata": {},
   "outputs": [],
   "source": [
    "#changes_varpos_next[:20]"
   ]
  },
  {
   "cell_type": "code",
   "execution_count": null,
   "metadata": {},
   "outputs": [],
   "source": []
  },
  {
   "cell_type": "code",
   "execution_count": 110,
   "metadata": {},
   "outputs": [],
   "source": [
    "matrix_address=vcf_file_address+\"_matrix5_p2.txt\"\n",
    "\n",
    "matrix_file=open(matrix_address,'w');\n",
    "matrix_file.write(\"\\t\\t\".join([\"Pos\",\"HiFiWsp\",\"HiFiHpct\",\"IllmWsp\",\"IllmHpct\",\"parental\",\"predicted\"])+\"\\n\") # \"Pos\",\"ONT\",\"CLR\",\"HiFi\",\"Illm\",\"parental\"\n",
    "for matrix_row_list in matrix_row_lists_prd:\n",
    "\n",
    "        matrix_file.write(\"\\t\".join(matrix_row_list)+\"\\n\")\n",
    "\n",
    "matrix_file.close()\n",
    "   "
   ]
  },
  {
   "cell_type": "code",
   "execution_count": 111,
   "metadata": {},
   "outputs": [
    {
     "data": {
      "text/plain": [
       "'22_4k.vcf'"
      ]
     },
     "execution_count": 111,
     "metadata": {},
     "output_type": "execute_result"
    }
   ],
   "source": [
    "vcf_file_address"
   ]
  },
  {
   "cell_type": "code",
   "execution_count": 112,
   "metadata": {},
   "outputs": [
    {
     "name": "stdout",
     "output_type": "stream",
     "text": [
      "s5 626\n",
      "s2!=s3=s4=s5: 15 s2=s3=s4=s5: 5\n",
      "s2=s3=s4!=s5: 600 s2!=s3=s4!s5: 1\n"
     ]
    }
   ],
   "source": [
    "\n",
    "result_consensus =[]\n",
    "\n",
    "changes_varpos_pre=[]\n",
    "changes_varpos_next=[]\n",
    "\n",
    "matrix_row_lists_prd =[]\n",
    "\n",
    "\n",
    "cntr1=cntr2=cntr3=cntr4=cntr0=0\n",
    "for row_i, matrix_row_list in enumerate(matrix_row_lists):\n",
    "    varpos, s1, s2, s3, s4, allele_s5 = matrix_row_list\n",
    "    \n",
    "    allele_s1='.';blockid_s1='.'\n",
    "    allele_s2='.';blockid_s2='.'\n",
    "    allele_s3='.';blockid_s3='.'\n",
    "    allele_s4='.';blockid_s4='.'\n",
    "    if s1 != '.:.':\n",
    "        allele_s1 = s1[0]\n",
    "        blockid_s1 = s1[2:]\n",
    "        blockid_s1_last_known = blockid_s1\n",
    "        \n",
    "    if s2 != '.:.':\n",
    "        allele_s2 = s2[0]\n",
    "        blockid_s2 = s2[2:]        \n",
    "    if s3 != '.:.':\n",
    "        allele_s3 = s3[0]\n",
    "        blockid_s3 = s3[2:]\n",
    "    if s4 != '.:.':\n",
    "        allele_s4 = s4[0]\n",
    "        blockid_s4 = s4[2:]\n",
    "    \n",
    "    allele_s_p = allele_s1\n",
    "    blockid_s_p = blockid_s1\n",
    "    \n",
    "    if allele_s1 == '.' and allele_s2 != \".\":\n",
    "        \n",
    "        \n",
    "\n",
    "        if blockid_s2 == blockid_s1_last_known:\n",
    "            allele_s_p = allele_s2\n",
    "            blockid_s_p = blockid_s2\n",
    "            changes_varpos_pre.append(varpos)\n",
    "        else:             # check next variant, \n",
    "\n",
    "            blockid_s1_next = matrix_row_lists[row_i+1][1][2:]\n",
    "            blockid_s2_next = matrix_row_lists[row_i+1][2][2:]\n",
    "            if blockid_s2_next == blockid_s2:\n",
    "                allele_s_p = allele_s2\n",
    "                blockid_s_p = blockid_s2 \n",
    "                changes_varpos_next.append(varpos)\n",
    "\n",
    "            else:\n",
    "                print(\"blockIds of s1 and s2 don't match: \",varpos,allele_s_p,blockid_s_p,)\n",
    "            \n",
    "    if allele_s1 != '.' :\n",
    "        if allele_s1 != allele_s2 and allele_s2 == allele_s3 and allele_s3 == allele_s4:\n",
    "            result_consensus.append(allele_s1 == allele_s5)\n",
    "            #print(varpos, allele_s1 == allele_s5)\n",
    "            allele_s_p = str(1-int(allele_s_p))\n",
    "        \n",
    "    if allele_s1 == '.' and allele_s5 != \".\":\n",
    "    #if allele_s5 != \".\":\n",
    "        \n",
    "        \n",
    "        cntr0+=1\n",
    "        if allele_s2 != allele_s3 and allele_s3 == allele_s4 and allele_s4 == allele_s5:\n",
    "            cntr1+=1\n",
    "        if allele_s2 == allele_s3 and allele_s3 == allele_s4 and allele_s4 == allele_s5:\n",
    "            cntr2+=1\n",
    "        if allele_s2 == allele_s3 and allele_s3 == allele_s4 and allele_s4 != allele_s5:\n",
    "            cntr3+=1\n",
    "        if allele_s2 != allele_s3 and allele_s3 == allele_s4 and allele_s4 != allele_s5:\n",
    "            cntr4+=1\n",
    "        \n",
    "        \n",
    "print(\"s5\", cntr0)         \n",
    "print(\"s2!=s3=s4=s5:\",cntr1,\"s2=s3=s4=s5:\",cntr2)\n",
    "print(\"s2=s3=s4!=s5:\",cntr3,\"s2!=s3=s4!s5:\",cntr4) \n",
    "        \n",
    "#     matrix_row_list_prd = [str(varpos),str(allele_s1)+\":\"+str(blockid_s1),\n",
    "#                                   str(allele_s2)+\":\"+str(blockid_s2),str(allele_s3)+\":\"+str(blockid_s3),\n",
    "#                                   str(allele_s4)+\":\"+str(blockid_s4), str(allele_s5),\n",
    "#                                   str(allele_s_p)+\":\"+str(blockid_s_p)] \n",
    "    \n",
    "#     matrix_row_lists_prd.append(matrix_row_list_prd)\n",
    "    \n",
    "    \n",
    "    "
   ]
  },
  {
   "cell_type": "code",
   "execution_count": 19,
   "metadata": {},
   "outputs": [
    {
     "data": {
      "text/plain": [
       "41998"
      ]
     },
     "execution_count": 19,
     "metadata": {},
     "output_type": "execute_result"
    }
   ],
   "source": [
    "len(matrix_row_lists)"
   ]
  },
  {
   "cell_type": "code",
   "execution_count": null,
   "metadata": {},
   "outputs": [],
   "source": []
  },
  {
   "cell_type": "code",
   "execution_count": null,
   "metadata": {},
   "outputs": [],
   "source": []
  },
  {
   "cell_type": "code",
   "execution_count": null,
   "metadata": {},
   "outputs": [],
   "source": []
  },
  {
   "cell_type": "code",
   "execution_count": null,
   "metadata": {},
   "outputs": [],
   "source": []
  },
  {
   "cell_type": "code",
   "execution_count": null,
   "metadata": {},
   "outputs": [],
   "source": []
  },
  {
   "cell_type": "code",
   "execution_count": 20,
   "metadata": {},
   "outputs": [
    {
     "name": "stdout",
     "output_type": "stream",
     "text": [
      "71923 0\n"
     ]
    }
   ],
   "source": [
    "varpos_list_inmatrix=[]\n",
    "for matrix_row_list in matrix_row_lists_prd:\n",
    "    varpos_list_inmatrix.append(matrix_row_list[0])\n",
    "print(len(varposs_all),len(varpos_list_inmatrix))"
   ]
  },
  {
   "cell_type": "code",
   "execution_count": null,
   "metadata": {},
   "outputs": [],
   "source": []
  },
  {
   "cell_type": "code",
   "execution_count": 21,
   "metadata": {},
   "outputs": [],
   "source": [
    "var_lines_list_imp = []\n",
    "for var_line_list in var_lines_list: # \n",
    "    var_line_list_part=var_line_list[:9]\n",
    "    \n",
    "        \n",
    "#     matrix_row_list_prd = [str(varpos),str(allele_s1)+\":\"+str(blockid_s1),\n",
    "#                                   str(allele_s2)+\":\"+str(blockid_s2),str(allele_s3)+\":\"+str(blockid_s3),\n",
    "#                                   str(allele_s4)+\":\"+str(blockid_s4), str(allele_s5),\n",
    "#                                   str(allele_s_p)+\":\"+str(blockid_s_p)] \n",
    "    varpos = var_line_list_part[1]\n",
    "    if varpos in varpos_list_inmatrix:\n",
    "        \n",
    "        gt_flags = var_line_list[8]\n",
    "        idx_ps = gt_flags.split(\":\").index(\"PS\")\n",
    "        idx_gt = gt_flags.split(\":\").index(\"GT\")        \n",
    "        s1 = var_line_list[9] # the rest of var info is got from the s1\n",
    "        split_s1 = s1.split(\":\")\n",
    "        \n",
    "        var_idx = varpos_list_inmatrix.index(varpos)\n",
    "        matrix_row_list_prd = matrix_row_lists_prd[var_idx]\n",
    "\n",
    "        allele_s_p = matrix_row_list_prd[6][0]\n",
    "        blockid_s_p = matrix_row_list_prd[6][2:]\n",
    "        if allele_s_p != \".\":\n",
    "            split_s1[idx_gt] = allele_s_p+\"|\"+str(1-int(allele_s_p))\n",
    "            split_s1[idx_ps] = blockid_s_p \n",
    "        else:\n",
    "            split_s1[idx_gt]=\"./.\"\n",
    "            split_s1[idx_ps]=\".\"\n",
    "            \n",
    "        var_line_list_imp = split_s1\n",
    "        var_line_list_part.append(\":\".join(var_line_list_imp))\n",
    "        allele_s5 = matrix_row_list_prd[5]\n",
    "\n",
    "        if allele_s5 != \".\":\n",
    "        \n",
    "            var_line_list_part.append(allele_s5+\"|\"+str(1-int(allele_s5))+\":.:.:.:.:.:.:.:.:1\")\n",
    "        else:\n",
    "            var_line_list_part.append(\"./.:.:.:.:.:.:.:.:.:.\")\n",
    "            \n",
    "        var_lines_list_imp.append(var_line_list_part)\n",
    "        \n",
    "        "
   ]
  },
  {
   "cell_type": "code",
   "execution_count": 22,
   "metadata": {},
   "outputs": [
    {
     "ename": "NameError",
     "evalue": "name 'var_line_list_imp' is not defined",
     "output_type": "error",
     "traceback": [
      "\u001b[0;31m---------------------------------------------------------------------------\u001b[0m",
      "\u001b[0;31mNameError\u001b[0m                                 Traceback (most recent call last)",
      "\u001b[0;32m<ipython-input-22-ae0d46b6c12c>\u001b[0m in \u001b[0;36m<module>\u001b[0;34m\u001b[0m\n\u001b[0;32m----> 1\u001b[0;31m \u001b[0mvar_line_list_imp\u001b[0m\u001b[0;34m\u001b[0m\u001b[0;34m\u001b[0m\u001b[0m\n\u001b[0m",
      "\u001b[0;31mNameError\u001b[0m: name 'var_line_list_imp' is not defined"
     ]
    }
   ],
   "source": [
    "var_line_list_imp"
   ]
  },
  {
   "cell_type": "code",
   "execution_count": null,
   "metadata": {},
   "outputs": [],
   "source": [
    "len(var_line_list_imp)"
   ]
  },
  {
   "cell_type": "code",
   "execution_count": null,
   "metadata": {},
   "outputs": [],
   "source": [
    "var_lines_list_imp[0]"
   ]
  },
  {
   "cell_type": "code",
   "execution_count": null,
   "metadata": {},
   "outputs": [],
   "source": [
    "gt_flags"
   ]
  },
  {
   "cell_type": "code",
   "execution_count": null,
   "metadata": {},
   "outputs": [],
   "source": []
  },
  {
   "cell_type": "code",
   "execution_count": null,
   "metadata": {},
   "outputs": [],
   "source": []
  },
  {
   "cell_type": "code",
   "execution_count": null,
   "metadata": {},
   "outputs": [],
   "source": [
    "var_line_list[8]"
   ]
  },
  {
   "cell_type": "code",
   "execution_count": null,
   "metadata": {},
   "outputs": [],
   "source": [
    "matrix_row_list_prd[6][:]"
   ]
  },
  {
   "cell_type": "code",
   "execution_count": null,
   "metadata": {},
   "outputs": [],
   "source": []
  },
  {
   "cell_type": "code",
   "execution_count": null,
   "metadata": {},
   "outputs": [],
   "source": []
  },
  {
   "cell_type": "code",
   "execution_count": 88,
   "metadata": {},
   "outputs": [],
   "source": [
    "vcf_out_address=vcf_file_address+\"_imp.vcf\"\n",
    "\n",
    "vcf_out_file=open(vcf_out_address,'w');\n",
    "\n",
    "for header_line in header_lines_list:\n",
    "    vcf_out_file.write(header_line)\n",
    "    \n",
    "for var_line_list in var_lines_list_imp:\n",
    "    \n",
    "    vcf_out_file.write(\"\\t\".join(var_line_list)+\"\\n\")\n",
    "\n",
    "vcf_out_file.close()\n",
    "   \n",
    "    \n",
    "\n",
    "\n"
   ]
  },
  {
   "cell_type": "code",
   "execution_count": 45,
   "metadata": {},
   "outputs": [
    {
     "data": {
      "text/plain": [
       "['22',\n",
       " '51243297',\n",
       " '.',\n",
       " 'A',\n",
       " 'T',\n",
       " '184.095',\n",
       " '.',\n",
       " 'DPB=10;EPPR=3.0103;GTI=0;MQMR=13.5;NS=1;NUMALT=1;ODDS=7.93999;PAIREDR=0.5;PQR=0;PRO=0;QR=26;RO=2;RPPR=7.35324;SRF=1;SRP=3.0103;SRR=1;DP=40;AB=0;ABP=0;AF=1;AO=8;CIGAR=1X;DPRA=0;EPP=12.7819;LEN=1;MEANALT=1;MQM=25.25;PAIRED=1;PAO=0;PQA=0;QA=275;RPL=7;RPP=12.7819;RPR=1;RUN=1;SAF=0;SAP=20.3821;SAR=8;TYPE=snp;technology.illumina=1;AN=8;AC=8',\n",
       " 'GT:DP:RO:QR:AO:QA:GL:PS']"
      ]
     },
     "execution_count": 45,
     "metadata": {},
     "output_type": "execute_result"
    }
   ],
   "source": [
    "var_line_list_part"
   ]
  },
  {
   "cell_type": "code",
   "execution_count": 35,
   "metadata": {},
   "outputs": [
    {
     "ename": "NameError",
     "evalue": "name 'varpos_list_inmatrix' is not defined",
     "output_type": "error",
     "traceback": [
      "\u001b[0;31m---------------------------------------------------------------------------\u001b[0m",
      "\u001b[0;31mNameError\u001b[0m                                 Traceback (most recent call last)",
      "\u001b[0;32m<ipython-input-35-ef391acc53ab>\u001b[0m in \u001b[0;36m<module>\u001b[0;34m\u001b[0m\n\u001b[1;32m      9\u001b[0m \u001b[0;31m#                                   str(allele_s_p)+\":\"+str(blockid_s_p)]\u001b[0m\u001b[0;34m\u001b[0m\u001b[0;34m\u001b[0m\u001b[0;34m\u001b[0m\u001b[0m\n\u001b[1;32m     10\u001b[0m     \u001b[0mvarpos\u001b[0m \u001b[0;34m=\u001b[0m \u001b[0mvar_line_list_part\u001b[0m\u001b[0;34m[\u001b[0m\u001b[0;36m1\u001b[0m\u001b[0;34m]\u001b[0m\u001b[0;34m\u001b[0m\u001b[0;34m\u001b[0m\u001b[0m\n\u001b[0;32m---> 11\u001b[0;31m     \u001b[0;32mif\u001b[0m \u001b[0mvarpos\u001b[0m \u001b[0;32min\u001b[0m \u001b[0mvarpos_list_inmatrix\u001b[0m\u001b[0;34m:\u001b[0m\u001b[0;34m\u001b[0m\u001b[0;34m\u001b[0m\u001b[0m\n\u001b[0m\u001b[1;32m     12\u001b[0m \u001b[0;34m\u001b[0m\u001b[0m\n\u001b[1;32m     13\u001b[0m         \u001b[0mgt_flags\u001b[0m \u001b[0;34m=\u001b[0m \u001b[0mvar_line_list\u001b[0m\u001b[0;34m[\u001b[0m\u001b[0;36m8\u001b[0m\u001b[0;34m]\u001b[0m\u001b[0;34m\u001b[0m\u001b[0;34m\u001b[0m\u001b[0m\n",
      "\u001b[0;31mNameError\u001b[0m: name 'varpos_list_inmatrix' is not defined"
     ]
    }
   ],
   "source": [
    "var_lines_list_hifi = []\n",
    "for var_line_list in var_lines_list: # \n",
    "    var_line_list_part=var_line_list[:9]\n",
    "    \n",
    "        \n",
    "#     matrix_row_list_prd = [str(varpos),str(allele_s1)+\":\"+str(blockid_s1),\n",
    "#                                   str(allele_s2)+\":\"+str(blockid_s2),str(allele_s3)+\":\"+str(blockid_s3),\n",
    "#                                   str(allele_s4)+\":\"+str(blockid_s4), str(allele_s5),\n",
    "#                                   str(allele_s_p)+\":\"+str(blockid_s_p)] \n",
    "    varpos = var_line_list_part[1]\n",
    "    if varpos in varpos_list_inmatrix:\n",
    "        \n",
    "        gt_flags = var_line_list[8]\n",
    "        idx_ps = gt_flags.split(\":\").index(\"PS\")\n",
    "        idx_gt = gt_flags.split(\":\").index(\"GT\")        \n",
    "        s1 = var_line_list[9] # the rest of var info is got from the s1\n",
    "        split_s1 = s1.split(\":\")\n",
    "\n",
    "        blockid_s1 = split_s1[idx_ps]\n",
    "        allele_s1 = split_s1[idx_gt]\n",
    "        \n",
    "        if allele_s1 != \"./.\":\n",
    "\n",
    "            var_idx = varpos_list_inmatrix.index(varpos)\n",
    "            matrix_row_list_prd = matrix_row_lists_prd[var_idx]   \n",
    "\n",
    "            var_line_list_imp = split_s1\n",
    "            var_line_list_part.append(\":\".join(var_line_list_imp))\n",
    "\n",
    "            allele_s5 = matrix_row_list_prd[5]\n",
    "            if allele_s5 != \".\":\n",
    "                var_line_list_part.append(allele_s5+\"|\"+str(1-int(allele_s5))+\":.:.:.:.:.:.:.:.:1\")\n",
    "            else:\n",
    "                var_line_list_part.append(\"./.:.:.:.:.:.:.:.:.:.\")\n",
    "\n",
    "            var_lines_list_hifi.append(var_line_list_part)\n",
    "        \n",
    "        "
   ]
  },
  {
   "cell_type": "code",
   "execution_count": 36,
   "metadata": {},
   "outputs": [],
   "source": [
    "vcf_out_address=vcf_file_address+\"_hifi.vcf\"\n",
    "\n",
    "vcf_out_file=open(vcf_out_address,'w');\n",
    "\n",
    "for header_line in header_lines_list:\n",
    "    vcf_out_file.write(header_line)\n",
    "    \n",
    "for var_line_list in var_lines_list_hifi:\n",
    "    \n",
    "    vcf_out_file.write(\"\\t\".join(var_line_list)+\"\\n\")\n",
    "\n",
    "vcf_out_file.close()\n",
    "   \n",
    "    \n",
    "\n",
    "\n"
   ]
  },
  {
   "cell_type": "code",
   "execution_count": null,
   "metadata": {},
   "outputs": [],
   "source": []
  },
  {
   "cell_type": "code",
   "execution_count": null,
   "metadata": {},
   "outputs": [],
   "source": []
  },
  {
   "cell_type": "code",
   "execution_count": 37,
   "metadata": {},
   "outputs": [],
   "source": [
    "\n",
    "diff_list=[]\n",
    "\n",
    "for block_i in range(len(allele_blocks_s1)): # \n",
    "   \n",
    "    allele_block_s1=allele_blocks_s1[block_i]\n",
    "    varpos_block_s1=varpos_blocks_s1[block_i]\n",
    "\n",
    "\n",
    "    for var_i, varpos in enumerate(varpos_block_s1):\n",
    "        allele_s1= allele_block_s1[var_i]\n",
    "        \n",
    "        if varpos in varposs_s5:\n",
    "            allele_s5= alleles_s5[varposs_s5.index(varpos)]\n",
    "        \n",
    "            if allele_s1!=allele_s5:\n",
    "                \n",
    "                for block_i in range(number_phaseblocks_s2): # \n",
    "   \n",
    "                    allele_block_s2=allele_blocks_s2[block_i]\n",
    "                    varpos_block_s2=varpos_blocks_s2[block_i]\n",
    "                    if varpos in varpos_block_s2:\n",
    "                        allele_s2= allele_block_s2[varpos_block_s2.index(varpos)]\n",
    "                        diff_list.append([varpos,allele_s1,allele_s2,allele_s5])\n",
    "                        #print([varpos,allele_s1,allele_s2,allele_s5],\"\\n\")\n",
    "                        break\n",
    "\n",
    "                \n",
    "                \n",
    "                \n",
    "                \n",
    "                \n",
    "\n"
   ]
  },
  {
   "cell_type": "code",
   "execution_count": null,
   "metadata": {},
   "outputs": [],
   "source": []
  },
  {
   "cell_type": "code",
   "execution_count": 38,
   "metadata": {},
   "outputs": [
    {
     "ename": "IndexError",
     "evalue": "list index out of range",
     "output_type": "error",
     "traceback": [
      "\u001b[0;31m---------------------------------------------------------------------------\u001b[0m",
      "\u001b[0;31mIndexError\u001b[0m                                Traceback (most recent call last)",
      "\u001b[0;32m<ipython-input-38-ba2a5007d8cd>\u001b[0m in \u001b[0;36m<module>\u001b[0;34m\u001b[0m\n\u001b[1;32m     20\u001b[0m                     \u001b[0mvarpos_block_s1\u001b[0m\u001b[0;34m=\u001b[0m\u001b[0mvarpos_blocks_s1\u001b[0m\u001b[0;34m[\u001b[0m\u001b[0mblock_i\u001b[0m\u001b[0;34m]\u001b[0m\u001b[0;34m\u001b[0m\u001b[0;34m\u001b[0m\u001b[0m\n\u001b[1;32m     21\u001b[0m                     \u001b[0;32mif\u001b[0m \u001b[0mvarpos\u001b[0m \u001b[0;32min\u001b[0m \u001b[0mvarpos_block_s1\u001b[0m\u001b[0;34m:\u001b[0m\u001b[0;34m\u001b[0m\u001b[0;34m\u001b[0m\u001b[0m\n\u001b[0;32m---> 22\u001b[0;31m                         \u001b[0mallele_s1\u001b[0m\u001b[0;34m=\u001b[0m \u001b[0mallele_block_s1\u001b[0m\u001b[0;34m[\u001b[0m\u001b[0mvarpos_block_s2\u001b[0m\u001b[0;34m.\u001b[0m\u001b[0mindex\u001b[0m\u001b[0;34m(\u001b[0m\u001b[0mvarpos\u001b[0m\u001b[0;34m)\u001b[0m\u001b[0;34m]\u001b[0m\u001b[0;34m\u001b[0m\u001b[0;34m\u001b[0m\u001b[0m\n\u001b[0m\u001b[1;32m     23\u001b[0m                         \u001b[0mdiff_list_s2\u001b[0m\u001b[0;34m.\u001b[0m\u001b[0mappend\u001b[0m\u001b[0;34m(\u001b[0m\u001b[0;34m[\u001b[0m\u001b[0mvarpos\u001b[0m\u001b[0;34m,\u001b[0m\u001b[0mallele_s1\u001b[0m\u001b[0;34m,\u001b[0m\u001b[0mallele_s2\u001b[0m\u001b[0;34m,\u001b[0m\u001b[0mallele_s5\u001b[0m\u001b[0;34m]\u001b[0m\u001b[0;34m)\u001b[0m\u001b[0;34m\u001b[0m\u001b[0;34m\u001b[0m\u001b[0m\n\u001b[1;32m     24\u001b[0m                         \u001b[0;31m#print([varpos,allele_s1,allele_s2,allele_s5],\"\\n\")\u001b[0m\u001b[0;34m\u001b[0m\u001b[0;34m\u001b[0m\u001b[0;34m\u001b[0m\u001b[0m\n",
      "\u001b[0;31mIndexError\u001b[0m: list index out of range"
     ]
    }
   ],
   "source": [
    "\n",
    "diff_list_s2=[]\n",
    "\n",
    "for block_i in range(len(allele_blocks_s2)): # \n",
    "   \n",
    "    allele_block_s2=allele_blocks_s2[block_i]\n",
    "    varpos_block_s2=varpos_blocks_s2[block_i]\n",
    "\n",
    "\n",
    "    for var_i, varpos in enumerate(varpos_block_s2):\n",
    "        allele_s2= allele_block_s2[var_i]\n",
    "        \n",
    "        if varpos in varposs_s5:\n",
    "            allele_s5= alleles_s5[varposs_s5.index(varpos)]\n",
    "        \n",
    "            if allele_s2!=allele_s5:\n",
    "                \n",
    "                for block_i in range(number_phaseblocks_s1): # \n",
    "   \n",
    "                    allele_block_s1=allele_blocks_s1[block_i]\n",
    "                    varpos_block_s1=varpos_blocks_s1[block_i]\n",
    "                    if varpos in varpos_block_s1:\n",
    "                        allele_s1= allele_block_s1[varpos_block_s2.index(varpos)]\n",
    "                        diff_list_s2.append([varpos,allele_s1,allele_s2,allele_s5])\n",
    "                        #print([varpos,allele_s1,allele_s2,allele_s5],\"\\n\")\n",
    "                        break\n",
    "\n",
    "            "
   ]
  },
  {
   "cell_type": "code",
   "execution_count": null,
   "metadata": {},
   "outputs": [],
   "source": []
  },
  {
   "cell_type": "code",
   "execution_count": null,
   "metadata": {},
   "outputs": [],
   "source": []
  },
  {
   "cell_type": "code",
   "execution_count": null,
   "metadata": {},
   "outputs": [],
   "source": [
    "hifiok_illno=[]\n",
    "hifino_illno=[]\n",
    "hifino_illok=[]\n",
    "\n",
    "for [varpos, hifi,illu,parnt] in diff_list_s2:\n",
    "    if illu!=parnt and hifi==parnt:\n",
    "        hifiok_illno.append(varpos)\n",
    "    if illu!=parnt and hifi!=parnt:\n",
    "        #print([varpos, hifi,illu,parnt] )\n",
    "        hifino_illno.append(varpos)       \n",
    "    if illu==parnt and hifi!=parnt:\n",
    "        #print([varpos, hifi,illu,parnt] )\n",
    "        hifino_illok.append(varpos) \n",
    "    \n",
    "print(len(diff_list_s2),len(hifiok_illno),len(hifino_illok),len(hifino_illno))"
   ]
  },
  {
   "cell_type": "code",
   "execution_count": null,
   "metadata": {},
   "outputs": [],
   "source": [
    "hifiok_illno=[]\n",
    "hifino_illno=[]\n",
    "hifino_illok=[]\n",
    "\n",
    "for [varpos, hifi,illu,parnt] in diff_list:\n",
    "    \n",
    "    if illu!=parnt and hifi==parnt:\n",
    "        hifiok_illno.append(varpos)\n",
    "    if illu!=parnt and hifi!=parnt:\n",
    "        #print([varpos, hifi,illu,parnt] )\n",
    "        hifino_illno.append(varpos)       \n",
    "    if illu==parnt and hifi!=parnt:\n",
    "        #print([varpos, hifi,illu,parnt] )\n",
    "        hifino_illok.append(varpos) \n",
    "    \n",
    "print(len(diff_list_s2),len(hifiok_illno),len(hifino_illok),len(hifino_illno))"
   ]
  },
  {
   "cell_type": "code",
   "execution_count": null,
   "metadata": {},
   "outputs": [],
   "source": [
    "allele_s5==allele_s2\n",
    "[allele_s1,allele_s5,allele_s2]"
   ]
  },
  {
   "cell_type": "code",
   "execution_count": null,
   "metadata": {},
   "outputs": [],
   "source": []
  },
  {
   "cell_type": "code",
   "execution_count": null,
   "metadata": {},
   "outputs": [],
   "source": []
  },
  {
   "cell_type": "code",
   "execution_count": null,
   "metadata": {},
   "outputs": [],
   "source": []
  },
  {
   "cell_type": "code",
   "execution_count": 31,
   "metadata": {},
   "outputs": [
    {
     "name": "stdout",
     "output_type": "stream",
     "text": [
      "31913 5561 2474 1302 1172\n",
      "15980 15349 631\n"
     ]
    }
   ],
   "source": [
    "similiar_count=0\n",
    "dissimiliar_count=0\n",
    "dissimiliar_count_s1ok=0\n",
    "dissimiliar_count_s2ok=0\n",
    "dissimiliar_count_exist5=0\n",
    "similiar_count_s1s2ok=0\n",
    "similiar_count_s1s2no=0\n",
    "similiar_count_exist5=0\n",
    "\n",
    "for block_i in range(number_phaseblocks_s2): # \n",
    "   \n",
    "    allele_block_s2=allele_blocks_s2[block_i]\n",
    "    varpos_block_s2=varpos_blocks_s2[block_i]\n",
    "\n",
    "    intersected_idins1_s2=intersected_blocks_idins1_s2[block_i]\n",
    "    if intersected_idins1_s2 !=0:\n",
    "        block_indx_s1= blockid_blocks_s1.index(intersected_idins1_s2)\n",
    "    varpos_block_s1=varpos_blocks_s1[block_indx_s1]\n",
    "    allele_block_s1=allele_blocks_s1[block_indx_s1]\n",
    "    \n",
    "    intersect_varpos=set(varpos_block_s1) & set(varpos_block_s2)\n",
    "\n",
    "    for varpos in intersect_varpos:\n",
    "        allele_s1= allele_block_s1[varpos_block_s1.index(varpos)]\n",
    "        allele_s2= allele_block_s2[varpos_block_s2.index(varpos)]\n",
    "        if allele_s1==allele_s2: \n",
    "            similiar_count+=1\n",
    "            if varpos in varposs_s5:\n",
    "                allele_s5= alleles_s5[varposs_s5.index(varpos)]\n",
    "                similiar_count_exist5+=1\n",
    "                if allele_s1==allele_s5 and allele_s2==allele_s5:\n",
    "                    similiar_count_s1s2ok+=1\n",
    "                if allele_s1!=allele_s5 and allele_s2!=allele_s5:\n",
    "                    similiar_count_s1s2no+=1\n",
    "        else:\n",
    "            #print(varpos)\n",
    "            dissimiliar_count+=1\n",
    "            if varpos in varposs_s5:\n",
    "                allele_s5= alleles_s5[varposs_s5.index(varpos)]\n",
    "                dissimiliar_count_exist5+=1\n",
    "                if allele_s1==allele_s5 and allele_s2!=allele_s5:\n",
    "                    dissimiliar_count_s1ok+=1\n",
    "                if allele_s1!=allele_s5 and allele_s2==allele_s5:\n",
    "                    dissimiliar_count_s2ok+=1\n",
    "                    \n",
    "\n",
    "            \n",
    "#     if similiar_count>1 and dissimiliar_count>1:\n",
    "#         print(similiar_count)\n",
    "\n",
    "print(similiar_count,dissimiliar_count,dissimiliar_count_exist5,dissimiliar_count_s1ok,dissimiliar_count_s2ok)\n",
    "print(similiar_count_exist5,similiar_count_s1s2ok,similiar_count_s1s2no)"
   ]
  },
  {
   "cell_type": "code",
   "execution_count": null,
   "metadata": {},
   "outputs": [],
   "source": [
    "len(allele_block_s2)"
   ]
  },
  {
   "cell_type": "code",
   "execution_count": null,
   "metadata": {},
   "outputs": [],
   "source": []
  },
  {
   "cell_type": "code",
   "execution_count": null,
   "metadata": {},
   "outputs": [],
   "source": []
  },
  {
   "cell_type": "code",
   "execution_count": null,
   "metadata": {},
   "outputs": [],
   "source": []
  },
  {
   "cell_type": "code",
   "execution_count": null,
   "metadata": {},
   "outputs": [],
   "source": []
  },
  {
   "cell_type": "code",
   "execution_count": 32,
   "metadata": {},
   "outputs": [
    {
     "name": "stdout",
     "output_type": "stream",
     "text": [
      "blockid  16099924\n",
      "Pos HiFi Illm parental \n",
      "\n",
      "16101684 1 1 0 \n",
      "\n",
      "16104385 1 1 0 \n",
      "\n",
      "16105717 1 1 0 \n",
      "\n",
      "16107307 1 1 0 \n",
      "\n",
      "16107662 1 1 0 \n",
      "\n",
      "16108260 1 1 0 \n",
      "\n",
      "16113547 0 1 1 \n",
      "\n",
      "16117006 0 1 1 \n",
      "\n",
      "16120074 1 1 0 \n",
      "\n",
      "16123812 1 1 0 \n",
      "\n",
      "16137152 1 1 0 \n",
      "\n",
      "16142002 1 1 0 \n",
      "\n",
      "16143370 1 1 0 \n",
      "\n",
      "16143995 1 1 0 \n",
      "\n",
      "16144768 1 1 0 \n",
      "\n",
      "16144952 1 1 0 \n",
      "\n",
      "23\n"
     ]
    }
   ],
   "source": [
    "\n",
    "diff_list=[]\n",
    "count_simi=0\n",
    "block_i=1\n",
    "print(\"blockid \",blockid_blocks_s1[block_i])\n",
    "\n",
    "allele_block_s1=allele_blocks_s1[block_i]\n",
    "varpos_block_s1=varpos_blocks_s1[block_i]\n",
    "\n",
    "print(\"Pos\",\"HiFi\",\"Illm\",\"parental\",\"\\n\")\n",
    "for var_i, varpos in enumerate(varpos_block_s1):\n",
    "    allele_s1= allele_block_s1[var_i]\n",
    "\n",
    "    if varpos in varposs_s5:\n",
    "        allele_s5= alleles_s5[varposs_s5.index(varpos)]\n",
    "\n",
    "        if allele_s1!=allele_s5:\n",
    "\n",
    "            for block_i in range(number_phaseblocks_s2): # \n",
    "\n",
    "                allele_block_s2=allele_blocks_s2[block_i]\n",
    "                varpos_block_s2=varpos_blocks_s2[block_i]\n",
    "                if varpos in varpos_block_s2:\n",
    "                    allele_s2= allele_block_s2[varpos_block_s2.index(varpos)]\n",
    "                    diff_list.append([varpos,allele_s1,allele_s2,allele_s5])\n",
    "                    print(varpos,allele_s1,allele_s2,allele_s5,\"\\n\")\n",
    "                    break\n",
    "        if allele_s1==allele_s5:\n",
    "            count_simi+=1\n",
    "            \n",
    "\n",
    "\n",
    "                \n",
    "print(count_simi)"
   ]
  },
  {
   "cell_type": "code",
   "execution_count": null,
   "metadata": {},
   "outputs": [],
   "source": []
  },
  {
   "cell_type": "code",
   "execution_count": null,
   "metadata": {},
   "outputs": [],
   "source": []
  },
  {
   "cell_type": "code",
   "execution_count": null,
   "metadata": {},
   "outputs": [],
   "source": []
  },
  {
   "cell_type": "code",
   "execution_count": null,
   "metadata": {},
   "outputs": [],
   "source": [
    "sum1=0\n",
    "for  a in varpos_blocks_s1:\n",
    "    sum1+=len(a)\n",
    "print(sum1)\n"
   ]
  },
  {
   "cell_type": "code",
   "execution_count": null,
   "metadata": {},
   "outputs": [],
   "source": [
    "sum2=0\n",
    "for  a in varpos_blocks_s2:\n",
    "    sum2+=len(a)"
   ]
  },
  {
   "cell_type": "code",
   "execution_count": null,
   "metadata": {},
   "outputs": [],
   "source": [
    "sum2"
   ]
  },
  {
   "cell_type": "code",
   "execution_count": null,
   "metadata": {},
   "outputs": [],
   "source": []
  },
  {
   "cell_type": "code",
   "execution_count": null,
   "metadata": {},
   "outputs": [],
   "source": []
  },
  {
   "cell_type": "code",
   "execution_count": null,
   "metadata": {},
   "outputs": [],
   "source": []
  },
  {
   "cell_type": "code",
   "execution_count": 42,
   "metadata": {},
   "outputs": [],
   "source": [
    "# coverage check\n",
    "\n",
    "bed_address=\"/Volumes/work/myjupyter/phaseyou/depth.regions.bed\"\n",
    "\n",
    "bed_file=open(bed_address,'r');\n",
    "\n",
    "selected_lines=[]\n",
    "start_pos_list=[]\n",
    "depth_list=[]\n",
    "\n",
    "for line in bed_file:\n",
    "    line_strip=line.strip()\n",
    "    line_split=line_strip.split(\"\\t\")\n",
    "    \n",
    "    \n",
    "    depth=float(line_split[3])\n",
    "    depth_list.append(depth)\n",
    "    \n",
    "    pos=float(line_split[1])\n",
    "    start_pos_list.append(pos)\n",
    "    \n",
    "    \n",
    "bed_file.close()\n",
    "\n"
   ]
  },
  {
   "cell_type": "code",
   "execution_count": 66,
   "metadata": {},
   "outputs": [
    {
     "name": "stdout",
     "output_type": "stream",
     "text": [
      "16.490618 29.0\n",
      "16.506873 22.0\n",
      "16.528995 34.0\n",
      "16.553221 24.0\n",
      "16.558766 26.0\n",
      "16.561186 34.0\n",
      "16.564036 34.0\n",
      "16.664149 20.0\n",
      "16.882859 94.0\n",
      "16.883072 92.0\n",
      "16.883221 92.0\n",
      "16.88483 88.0\n",
      "18.764533 70.0\n",
      "18.770724 75.0\n",
      "18.841654 55.0\n",
      "18.8419 55.0\n",
      "18.935759 42.0\n",
      "18.935842 42.0\n",
      "19.014037 28.0\n",
      "21.468861 27.0\n",
      "39.072681 27.0\n",
      "48.600367 30.0\n",
      "51.146139 26.0\n"
     ]
    }
   ],
   "source": [
    "list_pos=[16490618,16506873,16528995,16553221,16558766,16561186,16564036,16664149,16882859,16883072,16883221,16884830,18764533,18770724,18841654,\n",
    "       18841900,18935759,18935842,19014037,21468861,39072681,48600367,51146139]\n",
    "\n",
    "list1_depth=[]\n",
    "for  pos1 in list_pos:\n",
    "    depth_pos1=depth_list[int(pos1/500)]\n",
    "    list1_depth.append(depth_pos1)\n",
    "    print(pos1/1000000, depth_pos1)\n",
    "    "
   ]
  },
  {
   "cell_type": "code",
   "execution_count": 47,
   "metadata": {},
   "outputs": [
    {
     "data": {
      "text/plain": [
       "26.0"
      ]
     },
     "execution_count": 47,
     "metadata": {},
     "output_type": "execute_result"
    }
   ],
   "source": [
    "import numpy as np\n",
    "np.mean(depth_pos1)"
   ]
  },
  {
   "cell_type": "code",
   "execution_count": 23,
   "metadata": {},
   "outputs": [
    {
     "ename": "NameError",
     "evalue": "name 'list_pos' is not defined",
     "output_type": "error",
     "traceback": [
      "\u001b[0;31m---------------------------------------------------------------------------\u001b[0m",
      "\u001b[0;31mNameError\u001b[0m                                 Traceback (most recent call last)",
      "\u001b[0;32m<ipython-input-23-2a5f854b28ca>\u001b[0m in \u001b[0;36m<module>\u001b[0;34m\u001b[0m\n\u001b[1;32m      2\u001b[0m \u001b[0;34m\u001b[0m\u001b[0m\n\u001b[1;32m      3\u001b[0m \u001b[0;34m\u001b[0m\u001b[0m\n\u001b[0;32m----> 4\u001b[0;31m \u001b[0mlist_pos1\u001b[0m\u001b[0;34m=\u001b[0m\u001b[0;34m[\u001b[0m\u001b[0mi\u001b[0m\u001b[0;34m/\u001b[0m\u001b[0;36m1e6\u001b[0m \u001b[0;32mfor\u001b[0m \u001b[0mi\u001b[0m \u001b[0;32min\u001b[0m \u001b[0mlist_pos\u001b[0m\u001b[0;34m]\u001b[0m\u001b[0;34m\u001b[0m\u001b[0;34m\u001b[0m\u001b[0m\n\u001b[0m\u001b[1;32m      5\u001b[0m \u001b[0mplt\u001b[0m\u001b[0;34m.\u001b[0m\u001b[0mbar\u001b[0m\u001b[0;34m(\u001b[0m\u001b[0mlist_pos1\u001b[0m\u001b[0;34m,\u001b[0m\u001b[0mlist1_depth\u001b[0m\u001b[0;34m,\u001b[0m \u001b[0mcolor\u001b[0m \u001b[0;34m=\u001b[0m\u001b[0;34m'maroon'\u001b[0m\u001b[0;34m,\u001b[0m \u001b[0mwidth\u001b[0m \u001b[0;34m=\u001b[0m \u001b[0;36m.4\u001b[0m\u001b[0;34m)\u001b[0m\u001b[0;34m\u001b[0m\u001b[0;34m\u001b[0m\u001b[0m\n\u001b[1;32m      6\u001b[0m \u001b[0;31m#plt.show()\u001b[0m\u001b[0;34m\u001b[0m\u001b[0;34m\u001b[0m\u001b[0;34m\u001b[0m\u001b[0m\n",
      "\u001b[0;31mNameError\u001b[0m: name 'list_pos' is not defined"
     ]
    }
   ],
   "source": [
    "import matplotlib.pyplot as plt  \n",
    "\n",
    "\n",
    "list_pos1=[i/1e6 for i in list_pos]\n",
    "plt.bar(list_pos1,list1_depth, color ='maroon', width = .4)\n",
    "#plt.show()\n",
    "\n",
    "plt.xlabel(\"mb\")\n",
    "\n",
    "plt.ylabel(\"coverage\")\n",
    "\n",
    "plt.savefig(\"Coverage_.pdf\")\n"
   ]
  },
  {
   "cell_type": "code",
   "execution_count": null,
   "metadata": {},
   "outputs": [],
   "source": []
  },
  {
   "cell_type": "code",
   "execution_count": 28,
   "metadata": {},
   "outputs": [
    {
     "data": {
      "text/plain": [
       "41998"
      ]
     },
     "execution_count": 28,
     "metadata": {},
     "output_type": "execute_result"
    }
   ],
   "source": [
    "\n",
    "\n",
    "# majority voting\n",
    "\n",
    "\n",
    "\n",
    "\n",
    "len(matrix_row_lists)\n",
    "\n"
   ]
  },
  {
   "cell_type": "code",
   "execution_count": 113,
   "metadata": {},
   "outputs": [
    {
     "name": "stdout",
     "output_type": "stream",
     "text": [
      "Majoritvote\t 2636 693 70 10.100000000000001\n",
      "hifi-whatshp \t 2446 667 95 14.24\n",
      "hifi-hapcut \t 2581 682 150 21.990000000000002\n",
      "illum-whatshp  \t 2366 597 66 11.06\n",
      "illum-hapcut \t 2462 600 58 9.67\n"
     ]
    }
   ],
   "source": []
  },
  {
   "cell_type": "code",
   "execution_count": 80,
   "metadata": {},
   "outputs": [
    {
     "data": {
      "text/plain": [
       "(['0', '1', '0', '1'],\n",
       " '0:50821579',\n",
       " '1:50821579',\n",
       " '0:51242016',\n",
       " '1:51242016',\n",
       " '1')"
      ]
     },
     "execution_count": 80,
     "metadata": {},
     "output_type": "execute_result"
    }
   ],
   "source": [
    "all_alleles, s1,s2,s3,s4,allele_s5"
   ]
  },
  {
   "cell_type": "code",
   "execution_count": 48,
   "metadata": {},
   "outputs": [
    {
     "name": "stdout",
     "output_type": "stream",
     "text": [
      "Updated animals list:  ['cat', 'dog', 'guinea pig', 'rabbit']\n"
     ]
    }
   ],
   "source": [
    "animals = ['cat', 'dog', 'rabbit', 'guinea pig', 'rabbit']\n",
    "\n",
    "# 'rabbit' is removed\n",
    "animals.remove('rabbit')\n",
    "\n",
    "# Updated animals List\n",
    "print('Updated animals list: ', animals)"
   ]
  },
  {
   "cell_type": "code",
   "execution_count": null,
   "metadata": {},
   "outputs": [],
   "source": []
  },
  {
   "cell_type": "code",
   "execution_count": 47,
   "metadata": {},
   "outputs": [
    {
     "data": {
      "text/plain": [
       "'0'"
      ]
     },
     "execution_count": 47,
     "metadata": {},
     "output_type": "execute_result"
    }
   ],
   "source": []
  },
  {
   "cell_type": "code",
   "execution_count": null,
   "metadata": {},
   "outputs": [],
   "source": []
  },
  {
   "cell_type": "code",
   "execution_count": null,
   "metadata": {},
   "outputs": [],
   "source": []
  },
  {
   "cell_type": "code",
   "execution_count": null,
   "metadata": {},
   "outputs": [],
   "source": [
    "    allele_s1='.';blockid_s1='.'\n",
    "    allele_s2='.';blockid_s2='.'\n",
    "    allele_s3='.';blockid_s3='.'\n",
    "    allele_s4='.';blockid_s4='.'\n",
    "    if s1 != '.:.':\n",
    "        allele_s1 = s1[0]\n",
    "        blockid_s1 = s1[2:]\n",
    "        blockid_s1_last_known = blockid_s1\n",
    "        \n",
    "    if s2 != '.:.':\n",
    "        allele_s2 = s2[0]\n",
    "        blockid_s2 = s2[2:]        \n",
    "    if s3 != '.:.':\n",
    "        allele_s3 = s3[0]\n",
    "        blockid_s3 = s3[2:]\n",
    "    if s4 != '.:.':\n",
    "        allele_s4 = s4[0]\n",
    "        blockid_s4 = s4[2:]\n",
    "    \n",
    "    allele_s_p = allele_s1\n",
    "    blockid_s_p = blockid_s1\n",
    "    \n",
    "    if allele_s1 == '.' and allele_s2 != \".\":\n",
    "\n",
    "        if blockid_s2 == blockid_s1_last_known:\n",
    "            allele_s_p = allele_s2\n",
    "            blockid_s_p = blockid_s2\n",
    "            changes_varpos_pre.append(varpos)\n",
    "        else:             # check next variant, \n",
    "\n",
    "            blockid_s1_next = matrix_row_lists[row_i+1][1][2:]\n",
    "            blockid_s2_next = matrix_row_lists[row_i+1][2][2:]\n",
    "            if blockid_s2_next == blockid_s2:\n",
    "                allele_s_p = allele_s2\n",
    "                blockid_s_p = blockid_s2 \n",
    "                changes_varpos_next.append(varpos)\n",
    "\n",
    "            else:\n",
    "                print(\"blockIds of s1 and s2 don't match: \",varpos,allele_s_p,blockid_s_p,)\n",
    "            \n",
    "    if allele_s1 != '.' :\n",
    "        if allele_s1 != allele_s2 and allele_s2 == allele_s3 and allele_s3 == allele_s4:\n",
    "            result_consensus.append(allele_s1 == allele_s5)\n",
    "            print(varpos, allele_s1 == allele_s5)\n",
    "            allele_s_p = str(1-int(allele_s_p))\n",
    "\n",
    "   \n",
    "            \n",
    "            \n",
    "        \n",
    "    matrix_row_list_prd = [str(varpos),str(allele_s1)+\":\"+str(blockid_s1),\n",
    "                                  str(allele_s2)+\":\"+str(blockid_s2),str(allele_s3)+\":\"+str(blockid_s3),\n",
    "                                  str(allele_s4)+\":\"+str(blockid_s4), str(allele_s5),\n",
    "                                  str(allele_s_p)+\":\"+str(blockid_s_p)] \n",
    "    \n",
    "    matrix_row_lists_prd.append(matrix_row_list_prd)\n",
    "  "
   ]
  }
 ],
 "metadata": {
  "kernelspec": {
   "display_name": "Python 3",
   "language": "python",
   "name": "python3"
  },
  "language_info": {
   "codemirror_mode": {
    "name": "ipython",
    "version": 3
   },
   "file_extension": ".py",
   "mimetype": "text/x-python",
   "name": "python",
   "nbconvert_exporter": "python",
   "pygments_lexer": "ipython3",
   "version": "3.7.8"
  }
 },
 "nbformat": 4,
 "nbformat_minor": 4
}
