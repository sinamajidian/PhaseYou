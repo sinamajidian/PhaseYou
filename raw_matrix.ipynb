{
 "cells": [
  {
   "cell_type": "code",
   "execution_count": 2,
   "metadata": {},
   "outputs": [
    {
     "name": "stdout",
     "output_type": "stream",
     "text": [
      "Num phaseblocks in sample one is  8\n",
      "Num phaseblocks in sample two is  8\n",
      "Num phaseblocks in sample three is  358\n",
      "Num phaseblocks in sample four is  359\n",
      "Num vars in sample five-parental is  1558\n",
      "Num all vars is  4792\n",
      "number of occurance of weird case (=two variants are in the same block, but far from each other)  0\n"
     ]
    }
   ],
   "source": [
    "\n",
    "vcf_file_address = \"22_5sample_5k.vcf\"  # \"22_4k.vcf\" \n",
    "vcf_file = open(vcf_file_address,'r');\n",
    "\n",
    "\n",
    "blockid_blocks_s1 = []\n",
    "allele_blocks_s1 = []\n",
    "varpos_blocks_s1 = []\n",
    "\n",
    "\n",
    "blockid_blocks_s2 = []\n",
    "allele_blocks_s2 = []\n",
    "varpos_blocks_s2 = []\n",
    "\n",
    "blockid_blocks_s3 = []\n",
    "allele_blocks_s3 = []\n",
    "varpos_blocks_s3 = []\n",
    "\n",
    "blockid_blocks_s4 = []\n",
    "allele_blocks_s4 = []\n",
    "varpos_blocks_s4 = []\n",
    "\n",
    "var_blockids1_blocks_s2 = []   # for each var in s2, shows the s1 blockid\n",
    "var_blockids1_blocks_s3 = []   # for each var in s3, shows the s1 blockid\n",
    "var_blockids1_blocks_s4 = []   # for each var in s4, shows the s1 blockid\n",
    "\n",
    "\n",
    "# for parental that it's only one block per chr so it doesn't have blockid\n",
    "alleles_s5 = []\n",
    "varposs_s5 = []\n",
    "\n",
    "\n",
    "varposs_all = []\n",
    "\n",
    "num_weird_occurs=0\n",
    "\n",
    "var_lines_list = []\n",
    "\n",
    "header_lines_list = []\n",
    "for line in vcf_file:\n",
    "    line_strip = line.strip()\n",
    "    \n",
    "    if line_strip.startswith('#'):\n",
    "        header_lines_list.append(line_strip)\n",
    "        sample_names = line_strip.split('\\t')[9:]   # last line of header contains sample name\n",
    "        #print(sample_names)\n",
    "        \n",
    "    else:\n",
    "        line_parts = line_strip.split('\\t')\n",
    "        var_lines_list.append(line_parts)\n",
    "        #gt_flags, s1, sss, ss, s2, s5 = line_parts[8:]\n",
    "        gt_flags, s1, s2,s3,s4, s5 = line_parts[8:]       # hifi-whatshp illumina-whatshp hifi-hapcut illumina-hapcut true\n",
    "\n",
    "        varpos = int(line_parts[1])                 # variant position\n",
    "        \n",
    "        varposs_all.append(varpos)\n",
    "        gt_flags_split = gt_flags.split(\":\")\n",
    "        \n",
    "        if \"PS\" in gt_flags_split:\n",
    "            idx_ps = gt_flags.split(\":\").index(\"PS\")\n",
    "            idx_gt = gt_flags.split(\":\").index(\"GT\")\n",
    "            \n",
    "\n",
    "                                                 ## s5- parental - last sample in the vcf file\n",
    "            split_s5 = s5.split(\":\")\n",
    "            allele_s5 = split_s5[idx_gt]\n",
    "            blockid_s5 = split_s5[idx_ps]\n",
    "            \n",
    "            if allele_s5 == \"0|1\" or allele_s5 == \"1|0\":\n",
    "                alleles_s5.append(int(allele_s5[0]))\n",
    "                varposs_s5.append(varpos)\n",
    "\n",
    "            \n",
    "            \n",
    "                                                ###  sample 1 ###\n",
    "            split_s1 = s1.split(\":\")\n",
    "            blockid_s1 = split_s1[idx_ps]\n",
    "            allele_s1 = split_s1[idx_gt]\n",
    "            \n",
    "\n",
    "            if blockid_s1 == \".\":                                 # unphased variants for sample one\n",
    "                pass\n",
    "            \n",
    "            elif blockid_s1 in blockid_blocks_s1:\n",
    "                assert allele_s1[1] == \"|\", \"allele_s1[1] should be | and so phased. A non-phased variant is in the phase block\"\n",
    "                \n",
    "                #if blockid_s1 == previous_blockid_s1: previous_blockid_s1_idx has been defined in previous variant which is the last idx\n",
    "                if blockid_s1 != previous_blockid_s1:  \n",
    "                    # weird situation happens for whatshap in which two variants are in the same block but in between there is/are other phaseblock(s)\n",
    "                    # note that the unphased variants are ignored sooner and are not considered here\n",
    "                    previous_blockid_s1_idx = blockid_blocks_s1.index(blockid_s1)\n",
    "                    #print(\"two variants are in the same block, but far from each other\",varpos)                \n",
    "                    num_weird_occurs+=1\n",
    "\n",
    "                allele_blocks_s1[previous_blockid_s1_idx].append( int(allele_s1[0]) )\n",
    "                varpos_blocks_s1[previous_blockid_s1_idx].append( varpos ) \n",
    "\n",
    "                \n",
    "            else:                                                  # A new block started, it can be the first block\n",
    "                \n",
    "                allele_blocks_s1.append( [int(allele_s1[0])] )     # alleles of a phase block (all vars are hetrozygous) \n",
    "                varpos_blocks_s1.append( [varpos] )                # variant posistion of a block\n",
    "                blockid_blocks_s1.append( blockid_s1 )             # add the blockid of the first var  to the list of blockids\n",
    "                \n",
    "                previous_blockid_s1 = blockid_s1\n",
    "                previous_blockid_s1_idx = len(blockid_blocks_s1)-1  # the index of the last block id\n",
    "                \n",
    "\n",
    "\n",
    "                \n",
    "       \n",
    "    \n",
    "                                                ###  sample 2 ###\n",
    "            split_s2 = s2.split(\":\")\n",
    "            blockid_s2 = split_s2[idx_ps]\n",
    "            allele_s2 = split_s2[idx_gt]\n",
    "            if blockid_s2 == \".\":\n",
    "                pass\n",
    "            elif blockid_s2 in blockid_blocks_s2:\n",
    "                assert allele_s2[1] == \"|\", \"allele_s2[1] should be | and so phased. A non-phased variant is in the phase block\"\n",
    "                \n",
    "                if blockid_s2 != previous_blockid_s2:  \n",
    "                    previous_blockid_s2_idx = blockid_blocks_s2.index(blockid_s2)\n",
    "                    num_weird_occurs+=1\n",
    "                allele_blocks_s2[previous_blockid_s2_idx].append( int(allele_s2[0]) )\n",
    "                varpos_blocks_s2[previous_blockid_s2_idx].append( varpos ) \n",
    "                var_blockids1_blocks_s2[previous_blockid_s2_idx].append( blockid_s1 )\n",
    "                \n",
    "            else:                                                 # A new block started   (it can be the first block)\n",
    "                allele_blocks_s2.append( [int(allele_s2[0])] )     # alleles of a phase block (all vars are hetrozygous) \n",
    "                varpos_blocks_s2.append( [varpos] )                # variant posistion of a block\n",
    "                blockid_blocks_s2.append( blockid_s2 )             # add the blockid of the first var  to the list of blockids\n",
    "                var_blockids1_blocks_s2.append( [blockid_s1] )  \n",
    "                previous_blockid_s2 = blockid_s2\n",
    "                previous_blockid_s2_idx = len(blockid_blocks_s2)-1   # the index of the last block id\n",
    "                \n",
    "\n",
    "                                                ###  sample 3 ###\n",
    "            split_s3 = s3.split(\":\")\n",
    "            blockid_s3 = split_s3[idx_ps]\n",
    "            allele_s3 = split_s3[idx_gt]\n",
    "            if blockid_s3 == \".\":\n",
    "                pass\n",
    "            elif blockid_s3 in blockid_blocks_s3:\n",
    "                assert allele_s3[1] == \"|\", \"allele_s3[1] should be | and so phased. A non-phased variant is in the phase block\"\n",
    "                \n",
    "                if blockid_s3 != previous_blockid_s3:  \n",
    "                    previous_blockid_s3_idx = blockid_blocks_s3.index(blockid_s3)\n",
    "                    num_weird_occurs+=1\n",
    "                allele_blocks_s3[previous_blockid_s3_idx].append( int(allele_s3[0]) )\n",
    "                varpos_blocks_s3[previous_blockid_s3_idx].append( varpos ) \n",
    "                var_blockids1_blocks_s3[previous_blockid_s3_idx].append( blockid_s1 )\n",
    "                \n",
    "            else:                                                 # A new block started   (it can be the first block)\n",
    "                allele_blocks_s3.append( [int(allele_s3[0])] )     # alleles of a phase block (all vars are hetrozygous) \n",
    "                varpos_blocks_s3.append( [varpos] )                # variant posistion of a block\n",
    "                blockid_blocks_s3.append( blockid_s3 )             # add the blockid of the first var  to the list of blockids\n",
    "                var_blockids1_blocks_s3.append( [blockid_s1] )  \n",
    "                previous_blockid_s3 = blockid_s3\n",
    "                previous_blockid_s3_idx = len(blockid_blocks_s3)-1   # the index of the last block id\n",
    "                \n",
    "   \n",
    "    \n",
    "                                                ###  sample 3 ###\n",
    "            split_s4 = s4.split(\":\")\n",
    "            blockid_s4 = split_s4[idx_ps]\n",
    "            allele_s4 = split_s4[idx_gt]\n",
    "            if blockid_s4 == \".\":\n",
    "                pass\n",
    "            elif blockid_s4 in blockid_blocks_s4:\n",
    "                assert allele_s4[1] == \"|\", \"allele_s4[1] should be | and so phased. A non-phased variant is in the phase block\"\n",
    "                \n",
    "                if blockid_s4 != previous_blockid_s4:  \n",
    "                    previous_blockid_s4_idx = blockid_blocks_s4.index(blockid_s4)\n",
    "                    num_weird_occurs+=1\n",
    "                allele_blocks_s4[previous_blockid_s4_idx].append( int(allele_s4[0]) )\n",
    "                varpos_blocks_s4[previous_blockid_s4_idx].append( varpos ) \n",
    "                var_blockids1_blocks_s4[previous_blockid_s4_idx].append( blockid_s1 )\n",
    "                \n",
    "            else:                                                 # A new block started   (it can be the first block)\n",
    "                allele_blocks_s4.append( [int(allele_s4[0])] )     # alleles of a phase block (all vars are hetrozygous) \n",
    "                varpos_blocks_s4.append( [varpos] )                # variant posistion of a block\n",
    "                blockid_blocks_s4.append( blockid_s4 )             # add the blockid of the first var  to the list of blockids\n",
    "                var_blockids1_blocks_s4.append( [blockid_s1] )  \n",
    "                previous_blockid_s4 = blockid_s4\n",
    "                previous_blockid_s4_idx = len(blockid_blocks_s4)-1   # the index of the last block id\n",
    "                \n",
    "\n",
    "\n",
    "\n",
    "\n",
    "print(\"Num phaseblocks in sample one is \",len(allele_blocks_s1))\n",
    "print(\"Num phaseblocks in sample two is \",len(allele_blocks_s2))\n",
    "print(\"Num phaseblocks in sample three is \",len(allele_blocks_s3))\n",
    "print(\"Num phaseblocks in sample four is \",len(allele_blocks_s4))\n",
    "print(\"Num vars in sample five-parental is \",len(varposs_s5))\n",
    "print(\"Num all vars is \",len(varposs_all))\n",
    "\n",
    "print(\"number of occurance of weird case (=two variants are in the same block, but far from each other) \", num_weird_occurs)\n",
    " "
   ]
  },
  {
   "cell_type": "code",
   "execution_count": null,
   "metadata": {},
   "outputs": [],
   "source": []
  },
  {
   "cell_type": "code",
   "execution_count": 3,
   "metadata": {},
   "outputs": [
    {
     "name": "stdout",
     "output_type": "stream",
     "text": [
      "done\n"
     ]
    }
   ],
   "source": [
    "matrix_row_lists=[]\n",
    "for varpos in varposs_all:\n",
    "    # for increasing the speed we can use the information that the phase blocks are in order.\n",
    "    # but not for those weird phase block\n",
    "\n",
    "\n",
    "    allele_s1='.'\n",
    "    blockid_s1='.'\n",
    "    for block_i_s1 in range(len(blockid_blocks_s1)):\n",
    "        allele_block_s1 = allele_blocks_s1[block_i_s1]\n",
    "        varpos_block_s1 = varpos_blocks_s1[block_i_s1]\n",
    "\n",
    "        if varpos in varpos_block_s1:\n",
    "            allele_s1 = allele_block_s1[varpos_block_s1.index(varpos)]\n",
    "            blockid_s1 = blockid_blocks_s1[block_i_s1]\n",
    "            break # when var is found, no need to continue for loop\n",
    "\n",
    "            \n",
    "    allele_s2='.'\n",
    "    blockid_s2='.'\n",
    "    for block_i_s2 in range(len(blockid_blocks_s2)):\n",
    "        allele_block_s2 = allele_blocks_s2[block_i_s2]\n",
    "        varpos_block_s2 = varpos_blocks_s2[block_i_s2]\n",
    "\n",
    "        if varpos in varpos_block_s2:\n",
    "            allele_s2 = allele_block_s2[varpos_block_s2.index(varpos)]\n",
    "            blockid_s2 = blockid_blocks_s2[block_i_s2]\n",
    "            break # when var is found, no need to continue for loop\n",
    "\n",
    "    allele_s3='.'\n",
    "    blockid_s3='.'\n",
    "    for block_i_s3 in range(len(blockid_blocks_s3)):\n",
    "        allele_block_s3 = allele_blocks_s3[block_i_s3]\n",
    "        varpos_block_s3 = varpos_blocks_s3[block_i_s3]\n",
    "\n",
    "        if varpos in varpos_block_s3:\n",
    "            allele_s3 = allele_block_s3[varpos_block_s3.index(varpos)]\n",
    "            blockid_s3 = blockid_blocks_s3[block_i_s3]\n",
    "            break # when var is found, no need to continue for loop\n",
    "\n",
    "    allele_s4='.'\n",
    "    blockid_s4='.'\n",
    "    for block_i_s4 in range(len(blockid_blocks_s4)):\n",
    "        allele_block_s4 = allele_blocks_s4[block_i_s4]\n",
    "        varpos_block_s4 = varpos_blocks_s4[block_i_s4]\n",
    "\n",
    "        if varpos in varpos_block_s4:\n",
    "            allele_s4 = allele_block_s4[varpos_block_s4.index(varpos)]\n",
    "            blockid_s4 = blockid_blocks_s4[block_i_s4]\n",
    "            break # when var is found, no need to continue for loop\n",
    "\n",
    "    \n",
    "            \n",
    "    if varpos in varposs_s5:\n",
    "        allele_s5 = alleles_s5[varposs_s5.index(varpos)]\n",
    "    else: allele_s5= '.'\n",
    "\n",
    "    if not (allele_s1=='.' and allele_s2=='.' and allele_s3=='.' and allele_s4=='.' and allele_s5=='.'): \n",
    "        matrix_row_list=[str(varpos),str(allele_s1)+\":\"+str(blockid_s1),\n",
    "                         str(allele_s2)+\":\"+str(blockid_s2),str(allele_s3)+\":\"+str(blockid_s3),\n",
    "                         str(allele_s4)+\":\"+str(blockid_s4), str(allele_s5)] \n",
    "        matrix_row_lists.append(matrix_row_list)\n",
    "\n",
    "        \n",
    "# one option can be for loop over blockid_blocks_s1 instead of varposs_all, then search in  blockid_blocks_s1 also for printing sort them to overcome weird phase block\n",
    "# the issue will be for those variant that are not phased in blockid_blocks_s1 but in blockid_blocks_s2\n",
    "\n",
    "print(\"done\")\n"
   ]
  },
  {
   "cell_type": "code",
   "execution_count": null,
   "metadata": {},
   "outputs": [],
   "source": []
  },
  {
   "cell_type": "code",
   "execution_count": 4,
   "metadata": {},
   "outputs": [
    {
     "name": "stdout",
     "output_type": "stream",
     "text": [
      "done\n"
     ]
    }
   ],
   "source": [
    "# no reordering\n",
    "matrix_address=vcf_file_address[:-4]+\"_raw_v1a.txt\"\n",
    "\n",
    "matrix_file=open(matrix_address,'w');\n",
    "matrix_file.write(\"\\t\\t\".join([\"Pos\",\"HiFiWsp\",\"HiFiHpct\",\"IllmWsp\",\"IllmHpct\",\"parental\",\"predicted\"])+\"\\n\") # \"Pos\",\"ONT\",\"CLR\",\"HiFi\",\"Illm\",\"parental\"\n",
    "for matrix_row_list in matrix_row_lists:\n",
    "\n",
    "        matrix_file.write(\"\\t\".join(matrix_row_list)+\"\\n\")\n",
    "\n",
    "matrix_file.close()\n",
    "   \n",
    "    \n",
    "print(\"done\")"
   ]
  },
  {
   "cell_type": "code",
   "execution_count": null,
   "metadata": {},
   "outputs": [],
   "source": []
  },
  {
   "cell_type": "code",
   "execution_count": 5,
   "metadata": {},
   "outputs": [
    {
     "ename": "NameError",
     "evalue": "name 'matrix_row_lists_prd' is not defined",
     "output_type": "error",
     "traceback": [
      "\u001b[0;31m---------------------------------------------------------------------------\u001b[0m",
      "\u001b[0;31mNameError\u001b[0m                                 Traceback (most recent call last)",
      "\u001b[0;32m<ipython-input-5-63537c6aa373>\u001b[0m in \u001b[0;36m<module>\u001b[0;34m\u001b[0m\n\u001b[1;32m      3\u001b[0m \u001b[0mvar_lines_list_prd\u001b[0m\u001b[0;34m=\u001b[0m\u001b[0;34m[\u001b[0m\u001b[0;34m]\u001b[0m\u001b[0;34m\u001b[0m\u001b[0;34m\u001b[0m\u001b[0m\n\u001b[1;32m      4\u001b[0m \u001b[0;34m\u001b[0m\u001b[0m\n\u001b[0;32m----> 5\u001b[0;31m \u001b[0mvarpos_list_inmatrix\u001b[0m\u001b[0;34m=\u001b[0m\u001b[0;34m[\u001b[0m\u001b[0mi\u001b[0m\u001b[0;34m[\u001b[0m\u001b[0;36m0\u001b[0m\u001b[0;34m]\u001b[0m \u001b[0;32mfor\u001b[0m \u001b[0mi\u001b[0m \u001b[0;32min\u001b[0m \u001b[0mmatrix_row_lists_prd\u001b[0m\u001b[0;34m]\u001b[0m\u001b[0;34m\u001b[0m\u001b[0;34m\u001b[0m\u001b[0m\n\u001b[0m\u001b[1;32m      6\u001b[0m \u001b[0;34m\u001b[0m\u001b[0m\n\u001b[1;32m      7\u001b[0m \u001b[0;32mfor\u001b[0m \u001b[0mvar_line_list\u001b[0m \u001b[0;32min\u001b[0m \u001b[0mvar_lines_list\u001b[0m\u001b[0;34m:\u001b[0m \u001b[0;31m#\u001b[0m\u001b[0;34m\u001b[0m\u001b[0;34m\u001b[0m\u001b[0m\n",
      "\u001b[0;31mNameError\u001b[0m: name 'matrix_row_lists_prd' is not defined"
     ]
    }
   ],
   "source": [
    "diff_list=[]\n",
    "\n",
    "var_lines_list_prd=[]\n",
    "\n",
    "varpos_list_inmatrix=[i[0] for i in matrix_row_lists_prd]\n",
    "\n",
    "for var_line_list in var_lines_list: # \n",
    "    var_line_list_part=var_line_list[:9]\n",
    "\n",
    "    varpos = var_line_list_part[1]\n",
    "    if varpos in varpos_list_inmatrix:\n",
    "        \n",
    "        gt_flags = var_line_list[8]\n",
    "        idx_ps = gt_flags.split(\":\").index(\"PS\")\n",
    "        idx_gt = gt_flags.split(\":\").index(\"GT\")   \n",
    "        \n",
    "        var_idx = varpos_list_inmatrix.index(varpos)        \n",
    "        matrix_row_list_prd = matrix_row_lists_prd[var_idx]  \n",
    "        \n",
    "        allele_prd_blockId_prd = matrix_row_list_prd[6]\n",
    "        #allele_prd_blockId_prd = matrix_row_list_prd[7]\n",
    "        allele_prd, blockId_prd=allele_prd_blockId_prd.split(\":\")\n",
    "        blockId_s1 = matrix_row_list_prd[1].split(\":\")[1]\n",
    "        \n",
    "        \n",
    "        if allele_prd != \".\" and blockId_prd != \".\":\n",
    "            alleles_prd = allele_prd+\"|\"+str(1-int(allele_prd))+\":\"+blockId_prd\n",
    "        else:\n",
    "            alleles_prd = \"./.:.\"\n",
    "        \n",
    "#         if allele_prd != \".\" and blockId_prd == \".\" and blockId_s1_previous!= \".\":\n",
    "#             alleles_prd = allele_prd+\"|\"+str(1-int(allele_prd))+\":\"+blockId_s1       \n",
    "        \n",
    "        if blockId_prd != \".\" and  allele_prd != matrix_row_list_prd[1].split(\":\")[0]:\n",
    "            diff_list.append((varpos,allele_prd,matrix_row_list_prd[1].split(\":\")[0]))\n",
    "    \n",
    "        \n",
    "        var_line_list_prd=var_line_list[:8] +['GT:PS', alleles_prd]        \n",
    "        var_lines_list_prd.append(var_line_list_prd)\n",
    "        \n",
    "        blockId_s1_previous =  blockId_s1\n",
    "        \n",
    "\n",
    "\n",
    "print(\"done\")"
   ]
  },
  {
   "cell_type": "code",
   "execution_count": null,
   "metadata": {},
   "outputs": [],
   "source": [
    "\n",
    "vcf_out_address=vcf_file_address[:-4]+\"_parent_v1a.vcf\" # vcf_file_address+\"_majority_v4b.vcf\"\n",
    "\n",
    "vcf_out_file=open(vcf_out_address,'w');\n",
    "\n",
    "for header_line in header_lines_list[:-1]: # except last line should be edit for one sample not five\n",
    "    vcf_out_file.write(header_line+\"\\n\")\n",
    "\n",
    "vcf_out_file.write(header_lines_list[-1][:51]+\"\\n\")\n",
    "    \n",
    "for var_line_list in var_lines_list_prd:\n",
    "    \n",
    "    vcf_out_file.write(\"\\t\".join(var_line_list)+\"\\n\")\n",
    "\n",
    "vcf_out_file.close()\n"
   ]
  },
  {
   "cell_type": "code",
   "execution_count": null,
   "metadata": {},
   "outputs": [],
   "source": []
  },
  {
   "cell_type": "code",
   "execution_count": 12,
   "metadata": {},
   "outputs": [
    {
     "name": "stdout",
     "output_type": "stream",
     "text": [
      "True\n",
      "False\n",
      "True\n",
      "True\n"
     ]
    }
   ],
   "source": [
    "#16417020\t1:16324005\t0:16324005\t1:16416076\t1:16416076\t1\n",
    "block_id_s1='16324005'\n",
    "block_id_s2='16324005'\n",
    "block_id_s3='16416076'\n",
    "block_id_s4='16416076'\n",
    "\n",
    "print(block_id_s1 in reordered_block_i_list_s1)\n",
    "print(block_id_s2 in reordered_block_i_list_s2)\n",
    "print(block_id_s3 in reordered_block_i_list_s3)\n",
    "print(block_id_s4 in reordered_block_i_list_s4)"
   ]
  },
  {
   "cell_type": "code",
   "execution_count": 18,
   "metadata": {},
   "outputs": [
    {
     "data": {
      "text/plain": [
       "(3, 3, 148)"
      ]
     },
     "execution_count": 18,
     "metadata": {},
     "output_type": "execute_result"
    }
   ],
   "source": [
    "blockid_blocks_s1.index(block_id_s1), blockid_blocks_s2.index(block_id_s2), blockid_blocks_s3.index(block_id_s3)"
   ]
  },
  {
   "cell_type": "code",
   "execution_count": 16,
   "metadata": {},
   "outputs": [
    {
     "name": "stdout",
     "output_type": "stream",
     "text": [
      "35 242 277 789\n"
     ]
    }
   ],
   "source": [
    "allele_block_s1=allele_blocks_s1[3]\n",
    "varpos_block_s1=varpos_blocks_s1[3]\n",
    "\n",
    "\n",
    "similiar_count=0\n",
    "diss_count=0\n",
    "for var_i, varpos in enumerate(varpos_block_s1):\n",
    "    allele_s1= allele_block_s1[var_i]\n",
    "\n",
    "    if varpos in varposs_s5:\n",
    "        allele_s5= alleles_s5[varposs_s5.index(varpos)]\n",
    "        if allele_s1 == allele_s5:\n",
    "            similiar_count+=1\n",
    "        else: \n",
    "            diss_count+=1\n",
    "print(similiar_count,diss_count,similiar_count+diss_count,len(allele_block_s1))"
   ]
  },
  {
   "cell_type": "code",
   "execution_count": 19,
   "metadata": {},
   "outputs": [
    {
     "name": "stdout",
     "output_type": "stream",
     "text": [
      "1 0 1 789\n"
     ]
    }
   ],
   "source": [
    "allele_block_s3=allele_blocks_s3[148]\n",
    "varpos_block_s3=varpos_blocks_s3[148]\n",
    "\n",
    "similiar_count=0\n",
    "diss_count=0\n",
    "for var_i, varpos in enumerate(varpos_block_s3):\n",
    "    allele_s3= allele_block_s3[var_i]\n",
    "\n",
    "    if varpos in varposs_s5:\n",
    "        allele_s5= alleles_s5[varposs_s5.index(varpos)]\n",
    "        if allele_s1 == allele_s5:\n",
    "            similiar_count+=1\n",
    "        else: \n",
    "            diss_count+=1\n",
    "print(similiar_count,diss_count,similiar_count+diss_count,len(allele_block_s1))"
   ]
  },
  {
   "cell_type": "code",
   "execution_count": 20,
   "metadata": {},
   "outputs": [
    {
     "data": {
      "text/plain": [
       "[0, 0, 0, 0, 0, 1, 0, 0, 0, 0]"
      ]
     },
     "execution_count": 20,
     "metadata": {},
     "output_type": "execute_result"
    }
   ],
   "source": [
    "allele_blocks_s3[148]"
   ]
  },
  {
   "cell_type": "code",
   "execution_count": 21,
   "metadata": {},
   "outputs": [
    {
     "data": {
      "text/plain": [
       "[16416076,\n",
       " 16416460,\n",
       " 16416610,\n",
       " 16416763,\n",
       " 16416845,\n",
       " 16416952,\n",
       " 16417011,\n",
       " 16417020,\n",
       " 16417206,\n",
       " 16417563]"
      ]
     },
     "execution_count": 21,
     "metadata": {},
     "output_type": "execute_result"
    }
   ],
   "source": [
    "varpos_block_s3"
   ]
  },
  {
   "cell_type": "code",
   "execution_count": 6,
   "metadata": {},
   "outputs": [
    {
     "name": "stdout",
     "output_type": "stream",
     "text": [
      "16050159\n",
      "16847963\n",
      "16981313\n"
     ]
    }
   ],
   "source": [
    "pre_block1=0\n",
    "for matrix_row_list in matrix_row_lists:\n",
    "    pos=matrix_row_list[0]\n",
    "    block1=matrix_row_list[1].split(\":\")[1]\n",
    "    block2=matrix_row_list[2].split(\":\")[1]\n",
    "    block3=matrix_row_list[3].split(\":\")[1]\n",
    "    block4=matrix_row_list[4].split(\":\")[1]\n",
    "    \n",
    "    if block1 != pre_block1 and block1!= '.':\n",
    "        if block1==block2 and block1==block3 and block1==block4:\n",
    "            print(block1)\n",
    "\n",
    "    if block1!='.':\n",
    "        pre_block1=block1\n",
    "        "
   ]
  },
  {
   "cell_type": "code",
   "execution_count": 6,
   "metadata": {},
   "outputs": [
    {
     "data": {
      "text/plain": [
       "'17280362'"
      ]
     },
     "execution_count": 6,
     "metadata": {},
     "output_type": "execute_result"
    }
   ],
   "source": [
    "block1"
   ]
  },
  {
   "cell_type": "code",
   "execution_count": 7,
   "metadata": {},
   "outputs": [
    {
     "data": {
      "text/plain": [
       "['17371413', '0:17280362', '1:17280362', '0:17370721', '0:17370721', '.']"
      ]
     },
     "execution_count": 7,
     "metadata": {},
     "output_type": "execute_result"
    }
   ],
   "source": [
    "matrix_row_list"
   ]
  },
  {
   "cell_type": "code",
   "execution_count": null,
   "metadata": {},
   "outputs": [],
   "source": []
  }
 ],
 "metadata": {
  "kernelspec": {
   "display_name": "Python 3",
   "language": "python",
   "name": "python3"
  },
  "language_info": {
   "codemirror_mode": {
    "name": "ipython",
    "version": 3
   },
   "file_extension": ".py",
   "mimetype": "text/x-python",
   "name": "python",
   "nbconvert_exporter": "python",
   "pygments_lexer": "ipython3",
   "version": "3.8.5"
  }
 },
 "nbformat": 4,
 "nbformat_minor": 4
}
