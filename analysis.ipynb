{
 "cells": [
  {
   "cell_type": "code",
   "execution_count": 29,
   "id": "pressing-extension",
   "metadata": {},
   "outputs": [],
   "source": [
    "\n",
    "file_address = \"wp_p_true.txt\"  # \"22_4k.vcf\" \n",
    "file_1 = open(file_address,'r');\n",
    "\n",
    "\n",
    "pos_l=[]\n",
    "l1=[]\n",
    "l2=[]\n",
    "l3=[]\n",
    "for line in file_1:\n",
    "    line_strip = line # .strip()\n",
    "    \n",
    "    line_parts = line_strip.split('\\t')\n",
    "    pos_l.append(line_parts[0])\n",
    "    l1.append(line_parts[1])\n",
    "    l2.append(line_parts[2])\n",
    "    l3.append((line_parts[3][0]))\n",
    "    "
   ]
  },
  {
   "cell_type": "code",
   "execution_count": null,
   "id": "biological-responsibility",
   "metadata": {},
   "outputs": [],
   "source": []
  },
  {
   "cell_type": "code",
   "execution_count": 40,
   "id": "distant-record",
   "metadata": {},
   "outputs": [
    {
     "data": {
      "text/plain": [
       "(39680, 17433, 0.4393397177419355)"
      ]
     },
     "execution_count": 40,
     "metadata": {},
     "output_type": "execute_result"
    }
   ],
   "source": [
    "val1=0\n",
    "val_eq=0\n",
    "for i in range(len(l1)):\n",
    "    if (l1[i]=='0' or l1[i]=='1'  ) and (l2[i]=='0' or l2[i]=='1'):\n",
    "        val1+=1\n",
    "        if l1[i]==l2[i]:\n",
    "            val_eq+=1\n",
    "    \n",
    "val1,val_eq, val_eq/val1\n",
    "    "
   ]
  },
  {
   "cell_type": "code",
   "execution_count": 39,
   "id": "historical-breast",
   "metadata": {},
   "outputs": [
    {
     "name": "stdout",
     "output_type": "stream",
     "text": [
      "11049 5852 0.529640691465291\n"
     ]
    },
    {
     "data": {
      "text/plain": [
       "(11049, 5420, 0.49054213050954837)"
      ]
     },
     "execution_count": 39,
     "metadata": {},
     "output_type": "execute_result"
    }
   ],
   "source": [
    "val1=0\n",
    "val_eq=0\n",
    "for i in range(len(l1)):\n",
    "    if (l1[i]=='0' or l1[i]=='1'  ) and (l3[i]=='0' or l3[i]=='1'):\n",
    "        val1+=1\n",
    "        if l1[i]==l3[i]:\n",
    "            val_eq+=1\n",
    "print(val1,val_eq,val_eq/val1)\n",
    "\n",
    "\n",
    "val2=0\n",
    "val_eq2=0\n",
    "for i in range(len(l1)):\n",
    "    if (l2[i]=='0' or l2[i]=='1'  ) and (l3[i]=='0' or l3[i]=='1'):\n",
    "        val2+=1\n",
    "        if l2[i]==l3[i]:\n",
    "            val_eq2+=1\n",
    "\n",
    "    \n",
    "val2,val_eq2, val_eq2/val2"
   ]
  },
  {
   "cell_type": "code",
   "execution_count": 33,
   "id": "functional-happening",
   "metadata": {},
   "outputs": [
    {
     "name": "stdout",
     "output_type": "stream",
     "text": [
      "l1-l3 0.529640691465291\n"
     ]
    }
   ],
   "source": [
    "print(\"l1-l3\",5852/11049)"
   ]
  },
  {
   "cell_type": "code",
   "execution_count": null,
   "id": "uniform-richardson",
   "metadata": {},
   "outputs": [],
   "source": [
    "\n",
    "\n"
   ]
  },
  {
   "cell_type": "code",
   "execution_count": null,
   "id": "covered-variance",
   "metadata": {},
   "outputs": [],
   "source": []
  },
  {
   "cell_type": "code",
   "execution_count": null,
   "id": "municipal-token",
   "metadata": {},
   "outputs": [],
   "source": []
  },
  {
   "cell_type": "code",
   "execution_count": null,
   "id": "critical-conspiracy",
   "metadata": {},
   "outputs": [],
   "source": []
  },
  {
   "cell_type": "code",
   "execution_count": 12,
   "id": "soviet-proxy",
   "metadata": {},
   "outputs": [],
   "source": [
    "\n",
    "file_address = \"5k_p.txt\"  # \"22_4k.vcf\" \n",
    "file_1 = open(file_address,'r');\n",
    "l1=[]\n",
    "\n",
    "for line in file_1:\n",
    "    line_strip = line # .strip()\n",
    "    line_parts = line_strip.split('\\t')\n",
    "    l1.append(line_parts[1])\n",
    "    "
   ]
  },
  {
   "cell_type": "code",
   "execution_count": 13,
   "id": "unusual-sight",
   "metadata": {},
   "outputs": [
    {
     "data": {
      "text/plain": [
       "['16068295',\n",
       " '16069374',\n",
       " '16073196',\n",
       " '16080579',\n",
       " '16085591',\n",
       " '16087217',\n",
       " '16101526',\n",
       " '16101684',\n",
       " '16103264',\n",
       " '16104385']"
      ]
     },
     "execution_count": 13,
     "metadata": {},
     "output_type": "execute_result"
    }
   ],
   "source": [
    "l1[:10]"
   ]
  },
  {
   "cell_type": "code",
   "execution_count": 14,
   "id": "tired-blake",
   "metadata": {},
   "outputs": [],
   "source": [
    "\n",
    "file_address = \"5k_npar.txt\"  # \"22_4k.vcf\" \n",
    "file_1 = open(file_address,'r');\n",
    "l1_without=[]\n",
    "\n",
    "for line in file_1:\n",
    "    line_strip = line # .strip()\n",
    "    line_parts = line_strip.split('\\t')\n",
    "    l1_without.append(line_parts[1])\n",
    "    "
   ]
  },
  {
   "cell_type": "code",
   "execution_count": 15,
   "id": "structural-vault",
   "metadata": {},
   "outputs": [],
   "source": [
    "dif1=set(l1_without) - set(l1)\n",
    "# set(l1).intersection(set(l1_without))"
   ]
  },
  {
   "cell_type": "code",
   "execution_count": 16,
   "id": "accredited-nancy",
   "metadata": {},
   "outputs": [],
   "source": [
    "dif1_set=sorted(list(dif1))"
   ]
  },
  {
   "cell_type": "code",
   "execution_count": 17,
   "id": "worthy-technical",
   "metadata": {},
   "outputs": [
    {
     "data": {
      "text/plain": [
       "(109, 116, 31)"
      ]
     },
     "execution_count": 17,
     "metadata": {},
     "output_type": "execute_result"
    }
   ],
   "source": [
    "len(l1_without),len(l1),len(dif1)"
   ]
  },
  {
   "cell_type": "code",
   "execution_count": 20,
   "id": "entire-powell",
   "metadata": {},
   "outputs": [
    {
     "data": {
      "text/plain": [
       "['16145512',\n",
       " '16322643',\n",
       " '16335462',\n",
       " '16337995',\n",
       " '16402408',\n",
       " '16417020',\n",
       " '16420712',\n",
       " '16422428',\n",
       " '16423090',\n",
       " '16442657',\n",
       " '16453994',\n",
       " '16489705',\n",
       " '16490618',\n",
       " '16505804',\n",
       " '16506873',\n",
       " '16528441',\n",
       " '16528995',\n",
       " '16533604',\n",
       " '16552793',\n",
       " '16553221',\n",
       " '16557757',\n",
       " '16558766',\n",
       " '16682365',\n",
       " '16697281',\n",
       " '16883221',\n",
       " '16883930',\n",
       " '16884830',\n",
       " '16962379',\n",
       " '17039270',\n",
       " '17041656']"
      ]
     },
     "execution_count": 20,
     "metadata": {},
     "output_type": "execute_result"
    }
   ],
   "source": [
    "dif1_set[:30]"
   ]
  },
  {
   "cell_type": "code",
   "execution_count": null,
   "id": "agricultural-recognition",
   "metadata": {},
   "outputs": [],
   "source": []
  },
  {
   "cell_type": "code",
   "execution_count": null,
   "id": "false-simple",
   "metadata": {},
   "outputs": [],
   "source": []
  }
 ],
 "metadata": {
  "kernelspec": {
   "display_name": "Python 3",
   "language": "python",
   "name": "python3"
  },
  "language_info": {
   "codemirror_mode": {
    "name": "ipython",
    "version": 3
   },
   "file_extension": ".py",
   "mimetype": "text/x-python",
   "name": "python",
   "nbconvert_exporter": "python",
   "pygments_lexer": "ipython3",
   "version": "3.8.5"
  }
 },
 "nbformat": 4,
 "nbformat_minor": 5
}
