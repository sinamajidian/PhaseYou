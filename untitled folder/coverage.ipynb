{
 "cells": [
  {
   "cell_type": "raw",
   "metadata": {},
   "source": [
    "cd /Volumes/sina2tb/phaseyou_2tb/coverage_check\n",
    "chr=\"22\"\n",
    "bam_file_add=\"22_hifi.bam\"\n",
    "mosdepth --threads 3 --no-per-base --by 500 -c ${chr} -m depth ${bam_file_add}\n",
    "cp /Volumes/sina2tb/phaseyou_2tb/coverage_check/depth.regions.bed  /Volumes/work/myjupyter/phaseyou/coverage_check\n"
   ]
  },
  {
   "cell_type": "code",
   "execution_count": null,
   "metadata": {},
   "outputs": [],
   "source": []
  },
  {
   "cell_type": "code",
   "execution_count": 178,
   "metadata": {},
   "outputs": [],
   "source": [
    "bed_address=\"depth.regions.bed\"\n",
    "bed_address_out=\"depth.regions.masked.bed\"\n",
    "\n",
    "\n",
    "bed_file=open(bed_address,'r');\n",
    "\n",
    "depth_all=[]\n",
    "all_values=[]\n",
    "for line in bed_file:\n",
    "    line_strip=line.strip()\n",
    "    line_split=line_strip.split(\"\\t\")\n",
    "    \n",
    "    chrm=int(line_split[0])\n",
    "    [start, end]=[int(line_split[1]),int(line_split[2])]\n",
    "    depth=float(line_split[3])\n",
    "    \n",
    "    all_values.append([chrm,start, end,depth])\n",
    "\n",
    "    depth_all.append(depth)\n",
    "\n",
    "bed_file.close()\n",
    "\n"
   ]
  },
  {
   "cell_type": "code",
   "execution_count": 194,
   "metadata": {},
   "outputs": [
    {
     "name": "stdout",
     "output_type": "stream",
     "text": [
      "102610\n",
      "29.76 6.63\n"
     ]
    }
   ],
   "source": [
    "print(len(depth_all))\n",
    "\n",
    "\n",
    "import numpy as np\n",
    "from scipy.stats import norm, mode\n",
    "values= np.array(depth_all)\n",
    "stat_depth=norm.fit(values[(values > 0) & (values < (2*mode(values[values > 0])[0] ))])\n",
    "mean_depth=stat_depth[0]\n",
    "sd_depth=stat_depth[1]\n",
    "\n",
    "print(round(mean_depth,2),round(sd_depth,2))\n"
   ]
  },
  {
   "cell_type": "code",
   "execution_count": 86,
   "metadata": {},
   "outputs": [
    {
     "data": {
      "image/png": "[encoded data removed]",
      "text/plain": [
       "<Figure size 432x288 with 1 Axes>"
      ]
     },
     "metadata": {
      "needs_background": "light"
     },
     "output_type": "display_data"
    }
   ],
   "source": [
    "import matplotlib\n",
    "import matplotlib.pyplot as plt\n",
    "import numpy as np\n",
    "\n",
    "plt.plot(depth_all)\n",
    "#fig.savefig(\"test.png\")\n",
    "plt.show()\n",
    "\n"
   ]
  },
  {
   "cell_type": "code",
   "execution_count": null,
   "metadata": {},
   "outputs": [],
   "source": []
  },
  {
   "cell_type": "code",
   "execution_count": null,
   "metadata": {},
   "outputs": [],
   "source": []
  },
  {
   "cell_type": "code",
   "execution_count": null,
   "metadata": {},
   "outputs": [],
   "source": []
  },
  {
   "cell_type": "code",
   "execution_count": null,
   "metadata": {},
   "outputs": [],
   "source": []
  },
  {
   "cell_type": "code",
   "execution_count": null,
   "metadata": {},
   "outputs": [],
   "source": []
  },
  {
   "cell_type": "code",
   "execution_count": null,
   "metadata": {},
   "outputs": [],
   "source": []
  },
  {
   "cell_type": "code",
   "execution_count": null,
   "metadata": {},
   "outputs": [],
   "source": []
  },
  {
   "cell_type": "code",
   "execution_count": 179,
   "metadata": {},
   "outputs": [],
   "source": [
    "depth_treshold= mean_depth+3*sd_depth\n",
    "\n",
    "first=True\n",
    "for values in all_values:\n",
    "    [chrm,start, end,depth]=values\n",
    "    \n",
    "    if depth> depth_treshold:\n",
    "\n",
    "        if first:\n",
    "            first=False\n",
    "            combined_records=[[start, end]] # no need to report the depth of record\n",
    "        else:\n",
    "            last_combined=combined_records[-1]\n",
    "            end_last_combined= last_combined[1]\n",
    "\n",
    "            if end_last_combined==start:\n",
    "                combined_records[-1][1]=end\n",
    "\n",
    "            else:\n",
    "                combined_records.append([start, end])\n"
   ]
  },
  {
   "cell_type": "code",
   "execution_count": 180,
   "metadata": {},
   "outputs": [
    {
     "name": "stdout",
     "output_type": "stream",
     "text": [
      "54\n"
     ]
    },
    {
     "data": {
      "text/plain": [
       "[[16096.5, 16136.0],\n",
       " [16160.0, 16168.0],\n",
       " [16186.0, 16242.5],\n",
       " [16243.0, 16246.0],\n",
       " [16279.0, 16321.5],\n",
       " [16345.0, 16357.0],\n",
       " [16373.5, 16399.0],\n",
       " [16433.0, 16452.5],\n",
       " [16874.0, 16891.0],\n",
       " [16902.0, 16943.0]]"
      ]
     },
     "execution_count": 180,
     "metadata": {},
     "output_type": "execute_result"
    }
   ],
   "source": [
    "print(len(combined_records)) # high coverage region\n",
    "[[i/1000,j/1000] for [i,j] in combined_records[:10]]\n",
    "\n"
   ]
  },
  {
   "cell_type": "code",
   "execution_count": 127,
   "metadata": {},
   "outputs": [
    {
     "name": "stdout",
     "output_type": "stream",
     "text": [
      "[39.5, 8.0, 56.5, 3.0, 42.5, 12.0, 25.5, 19.5, 17.0, 41.0, 6.0, 4.5, 8.0, 43.0, 30.0, 0.5, 4.0, 0.5, 22.0, 18.5, 1.0, 22.0, 25.0, 73.0, 9.5, 23.5, 5.5, 0.5, 2.5, 2.0, 2.0, 1.0, 1.0, 2.0, 1.0, 2.0, 0.5, 0.5, 1.5, 0.5, 0.5, 3.0, 0.5, 0.5, 1.5, 1.0, 4.0, 3.5, 0.5, 1.0, 1.5, 0.5, 0.5, 2.0]\n",
      "[16.11625, 16.164, 16.21425, 16.2445, 16.30025, 16.351, 16.38625, 16.44275, 16.8825, 16.9225, 16.9845, 17.36825, 17.375, 18.776, 18.855, 18.92975, 18.9335, 20.15175, 20.3435, 20.65675, 20.6715, 21.4835, 21.5425, 21.62, 21.69325, 21.76575, 23.76225, 26.04675, 26.62825, 27.444, 27.447, 27.4515, 27.4535, 31.724, 33.111, 33.113, 33.46725, 33.68875, 34.19925, 34.56275, 34.76675, 35.077, 35.37675, 36.37925, 37.86775, 40.014, 42.1815, 42.18575, 42.56325, 43.892, 43.89575, 45.99175, 51.08225, 51.2285]\n"
     ]
    }
   ],
   "source": [
    "length=[j/1000-i/1000 for [i,j] in combined_records]\n",
    "mid=[(j+i)/2/1000/1000 for [i,j] in combined_records]\n",
    "print(length)\n",
    "print(mid)"
   ]
  },
  {
   "cell_type": "code",
   "execution_count": 157,
   "metadata": {},
   "outputs": [
    {
     "data": {
      "text/plain": [
       "598.5"
      ]
     },
     "execution_count": 157,
     "metadata": {},
     "output_type": "execute_result"
    }
   ],
   "source": [
    "sum(length)"
   ]
  },
  {
   "cell_type": "code",
   "execution_count": 124,
   "metadata": {},
   "outputs": [
    {
     "data": {
      "image/png": "[encoded data removed]",
      "text/plain": [
       "<Figure size 432x288 with 1 Axes>"
      ]
     },
     "metadata": {
      "needs_background": "light"
     },
     "output_type": "display_data"
    }
   ],
   "source": [
    "\n",
    "plt.bar(range(len(combined_records)),length)\n",
    "\n",
    "plt.ylabel(\"kb\")\n",
    "plt.title(\"length of high coverage regions\")\n",
    "#plt.show()\n",
    "\n",
    "plt.savefig(\"length_highCoverage_barplot.pdf\")\n",
    "#plt.close(fig)    # close the figure window\n"
   ]
  },
  {
   "cell_type": "code",
   "execution_count": 132,
   "metadata": {},
   "outputs": [
    {
     "data": {
      "image/png": "[encoded data removed]",
      "text/plain": [
       "<Figure size 432x288 with 1 Axes>"
      ]
     },
     "metadata": {
      "needs_background": "light"
     },
     "output_type": "display_data"
    }
   ],
   "source": [
    "plt.bar(mid,length,width=.4)\n",
    "\n",
    "plt.ylabel(\"Length of region(kb)\")\n",
    "plt.xlabel(\"Mid of region (Genomic position in mb)\")\n",
    "\n",
    "plt.title(\"High coverage regions\")\n",
    "\n",
    "#plt.show()\n",
    "\n",
    "plt.savefig(\"length_highCoverage_barplot_mid.pdf\")\n",
    "plt.savefig(\"length_highCoverage_barplot_mid.png\")\n",
    "\n",
    "#plt.clos"
   ]
  },
  {
   "cell_type": "code",
   "execution_count": 91,
   "metadata": {},
   "outputs": [],
   "source": [
    "    \n",
    "    \n",
    "bed_file_out=open(bed_address_out[:-3]+\"combined.bed\",'w');\n",
    "for records in combined_records:\n",
    "    line_out= str(chrm)+\"\\t\"+\"\\t\".join([str(records[0]),str(records[1])])\n",
    "    bed_file_out.write(line_out+\"\\n\")\n",
    "bed_file_out.close()\n"
   ]
  },
  {
   "cell_type": "raw",
   "metadata": {},
   "source": [
    "cp /Volumes/work/myjupyter/phaseyou/coverage_check/comapre/22_hifi_trio.bed /Volumes/work/myjupyter/phaseyou/coverage_check"
   ]
  },
  {
   "cell_type": "code",
   "execution_count": 203,
   "metadata": {},
   "outputs": [],
   "source": [
    "\n",
    "bed_address_compare=\"22_hifi_trio.bed\"\n",
    "\n",
    "bed_file=open(bed_address_compare,'r');\n",
    "all_switches=[]\n",
    "all_switches_start=[]\n",
    "for line in bed_file:\n",
    "    line_strip=line.strip()\n",
    "    line_split=line_strip.split(\"\\t\")\n",
    "    \n",
    "    chrm=int(line_split[0])\n",
    "    [start, end]=[int(line_split[1]),int(line_split[2])]\n",
    "    all_switches.append([chrm,start, end])\n",
    "    all_switches_start.append(start)\n",
    "    \n",
    "bed_file.close()\n",
    "\n",
    "\n",
    "\n"
   ]
  },
  {
   "cell_type": "code",
   "execution_count": 96,
   "metadata": {},
   "outputs": [
    {
     "data": {
      "text/plain": [
       "301"
      ]
     },
     "execution_count": 96,
     "metadata": {},
     "output_type": "execute_result"
    }
   ],
   "source": [
    "len(all_switches)"
   ]
  },
  {
   "cell_type": "code",
   "execution_count": null,
   "metadata": {},
   "outputs": [],
   "source": []
  },
  {
   "cell_type": "code",
   "execution_count": 97,
   "metadata": {},
   "outputs": [
    {
     "data": {
      "text/plain": [
       "[[22, 16069374, 16073196],\n",
       " [22, 16073196, 16077252],\n",
       " [22, 16080579, 16080694],\n",
       " [22, 16085591, 16086302],\n",
       " [22, 16101186, 16101684],\n",
       " [22, 16101684, 16103264],\n",
       " [22, 16103264, 16104385],\n",
       " [22, 16104385, 16105128],\n",
       " [22, 16105128, 16105717]]"
      ]
     },
     "execution_count": 97,
     "metadata": {},
     "output_type": "execute_result"
    }
   ],
   "source": [
    "all_switches[1:10]"
   ]
  },
  {
   "cell_type": "code",
   "execution_count": 152,
   "metadata": {},
   "outputs": [],
   "source": [
    "\n",
    "counter_start=0\n",
    "counter_end=0\n",
    "counter_either=0\n",
    "counter_region=np.zeros(len(combined_records),dtype=int)\n",
    "\n",
    "for switch in all_switches:\n",
    "    [start_switch, end_switch]= switch[1:]\n",
    "\n",
    "    for idx, record in enumerate(combined_records):\n",
    "        \n",
    "        \n",
    "        [start_interval,end_interval]=record\n",
    "        \n",
    "        if start_interval <= start_switch and end_interval >= start_switch:\n",
    "            counter_start+=1\n",
    "        if start_interval <= end_switch and end_interval >= end_switch:\n",
    "            counter_end+=1\n",
    "       \n",
    "        if (start_interval <= start_switch and end_interval >= start_switch) or (start_interval <= end_switch and end_interval >= end_switch):\n",
    "            counter_either+=1\n",
    "            counter_region[idx]+=1\n",
    "            #print(start_switch,start_interval,end_interval )\n",
    "            \n",
    "        \n",
    "        "
   ]
  },
  {
   "cell_type": "code",
   "execution_count": 153,
   "metadata": {},
   "outputs": [
    {
     "data": {
      "text/plain": [
       "96"
      ]
     },
     "execution_count": 153,
     "metadata": {},
     "output_type": "execute_result"
    }
   ],
   "source": [
    "counter_either"
   ]
  },
  {
   "cell_type": "code",
   "execution_count": 154,
   "metadata": {},
   "outputs": [
    {
     "name": "stdout",
     "output_type": "stream",
     "text": [
      "16.1 15\n",
      "16.2 3\n",
      "16.2 19\n",
      "16.2 0\n",
      "16.3 3\n",
      "16.4 0\n",
      "16.4 3\n",
      "16.4 1\n",
      "16.9 2\n",
      "16.9 2\n",
      "17.0 1\n",
      "17.4 0\n",
      "17.4 0\n",
      "18.8 17\n",
      "18.9 8\n",
      "18.9 0\n",
      "18.9 0\n",
      "20.2 0\n",
      "20.3 2\n",
      "20.7 1\n",
      "20.7 0\n",
      "21.5 3\n",
      "21.5 5\n",
      "21.6 10\n",
      "21.7 1\n",
      "21.8 0\n",
      "23.8 0\n",
      "26.0 0\n",
      "26.6 0\n",
      "27.4 0\n",
      "27.4 0\n",
      "27.5 0\n",
      "27.5 0\n",
      "31.7 0\n",
      "33.1 0\n",
      "33.1 0\n",
      "33.5 0\n",
      "33.7 0\n",
      "34.2 0\n",
      "34.6 0\n",
      "34.8 0\n",
      "35.1 0\n",
      "35.4 0\n",
      "36.4 0\n",
      "37.9 0\n",
      "40.0 0\n",
      "42.2 0\n",
      "42.2 0\n",
      "42.6 0\n",
      "43.9 0\n",
      "43.9 0\n",
      "46.0 0\n",
      "51.1 0\n",
      "51.2 0\n"
     ]
    }
   ],
   "source": [
    "for idx in range(len(counter_region)):\n",
    "    print(np.round(mid[idx],1),counter_region[idx])"
   ]
  },
  {
   "cell_type": "code",
   "execution_count": null,
   "metadata": {},
   "outputs": [],
   "source": []
  },
  {
   "cell_type": "code",
   "execution_count": 155,
   "metadata": {},
   "outputs": [
    {
     "name": "stdout",
     "output_type": "stream",
     "text": [
      "90 90 96 301\n"
     ]
    }
   ],
   "source": [
    "print(counter_start,counter_end,counter_either, len(all_switches))"
   ]
  },
  {
   "cell_type": "code",
   "execution_count": 156,
   "metadata": {},
   "outputs": [
    {
     "data": {
      "image/png": "[encoded data removed]",
      "text/plain": [
       "<Figure size 432x288 with 1 Axes>"
      ]
     },
     "metadata": {
      "needs_background": "light"
     },
     "output_type": "display_data"
    }
   ],
   "source": [
    "plt.bar(mid,counter_region,width=.4)\n",
    "\n",
    "plt.ylabel(\"Number of switch errors in the region\")\n",
    "plt.xlabel(\"Mid of region (Genomic position in mb)\")\n",
    "\n",
    "#plt.title(\"High coverage regions\")\n",
    "\n",
    "#plt.show()\n",
    "\n",
    "#plt.savefig(\"length_highCoverage_barplot_mid.pdf\")\n",
    "plt.savefig(\"sw_highCoverage_barplot_mid.png\")\n"
   ]
  },
  {
   "cell_type": "markdown",
   "metadata": {},
   "source": [
    "### Check for the coverage at switches "
   ]
  },
  {
   "cell_type": "code",
   "execution_count": 187,
   "metadata": {},
   "outputs": [],
   "source": [
    "\n",
    "depth_switch=[]\n",
    "for switch in all_switches:\n",
    "    [start_switch, end_switch]= switch[1:]\n",
    "    i=int(round(start_switch/500))\n",
    "    \n",
    "    [chrm, start_interval,end_interval,depth]= all_values[i-1]\n",
    "    #print(start_switch,i,start_interval,depth)\n",
    "    depth_switch.append(depth)\n",
    "    \n",
    " "
   ]
  },
  {
   "cell_type": "code",
   "execution_count": 190,
   "metadata": {},
   "outputs": [
    {
     "data": {
      "text/plain": [
       "[3.0, 142.0]"
      ]
     },
     "execution_count": 190,
     "metadata": {},
     "output_type": "execute_result"
    }
   ],
   "source": [
    "[min(depth_switch),max(depth_switch)]"
   ]
  },
  {
   "cell_type": "code",
   "execution_count": 200,
   "metadata": {},
   "outputs": [
    {
     "data": {
      "image/png": "[encoded data removed]",
      "text/plain": [
       "<Figure size 432x288 with 1 Axes>"
      ]
     },
     "metadata": {
      "needs_background": "light"
     },
     "output_type": "display_data"
    }
   ],
   "source": [
    "plt.hist(depth_switch,bins=20,width=3)\n",
    "plt.title(\"Histogram of depth at switch position\")\n",
    "#plt.ylabel(\"Number of switch errors in the region\")\n",
    "#plt.xlabel(\"Mid of region (Genomic position in mb)\")\n",
    "\n",
    "plt.savefig(\"depth_switch.png\")\n"
   ]
  },
  {
   "cell_type": "code",
   "execution_count": 201,
   "metadata": {},
   "outputs": [
    {
     "data": {
      "image/png": "[encoded data removed]",
      "text/plain": [
       "<Figure size 432x288 with 1 Axes>"
      ]
     },
     "metadata": {
      "needs_background": "light"
     },
     "output_type": "display_data"
    }
   ],
   "source": [
    "plt.bar(range(len(depth_switch)), depth_switch) # ,width=.4)\n",
    "\n",
    "#plt.ylabel(\"Number of switch errors in the region\")\n",
    "#plt.xlabel(\"Mid of region (Genomic position in mb)\")\n",
    "\n",
    "#plt.title(\"High coverage regions\")\n",
    "\n",
    "plt.show()\n",
    "\n",
    "#plt.savefig(\"length_highCoverage_barplot_mid.pdf\")\n",
    "#plt.savefig(\"sw_highCoverage_barplot_mid.png\")"
   ]
  },
  {
   "cell_type": "code",
   "execution_count": null,
   "metadata": {},
   "outputs": [],
   "source": [
    "all_switches_start_mb=[i/1000/1000 for i in all_switches_start]"
   ]
  },
  {
   "cell_type": "code",
   "execution_count": 211,
   "metadata": {},
   "outputs": [
    {
     "data": {
      "image/png": "[encoded data removed]",
      "text/plain": [
       "<Figure size 432x288 with 1 Axes>"
      ]
     },
     "metadata": {
      "needs_background": "light"
     },
     "output_type": "display_data"
    }
   ],
   "source": [
    "plt.bar(all_switches_start_mb, depth_switch,width=.2) # \n",
    "\n",
    "plt.ylabel(\"Coverage value\")\n",
    "plt.xlabel(\"Genomic position of switch (mb)\")\n",
    "\n",
    "#plt.title(\"High coverage regions\")\n",
    "#plt.show()\n",
    "plt.savefig(\"Coverage_switch_position.png\")"
   ]
  },
  {
   "cell_type": "code",
   "execution_count": null,
   "metadata": {},
   "outputs": [],
   "source": []
  },
  {
   "cell_type": "code",
   "execution_count": 206,
   "metadata": {},
   "outputs": [],
   "source": []
  },
  {
   "cell_type": "code",
   "execution_count": null,
   "metadata": {},
   "outputs": [],
   "source": []
  }
 ],
 "metadata": {
  "kernelspec": {
   "display_name": "Python 3",
   "language": "python",
   "name": "python3"
  },
  "language_info": {
   "codemirror_mode": {
    "name": "ipython",
    "version": 3
   },
   "file_extension": ".py",
   "mimetype": "text/x-python",
   "name": "python",
   "nbconvert_exporter": "python",
   "pygments_lexer": "ipython3",
   "version": "3.7.8"
  }
 },
 "nbformat": 4,
 "nbformat_minor": 4
}
